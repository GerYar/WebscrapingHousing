{
 "cells": [
  {
   "cell_type": "code",
   "execution_count": 1,
   "id": "63683270",
   "metadata": {},
   "outputs": [],
   "source": [
    "import os #Para usar elementos del teclado como el enter\n",
    "import requests #para hacer el requerimiento al servidor\n",
    "from bs4 import BeautifulSoup #para localizar elementos html que devuelve peticion\n",
    "from selenium import webdriver\n",
    "from selenium.webdriver.common.by import By #para usar el localizador que vamos usar, en este caso xpath\n",
    "from selenium.webdriver.common.keys import Keys #para enviar elementos a la pagina web\n",
    "from selenium.webdriver.support.ui import WebDriverWait #para poner esperas de tiempo o hasta que se cumple condicion\n",
    "from selenium.webdriver.support import expected_conditions as EC #se usa con webdriverwait\n",
    "import time #para dar laspsos de tiempo a cada proceso"
   ]
  },
  {
   "cell_type": "code",
   "execution_count": 2,
   "id": "00b7ffcb",
   "metadata": {},
   "outputs": [],
   "source": [
    "#abrir navegador en pagina web\n",
    "driver = webdriver.Chrome()#se pone navegador\n",
    "url = 'https://www.mercadolibre.com.mx/'\n",
    "driver.get(url) #para abrir pagina"
   ]
  },
  {
   "cell_type": "code",
   "execution_count": 3,
   "id": "4f4f8cab",
   "metadata": {},
   "outputs": [],
   "source": [
    "# Búsqueda inicial\n",
    "path_palabra = '//*[@id=\"cb1-edit\"]' #identificar xpath y guaradarla en una variable \\\\\\ //*[@id=\"cb1-edit\"] se obtiene de inspeccionar el elemento\n",
    "palabra = WebDriverWait(driver, 20).until(lambda driver: driver.find_element(By.XPATH, path_palabra)) #dar tiempo de espera 20seg e identificar elemento\n",
    "palabra.send_keys('casas Queretaro') #mandamos palabra (como type) que queremos buscar a la pagina web\n",
    "time.sleep(3) #dar un lapso de tiempo\n",
    "palabra.send_keys(Keys.RETURN) #dar enter RETURN es como dar ENTER"
   ]
  },
  {
   "cell_type": "code",
   "execution_count": 4,
   "id": "aae2230d",
   "metadata": {},
   "outputs": [],
   "source": [
    "# aceptar cookies\n",
    "path_cookies = '/html/body/div[2]/div[1]/div/div[2]/button[1]'\n",
    "cookies = WebDriverWait(driver, 20).until(lambda driver: driver.find_element(By.XPATH, path_cookies))\n",
    "cookies.click()\n",
    "time.sleep(3)"
   ]
  },
  {
   "cell_type": "code",
   "execution_count": 5,
   "id": "cfa36ab4",
   "metadata": {},
   "outputs": [],
   "source": [
    "# Bucle para avanzar a la siguiente página 2 veces\n",
    "contador = 0\n",
    "#a = 0\n",
    "Link = []\n",
    "while contador < 1:\n",
    "    time.sleep(4)\n",
    "    # Obtener todo el HTML actualizado después de hacer clic en el botón de siguiente\n",
    "    page_source = driver.page_source #del driver (lo que muestra el navegador) traer todo el html \n",
    "    soup = BeautifulSoup(page_source, 'html.parser') #es mas facil identificar con beautifulsoup\n",
    "\n",
    "    elementos = soup.find_all('a', class_='ui-search-link__title-card') #para buscar todos los elementos que coincidan en el html (variable soup)\n",
    "    # 'a' significa en la equiqueta 'a', y atributo es 'ui-search-link__title-card' que esta dentro de la clase y es donde esta el link\n",
    "    time.sleep(1)\n",
    "    for i in elementos: #iterar para encontrar cada link\n",
    "        href_valor = i.get('href') #obten el 'href' que es donde desta el link\n",
    "        Link.append(href_valor) #agregalo a la lista Link\n",
    "       \n",
    "    #minuto 54, parte1\n",
    "    \n",
    "    #                                                                                           //*[@id=\"root-app\"]/div/div[3]/section/nav/ul/li[12]/a\n",
    "    # Buscar el botón de siguiente por la clase Xpath                                           //*[@id=\"root-app\"]/div/div[3]/section/nav/ul/li[12]/a/span\n",
    "    siguiente = WebDriverWait(driver, 20).until(lambda driver: driver.find_element(By.XPATH, '//*[@id=\"root-app\"]/div/div[3]/section/nav/ul/li[12]/a'))\n",
    "    siguiente.click() #dar click                                                             \n",
    "\n",
    "    contador += 1"
   ]
  },
  {
   "cell_type": "code",
   "execution_count": 6,
   "id": "da5c6504",
   "metadata": {},
   "outputs": [],
   "source": [
    "# Cerrar el navegador al finalizar\n",
    "driver.quit()"
   ]
  },
  {
   "cell_type": "code",
   "execution_count": 7,
   "id": "8ea72496",
   "metadata": {},
   "outputs": [
    {
     "name": "stdout",
     "output_type": "stream",
     "text": [
      "48\n"
     ]
    }
   ],
   "source": [
    "#contar los links de cada producto\n",
    "print(len(Link))"
   ]
  },
  {
   "cell_type": "markdown",
   "id": "6787e076",
   "metadata": {},
   "source": [
    "## Ahora empieza tratamiento datos con Pandas"
   ]
  },
  {
   "cell_type": "code",
   "execution_count": 8,
   "id": "52861841",
   "metadata": {},
   "outputs": [
    {
     "name": "stdout",
     "output_type": "stream",
     "text": [
      "(48, 1)\n"
     ]
    },
    {
     "data": {
      "text/html": [
       "<div>\n",
       "<style scoped>\n",
       "    .dataframe tbody tr th:only-of-type {\n",
       "        vertical-align: middle;\n",
       "    }\n",
       "\n",
       "    .dataframe tbody tr th {\n",
       "        vertical-align: top;\n",
       "    }\n",
       "\n",
       "    .dataframe thead th {\n",
       "        text-align: right;\n",
       "    }\n",
       "</style>\n",
       "<table border=\"1\" class=\"dataframe\">\n",
       "  <thead>\n",
       "    <tr style=\"text-align: right;\">\n",
       "      <th></th>\n",
       "      <th>Link</th>\n",
       "    </tr>\n",
       "  </thead>\n",
       "  <tbody>\n",
       "    <tr>\n",
       "      <th>0</th>\n",
       "      <td>https://casa.mercadolibre.com.mx/MLM-287702021...</td>\n",
       "    </tr>\n",
       "    <tr>\n",
       "      <th>1</th>\n",
       "      <td>https://casa.mercadolibre.com.mx/MLM-201997593...</td>\n",
       "    </tr>\n",
       "    <tr>\n",
       "      <th>2</th>\n",
       "      <td>https://casa.mercadolibre.com.mx/MLM-202005256...</td>\n",
       "    </tr>\n",
       "    <tr>\n",
       "      <th>3</th>\n",
       "      <td>https://casa.mercadolibre.com.mx/MLM-202001471...</td>\n",
       "    </tr>\n",
       "    <tr>\n",
       "      <th>4</th>\n",
       "      <td>https://casa.mercadolibre.com.mx/MLM-202169808...</td>\n",
       "    </tr>\n",
       "    <tr>\n",
       "      <th>5</th>\n",
       "      <td>https://casa.mercadolibre.com.mx/MLM-202178785...</td>\n",
       "    </tr>\n",
       "    <tr>\n",
       "      <th>6</th>\n",
       "      <td>https://casa.mercadolibre.com.mx/MLM-201997594...</td>\n",
       "    </tr>\n",
       "    <tr>\n",
       "      <th>7</th>\n",
       "      <td>https://casa.mercadolibre.com.mx/MLM-202003952...</td>\n",
       "    </tr>\n",
       "    <tr>\n",
       "      <th>8</th>\n",
       "      <td>https://casa.mercadolibre.com.mx/MLM-202000149...</td>\n",
       "    </tr>\n",
       "    <tr>\n",
       "      <th>9</th>\n",
       "      <td>https://casa.mercadolibre.com.mx/MLM-202039820...</td>\n",
       "    </tr>\n",
       "  </tbody>\n",
       "</table>\n",
       "</div>"
      ],
      "text/plain": [
       "                                                Link\n",
       "0  https://casa.mercadolibre.com.mx/MLM-287702021...\n",
       "1  https://casa.mercadolibre.com.mx/MLM-201997593...\n",
       "2  https://casa.mercadolibre.com.mx/MLM-202005256...\n",
       "3  https://casa.mercadolibre.com.mx/MLM-202001471...\n",
       "4  https://casa.mercadolibre.com.mx/MLM-202169808...\n",
       "5  https://casa.mercadolibre.com.mx/MLM-202178785...\n",
       "6  https://casa.mercadolibre.com.mx/MLM-201997594...\n",
       "7  https://casa.mercadolibre.com.mx/MLM-202003952...\n",
       "8  https://casa.mercadolibre.com.mx/MLM-202000149...\n",
       "9  https://casa.mercadolibre.com.mx/MLM-202039820..."
      ]
     },
     "execution_count": 8,
     "metadata": {},
     "output_type": "execute_result"
    }
   ],
   "source": [
    "import pandas as pd\n",
    "resultadosd=[Link]\n",
    "\n",
    "#transponer dataframe\n",
    "df=pd.DataFrame(resultadosd).T\n",
    "# contar elementos\n",
    "print(df.shape)\n",
    "#poner encabezado\n",
    "nuevos_nombres = {\n",
    "    0: 'Link'\n",
    "}\n",
    "\n",
    "\n",
    "df.rename(columns=nuevos_nombres, inplace=True)\n",
    "#df_sin_duplicados = df.drop_duplicates()\n",
    "#print(df_sin_duplicados.shape)\n",
    "\n",
    "#exportar a un excel\n",
    "df.to_excel('data_housing.xlsx')\n",
    "df.head(10)"
   ]
  },
  {
   "cell_type": "markdown",
   "id": "d484a3d8",
   "metadata": {},
   "source": [
    "## Extraccion de elementos a cada link de producto"
   ]
  },
  {
   "cell_type": "code",
   "execution_count": 23,
   "id": "328fdf27",
   "metadata": {},
   "outputs": [
    {
     "name": "stdout",
     "output_type": "stream",
     "text": [
      "48\n",
      "Iteracion: 1\n",
      "Iteracion: 2\n",
      "Iteracion: 3\n",
      "Iteracion: 4\n",
      "Iteracion: 5\n"
     ]
    },
    {
     "ename": "KeyboardInterrupt",
     "evalue": "",
     "output_type": "error",
     "traceback": [
      "\u001b[1;31m---------------------------------------------------------------------------\u001b[0m",
      "\u001b[1;31mKeyboardInterrupt\u001b[0m                         Traceback (most recent call last)",
      "\u001b[1;32m~\\AppData\\Local\\Temp\\ipykernel_13212\\1561922033.py\u001b[0m in \u001b[0;36m<module>\u001b[1;34m\u001b[0m\n\u001b[0;32m     42\u001b[0m \u001b[1;33m\u001b[0m\u001b[0m\n\u001b[0;32m     43\u001b[0m     \u001b[0mdriver\u001b[0m\u001b[1;33m.\u001b[0m\u001b[0mget\u001b[0m\u001b[1;33m(\u001b[0m\u001b[0me\u001b[0m\u001b[1;33m)\u001b[0m\u001b[1;31m# navegador abrir link\u001b[0m\u001b[1;33m\u001b[0m\u001b[1;33m\u001b[0m\u001b[0m\n\u001b[1;32m---> 44\u001b[1;33m     \u001b[0mtime\u001b[0m\u001b[1;33m.\u001b[0m\u001b[0msleep\u001b[0m\u001b[1;33m(\u001b[0m\u001b[1;36m1\u001b[0m\u001b[1;33m)\u001b[0m\u001b[1;33m\u001b[0m\u001b[1;33m\u001b[0m\u001b[0m\n\u001b[0m\u001b[0;32m     45\u001b[0m \u001b[1;33m\u001b[0m\u001b[0m\n\u001b[0;32m     46\u001b[0m     \u001b[0murl\u001b[0m\u001b[1;33m.\u001b[0m\u001b[0mappend\u001b[0m\u001b[1;33m(\u001b[0m\u001b[0me\u001b[0m\u001b[1;33m)\u001b[0m\u001b[1;31m#agregar link en lista url\u001b[0m\u001b[1;33m\u001b[0m\u001b[1;33m\u001b[0m\u001b[0m\n",
      "\u001b[1;31mKeyboardInterrupt\u001b[0m: "
     ]
    }
   ],
   "source": [
    "from selenium import webdriver\n",
    "from selenium.webdriver.chrome.service import Service\n",
    "from webdriver_manager.chrome import ChromeDriverManager\n",
    "from selenium.webdriver.common.by import By\n",
    "from selenium.webdriver.common.keys import Keys\n",
    "from selenium.webdriver.support import expected_conditions as EC\n",
    "from selenium.webdriver.support.ui import WebDriverWait\n",
    "from bs4 import BeautifulSoup\n",
    "import pandas as pd\n",
    "import time\n",
    "\n",
    "service = Service()\n",
    "options = webdriver.ChromeOptions()\n",
    "driver = webdriver.Chrome(service=service, options=options)\n",
    "\n",
    "\n",
    "\n",
    "# leer el excel\n",
    "baselinkproducto = pd.read_excel('data_housing.xlsx')\n",
    "# pasar columna a una lista\n",
    "datalist = baselinkproducto['Link'].tolist()\n",
    "# ver cantidad\n",
    "print(len(datalist))\n",
    "\n",
    "# listas donde se guardara informacion\n",
    "precio=[]\n",
    "#nombre=[]\n",
    "#precio=[]\n",
    "#puntaje=[]\n",
    "#full=[]\n",
    "#vendedor=[]\n",
    "superficie=[]\n",
    "recamaras=[]\n",
    "Superficie_total=[]\n",
    "caracteristicas=[]\n",
    "url=[]\n",
    "\n",
    "a= 0\n",
    "for e in datalist:\n",
    "    a=a+1\n",
    "    print(\"Iteracion:\",a)\n",
    "    \n",
    "    driver.get(e)# navegador abrir link\n",
    "    time.sleep(1)\n",
    "    \n",
    "    url.append(e)#agregar link en lista url\n",
    "    time.sleep(4)\n",
    "\n",
    "    soup = BeautifulSoup(driver.page_source,'lxml') #analizador, se carga todo el html en la varibale soup\n",
    "    try:                                                                                                #//*[@id=\"highlighted_specs_attrs\"]/div[3]/div/span\n",
    "        ver_todas_caract = WebDriverWait(driver, 20).until(lambda driver: driver.find_element(By.XPATH, '//*[@id=\"highlighted_specs_attrs\"]/div[3]/div/span'))\n",
    "        ver_todas_caract.click() #dar click                                                              //*[@id=\"root-app\"]/div/div[3]/section/nav/ul/li[12]/a/span\n",
    "    except:\n",
    "        pass                                                                                            #//*[@id=\"root-app\"]/div/div[3]/section/nav/ul/li[12]/a\n",
    "    \n",
    "    \n",
    "    \n",
    "    \n",
    "    os_caract=soup.find('tbody',class_='andes-table__body')\n",
    "    if os_caract:\n",
    "        caract = os_caract.find_all('tr', class_='andes-table__row ui-vpp-striped-specs__row')\n",
    "        caract_lista=[uni_caract.text for uni_caract in caract]\n",
    "        caracteristicas.append(caract_lista)\n",
    "    else:\n",
    "        caract_lista=['no disponible','no disponible']\n",
    "        caracteristicas.append(caract_lista)\n",
    "    \n",
    "    \n",
    "    \n",
    "    try:                                               #ui-pdp-color--BLACK ui-pdp-size--SMALL ui-pdp-family--REGULAR ui-pdp-label\n",
    "        superficie_elemento  = soup.find_all('span',class_='andes-table__column--value').text\n",
    "        superficie.append(superficie_elemento)\n",
    "    except:\n",
    "        pass\n",
    "    \n",
    "    '''\n",
    "    try:                                               #ui-pdp-color--BLACK ui-pdp-size--SMALL ui-pdp-family--REGULAR ui-pdp-label\n",
    "        superficie_elemento  = soup.find('span',class_='ui-pdp-color--BLACK ui-pdp-size--SMALL ui-pdp-family--REGULAR ui-pdp-label').text\n",
    "        superficie.append(superficie_elemento)\n",
    "    except:\n",
    "        pass\n",
    "    \n",
    "    '''\n",
    "    \n",
    "    try:                                               #ui-pdp-color--BLACK ui-pdp-size--SMALL ui-pdp-family--REGULAR ui-pdp-label\n",
    "        recamaras_elemento  = soup.find_all('span',class_='ui-pdp-color--BLACK ui-pdp-size--SMALL ui-pdp-family--REGULAR ui-pdp-label').text\n",
    "        recamaras.append(recamaras_elemento)\n",
    "    except:\n",
    "        pass\n",
    "    #try:\n",
    "     #   Superficie_total_ele = driver.find_element(By.XPATH, '//*[@id=\":Rkouleba9im:\"]/span')\n",
    "      #  Superficie_total_ele2=Superficie_total_ele.text\n",
    "       # Superficie_total.append(Superficie_total_ele2)\n",
    "    #except:\n",
    "     #   pass\n",
    "    \n",
    "    '''\n",
    "    #precio_casa  = soup.find('div',class_='ui-pdp-header__subtitle').text #buscar en variable soup un elemento, en este caso 'mas vendido'\n",
    "    #precio.append(precio_casa) #se agrega el elemento del tipo text en la lista\n",
    "         \n",
    "    Capturar superficie elemento\n",
    "    try:                                               #ui-pdp-color--BLACK ui-pdp-size--SMALL ui-pdp-family--REGULAR ui-pdp-label\n",
    "        superficie_elemento  = soup.find('span',class_='ui-pdp-color--BLACK ui-pdp-size--SMALL ui-pdp-family--REGULAR ui-pdp-label').text\n",
    "        superficie.append(superficie_elemento)\n",
    "    except:\n",
    "        pass\n",
    "    \n",
    "    \n",
    "    #puntaje_elemento  = soup.find('span',class_='ui-pdp-review__rating').text\n",
    "    #puntaje.append(puntaje_elemento)\n",
    "    \n",
    "    Capturar elemento precio\n",
    "    try:\n",
    "        precio_elemento  = soup.find('span',class_='andes-money-amount__fraction').text\n",
    "        precio.append(precio_elemento)\n",
    "    except:# IndexError:\n",
    "        pass\n",
    "    \n",
    "    \n",
    "    nombre_elemento  = soup.find('h1',class_='ui-pdp-title').text\n",
    "    nombre.append(nombre_elemento)\n",
    "\n",
    "\n",
    "    full_elemento  = soup.find('span',class_='ui-pdp-promotions-pill-label__text').text\n",
    "    full.append(full_elemento + \" \" + \"Full\")\n",
    "    \n",
    " \n",
    "    vendedor_elemento  = soup.find('span',class_='ui-pdp-color--BLUE ui-pdp-family--REGULAR').text\n",
    "    vendedor.append(vendedor_elemento)\n",
    "    '''"
   ]
  },
  {
   "cell_type": "code",
   "execution_count": 28,
   "id": "dcb18edb",
   "metadata": {},
   "outputs": [
    {
     "data": {
      "text/plain": [
       "[['no disponible', 'no disponible'],\n",
       " ['Superficie total145 m²',\n",
       "  'Superficie construida0 m²',\n",
       "  'Ambientes0',\n",
       "  'Recámaras3',\n",
       "  'Baños2',\n",
       "  'Estacionamientos3',\n",
       "  'Cantidad de pisos3',\n",
       "  'Antigüedad0 años',\n",
       "  'Mantenimiento1192 MXN'],\n",
       " ['Superficie total955 m²',\n",
       "  'Superficie construida0 m²',\n",
       "  'Ambientes0',\n",
       "  'Recámaras3',\n",
       "  'Baños1',\n",
       "  'Estacionamientos5',\n",
       "  'Cantidad de pisos2',\n",
       "  'Antigüedad0 años',\n",
       "  'Mantenimiento100 MXN'],\n",
       " ['Superficie total230 m²',\n",
       "  'Superficie construida0 m²',\n",
       "  'Ambientes9',\n",
       "  'Recámaras4',\n",
       "  'Baños3',\n",
       "  'Estacionamientos3',\n",
       "  'Cantidad de pisos3',\n",
       "  'Antigüedad0 años',\n",
       "  'Mantenimiento0 MXN']]"
      ]
     },
     "execution_count": 28,
     "metadata": {},
     "output_type": "execute_result"
    }
   ],
   "source": [
    "caracteristicas"
   ]
  },
  {
   "cell_type": "code",
   "execution_count": 25,
   "id": "9d767a82",
   "metadata": {},
   "outputs": [
    {
     "data": {
      "text/plain": [
       "[]"
      ]
     },
     "execution_count": 25,
     "metadata": {},
     "output_type": "execute_result"
    }
   ],
   "source": [
    "recamaras"
   ]
  },
  {
   "cell_type": "code",
   "execution_count": 26,
   "id": "1ea08839",
   "metadata": {},
   "outputs": [
    {
     "data": {
      "text/plain": [
       "0"
      ]
     },
     "execution_count": 26,
     "metadata": {},
     "output_type": "execute_result"
    }
   ],
   "source": [
    "len(Superficie_total)"
   ]
  },
  {
   "cell_type": "code",
   "execution_count": 27,
   "id": "e377bbb4",
   "metadata": {},
   "outputs": [
    {
     "ename": "NameError",
     "evalue": "name 'Superficie_total_ele' is not defined",
     "output_type": "error",
     "traceback": [
      "\u001b[1;31m---------------------------------------------------------------------------\u001b[0m",
      "\u001b[1;31mNameError\u001b[0m                                 Traceback (most recent call last)",
      "\u001b[1;32m~\\AppData\\Local\\Temp\\ipykernel_13212\\1372042728.py\u001b[0m in \u001b[0;36m<module>\u001b[1;34m\u001b[0m\n\u001b[1;32m----> 1\u001b[1;33m \u001b[0mSuperficie_total_ele\u001b[0m\u001b[1;33m\u001b[0m\u001b[1;33m\u001b[0m\u001b[0m\n\u001b[0m",
      "\u001b[1;31mNameError\u001b[0m: name 'Superficie_total_ele' is not defined"
     ]
    }
   ],
   "source": [
    "Superficie_total_ele"
   ]
  },
  {
   "cell_type": "code",
   "execution_count": null,
   "id": "9168f395",
   "metadata": {},
   "outputs": [],
   "source": [
    "import pandas as pd\n",
    "#resultadosd=[mas_vendido,nombre,precio,puntaje,full,vendedor,url]\n",
    "resultadosd=[precio]\n",
    "'''\n",
    "df=pd.DataFrame(resultadosd).T\n",
    "print(df.shape)\n",
    "nuevos_nombres = {\n",
    "    0: 'MASVENDIDO',\n",
    "    1: 'NOMBRE',\n",
    "    2: 'PRECIO',\n",
    "    3: 'PUNTAJE',\n",
    "    4: 'FULL',\n",
    "    5: 'VENDEDOR',\n",
    "    6: 'URL'\n",
    "}\n",
    "'''\n",
    "df=pd.DataFrame(resultadosd).T\n",
    "print(df.shape)\n",
    "nuevos_nombres = {\n",
    "    0: 'PRECIO'\n",
    "}\n",
    "\n",
    "\n",
    "df.rename(columns=nuevos_nombres, inplace=True)\n",
    "#df_sin_duplicados = df.drop_duplicates()\n",
    "#print(df_sin_duplicados.shape)\n",
    "df.to_excel('resultados_extraido_housing.xlsx')\n",
    "df.tail(10)"
   ]
  },
  {
   "cell_type": "code",
   "execution_count": null,
   "id": "3921947e",
   "metadata": {},
   "outputs": [],
   "source": []
  }
 ],
 "metadata": {
  "kernelspec": {
   "display_name": "Python 3 (ipykernel)",
   "language": "python",
   "name": "python3"
  },
  "language_info": {
   "codemirror_mode": {
    "name": "ipython",
    "version": 3
   },
   "file_extension": ".py",
   "mimetype": "text/x-python",
   "name": "python",
   "nbconvert_exporter": "python",
   "pygments_lexer": "ipython3",
   "version": "3.9.13"
  }
 },
 "nbformat": 4,
 "nbformat_minor": 5
}
