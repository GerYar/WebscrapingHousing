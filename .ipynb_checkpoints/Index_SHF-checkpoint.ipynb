{
 "cells": [
  {
   "cell_type": "code",
   "execution_count": 1,
   "id": "756b043b",
   "metadata": {},
   "outputs": [],
   "source": [
    "import pandas as pd\n",
    "df = pd.read_excel('Indice SHF datos abiertos 4_trim_2023.xlsx')"
   ]
  },
  {
   "cell_type": "code",
   "execution_count": 2,
   "id": "3f5d85ed",
   "metadata": {},
   "outputs": [
    {
     "data": {
      "text/html": [
       "<div>\n",
       "<style scoped>\n",
       "    .dataframe tbody tr th:only-of-type {\n",
       "        vertical-align: middle;\n",
       "    }\n",
       "\n",
       "    .dataframe tbody tr th {\n",
       "        vertical-align: top;\n",
       "    }\n",
       "\n",
       "    .dataframe thead th {\n",
       "        text-align: right;\n",
       "    }\n",
       "</style>\n",
       "<table border=\"1\" class=\"dataframe\">\n",
       "  <thead>\n",
       "    <tr style=\"text-align: right;\">\n",
       "      <th></th>\n",
       "      <th>Consecutivo</th>\n",
       "      <th>Global</th>\n",
       "      <th>Estado</th>\n",
       "      <th>Municipio</th>\n",
       "      <th>Trimestre</th>\n",
       "      <th>Año</th>\n",
       "      <th>Indice</th>\n",
       "    </tr>\n",
       "  </thead>\n",
       "  <tbody>\n",
       "    <tr>\n",
       "      <th>0</th>\n",
       "      <td>1</td>\n",
       "      <td>Nacional</td>\n",
       "      <td>NaN</td>\n",
       "      <td>NaN</td>\n",
       "      <td>1</td>\n",
       "      <td>2005</td>\n",
       "      <td>48.47</td>\n",
       "    </tr>\n",
       "    <tr>\n",
       "      <th>1</th>\n",
       "      <td>2</td>\n",
       "      <td>Nueva</td>\n",
       "      <td>NaN</td>\n",
       "      <td>NaN</td>\n",
       "      <td>1</td>\n",
       "      <td>2005</td>\n",
       "      <td>48.20</td>\n",
       "    </tr>\n",
       "    <tr>\n",
       "      <th>2</th>\n",
       "      <td>3</td>\n",
       "      <td>Usada</td>\n",
       "      <td>NaN</td>\n",
       "      <td>NaN</td>\n",
       "      <td>1</td>\n",
       "      <td>2005</td>\n",
       "      <td>48.76</td>\n",
       "    </tr>\n",
       "    <tr>\n",
       "      <th>3</th>\n",
       "      <td>4</td>\n",
       "      <td>Casa sola</td>\n",
       "      <td>NaN</td>\n",
       "      <td>NaN</td>\n",
       "      <td>1</td>\n",
       "      <td>2005</td>\n",
       "      <td>49.08</td>\n",
       "    </tr>\n",
       "    <tr>\n",
       "      <th>4</th>\n",
       "      <td>5</td>\n",
       "      <td>Casa en condominio - depto.</td>\n",
       "      <td>NaN</td>\n",
       "      <td>NaN</td>\n",
       "      <td>1</td>\n",
       "      <td>2005</td>\n",
       "      <td>47.79</td>\n",
       "    </tr>\n",
       "  </tbody>\n",
       "</table>\n",
       "</div>"
      ],
      "text/plain": [
       "   Consecutivo                       Global Estado Municipio  Trimestre   Año  \\\n",
       "0            1                     Nacional    NaN       NaN          1  2005   \n",
       "1            2                        Nueva    NaN       NaN          1  2005   \n",
       "2            3                        Usada    NaN       NaN          1  2005   \n",
       "3            4                    Casa sola    NaN       NaN          1  2005   \n",
       "4            5  Casa en condominio - depto.    NaN       NaN          1  2005   \n",
       "\n",
       "   Indice  \n",
       "0   48.47  \n",
       "1   48.20  \n",
       "2   48.76  \n",
       "3   49.08  \n",
       "4   47.79  "
      ]
     },
     "execution_count": 2,
     "metadata": {},
     "output_type": "execute_result"
    }
   ],
   "source": [
    "df.head(5)"
   ]
  },
  {
   "cell_type": "code",
   "execution_count": 3,
   "id": "18ebd09f",
   "metadata": {},
   "outputs": [
    {
     "data": {
      "text/html": [
       "<div>\n",
       "<style scoped>\n",
       "    .dataframe tbody tr th:only-of-type {\n",
       "        vertical-align: middle;\n",
       "    }\n",
       "\n",
       "    .dataframe tbody tr th {\n",
       "        vertical-align: top;\n",
       "    }\n",
       "\n",
       "    .dataframe thead th {\n",
       "        text-align: right;\n",
       "    }\n",
       "</style>\n",
       "<table border=\"1\" class=\"dataframe\">\n",
       "  <thead>\n",
       "    <tr style=\"text-align: right;\">\n",
       "      <th></th>\n",
       "      <th>Consecutivo</th>\n",
       "      <th>Global</th>\n",
       "      <th>Estado</th>\n",
       "      <th>Municipio</th>\n",
       "      <th>Trimestre</th>\n",
       "      <th>Año</th>\n",
       "      <th>Indice</th>\n",
       "    </tr>\n",
       "  </thead>\n",
       "  <tbody>\n",
       "    <tr>\n",
       "      <th>9191</th>\n",
       "      <td>9192</td>\n",
       "      <td>NaN</td>\n",
       "      <td>Veracruz</td>\n",
       "      <td>Veracruz</td>\n",
       "      <td>4</td>\n",
       "      <td>2023</td>\n",
       "      <td>165.21</td>\n",
       "    </tr>\n",
       "    <tr>\n",
       "      <th>9192</th>\n",
       "      <td>9193</td>\n",
       "      <td>NaN</td>\n",
       "      <td>Yucatán</td>\n",
       "      <td>Kanasín</td>\n",
       "      <td>4</td>\n",
       "      <td>2023</td>\n",
       "      <td>164.72</td>\n",
       "    </tr>\n",
       "    <tr>\n",
       "      <th>9193</th>\n",
       "      <td>9194</td>\n",
       "      <td>NaN</td>\n",
       "      <td>Yucatán</td>\n",
       "      <td>Mérida</td>\n",
       "      <td>4</td>\n",
       "      <td>2023</td>\n",
       "      <td>171.65</td>\n",
       "    </tr>\n",
       "    <tr>\n",
       "      <th>9194</th>\n",
       "      <td>9195</td>\n",
       "      <td>NaN</td>\n",
       "      <td>Zacatecas</td>\n",
       "      <td>Guadalupe</td>\n",
       "      <td>4</td>\n",
       "      <td>2023</td>\n",
       "      <td>153.13</td>\n",
       "    </tr>\n",
       "    <tr>\n",
       "      <th>9195</th>\n",
       "      <td>9196</td>\n",
       "      <td>NaN</td>\n",
       "      <td>Zacatecas</td>\n",
       "      <td>Zacatecas</td>\n",
       "      <td>4</td>\n",
       "      <td>2023</td>\n",
       "      <td>153.00</td>\n",
       "    </tr>\n",
       "  </tbody>\n",
       "</table>\n",
       "</div>"
      ],
      "text/plain": [
       "      Consecutivo Global     Estado   Municipio  Trimestre   Año  Indice\n",
       "9191         9192    NaN   Veracruz    Veracruz          4  2023  165.21\n",
       "9192         9193    NaN    Yucatán    Kanasín           4  2023  164.72\n",
       "9193         9194    NaN    Yucatán      Mérida          4  2023  171.65\n",
       "9194         9195    NaN  Zacatecas   Guadalupe          4  2023  153.13\n",
       "9195         9196    NaN  Zacatecas  Zacatecas           4  2023  153.00"
      ]
     },
     "execution_count": 3,
     "metadata": {},
     "output_type": "execute_result"
    }
   ],
   "source": [
    "df.tail(5)"
   ]
  },
  {
   "cell_type": "code",
   "execution_count": 4,
   "id": "db86cbaa",
   "metadata": {},
   "outputs": [
    {
     "name": "stdout",
     "output_type": "stream",
     "text": [
      "<class 'pandas.core.frame.DataFrame'>\n",
      "RangeIndex: 9196 entries, 0 to 9195\n",
      "Data columns (total 7 columns):\n",
      " #   Column       Non-Null Count  Dtype  \n",
      "---  ------       --------------  -----  \n",
      " 0   Consecutivo  9196 non-null   int64  \n",
      " 1   Global       1140 non-null   object \n",
      " 2   Estado       8056 non-null   object \n",
      " 3   Municipio    5624 non-null   object \n",
      " 4   Trimestre    9196 non-null   int64  \n",
      " 5   Año          9196 non-null   int64  \n",
      " 6   Indice       9196 non-null   float64\n",
      "dtypes: float64(1), int64(3), object(3)\n",
      "memory usage: 503.0+ KB\n"
     ]
    }
   ],
   "source": [
    "df.info()"
   ]
  },
  {
   "cell_type": "code",
   "execution_count": 5,
   "id": "0b3be134",
   "metadata": {},
   "outputs": [
    {
     "data": {
      "text/html": [
       "<div>\n",
       "<style scoped>\n",
       "    .dataframe tbody tr th:only-of-type {\n",
       "        vertical-align: middle;\n",
       "    }\n",
       "\n",
       "    .dataframe tbody tr th {\n",
       "        vertical-align: top;\n",
       "    }\n",
       "\n",
       "    .dataframe thead th {\n",
       "        text-align: right;\n",
       "    }\n",
       "</style>\n",
       "<table border=\"1\" class=\"dataframe\">\n",
       "  <thead>\n",
       "    <tr style=\"text-align: right;\">\n",
       "      <th></th>\n",
       "      <th>Consecutivo</th>\n",
       "      <th>Global</th>\n",
       "      <th>Estado</th>\n",
       "      <th>Municipio</th>\n",
       "      <th>Trimestre</th>\n",
       "      <th>Año</th>\n",
       "      <th>Indice</th>\n",
       "    </tr>\n",
       "  </thead>\n",
       "  <tbody>\n",
       "    <tr>\n",
       "      <th>0</th>\n",
       "      <td>1</td>\n",
       "      <td>Nacional</td>\n",
       "      <td>NaN</td>\n",
       "      <td>NaN</td>\n",
       "      <td>1</td>\n",
       "      <td>2005</td>\n",
       "      <td>48.47</td>\n",
       "    </tr>\n",
       "    <tr>\n",
       "      <th>121</th>\n",
       "      <td>122</td>\n",
       "      <td>Nacional</td>\n",
       "      <td>NaN</td>\n",
       "      <td>NaN</td>\n",
       "      <td>2</td>\n",
       "      <td>2005</td>\n",
       "      <td>50.15</td>\n",
       "    </tr>\n",
       "    <tr>\n",
       "      <th>242</th>\n",
       "      <td>243</td>\n",
       "      <td>Nacional</td>\n",
       "      <td>NaN</td>\n",
       "      <td>NaN</td>\n",
       "      <td>3</td>\n",
       "      <td>2005</td>\n",
       "      <td>51.10</td>\n",
       "    </tr>\n",
       "    <tr>\n",
       "      <th>363</th>\n",
       "      <td>364</td>\n",
       "      <td>Nacional</td>\n",
       "      <td>NaN</td>\n",
       "      <td>NaN</td>\n",
       "      <td>4</td>\n",
       "      <td>2005</td>\n",
       "      <td>50.99</td>\n",
       "    </tr>\n",
       "    <tr>\n",
       "      <th>484</th>\n",
       "      <td>485</td>\n",
       "      <td>Nacional</td>\n",
       "      <td>NaN</td>\n",
       "      <td>NaN</td>\n",
       "      <td>1</td>\n",
       "      <td>2006</td>\n",
       "      <td>52.09</td>\n",
       "    </tr>\n",
       "  </tbody>\n",
       "</table>\n",
       "</div>"
      ],
      "text/plain": [
       "     Consecutivo    Global Estado Municipio  Trimestre   Año  Indice\n",
       "0              1  Nacional    NaN       NaN          1  2005   48.47\n",
       "121          122  Nacional    NaN       NaN          2  2005   50.15\n",
       "242          243  Nacional    NaN       NaN          3  2005   51.10\n",
       "363          364  Nacional    NaN       NaN          4  2005   50.99\n",
       "484          485  Nacional    NaN       NaN          1  2006   52.09"
      ]
     },
     "execution_count": 5,
     "metadata": {},
     "output_type": "execute_result"
    }
   ],
   "source": [
    "df_nacional = df[df['Global']=='Nacional']\n",
    "df_nacional.head(5)"
   ]
  },
  {
   "cell_type": "code",
   "execution_count": 6,
   "id": "e66e0d6d",
   "metadata": {},
   "outputs": [
    {
     "data": {
      "text/html": [
       "<div>\n",
       "<style scoped>\n",
       "    .dataframe tbody tr th:only-of-type {\n",
       "        vertical-align: middle;\n",
       "    }\n",
       "\n",
       "    .dataframe tbody tr th {\n",
       "        vertical-align: top;\n",
       "    }\n",
       "\n",
       "    .dataframe thead th {\n",
       "        text-align: right;\n",
       "    }\n",
       "</style>\n",
       "<table border=\"1\" class=\"dataframe\">\n",
       "  <thead>\n",
       "    <tr style=\"text-align: right;\">\n",
       "      <th></th>\n",
       "      <th>Trimestre</th>\n",
       "      <th>Año</th>\n",
       "      <th>Indice</th>\n",
       "    </tr>\n",
       "  </thead>\n",
       "  <tbody>\n",
       "    <tr>\n",
       "      <th>0</th>\n",
       "      <td>1</td>\n",
       "      <td>2005</td>\n",
       "      <td>48.47</td>\n",
       "    </tr>\n",
       "    <tr>\n",
       "      <th>121</th>\n",
       "      <td>2</td>\n",
       "      <td>2005</td>\n",
       "      <td>50.15</td>\n",
       "    </tr>\n",
       "    <tr>\n",
       "      <th>242</th>\n",
       "      <td>3</td>\n",
       "      <td>2005</td>\n",
       "      <td>51.10</td>\n",
       "    </tr>\n",
       "    <tr>\n",
       "      <th>363</th>\n",
       "      <td>4</td>\n",
       "      <td>2005</td>\n",
       "      <td>50.99</td>\n",
       "    </tr>\n",
       "    <tr>\n",
       "      <th>484</th>\n",
       "      <td>1</td>\n",
       "      <td>2006</td>\n",
       "      <td>52.09</td>\n",
       "    </tr>\n",
       "    <tr>\n",
       "      <th>...</th>\n",
       "      <td>...</td>\n",
       "      <td>...</td>\n",
       "      <td>...</td>\n",
       "    </tr>\n",
       "    <tr>\n",
       "      <th>8591</th>\n",
       "      <td>4</td>\n",
       "      <td>2022</td>\n",
       "      <td>152.66</td>\n",
       "    </tr>\n",
       "    <tr>\n",
       "      <th>8712</th>\n",
       "      <td>1</td>\n",
       "      <td>2023</td>\n",
       "      <td>157.59</td>\n",
       "    </tr>\n",
       "    <tr>\n",
       "      <th>8833</th>\n",
       "      <td>2</td>\n",
       "      <td>2023</td>\n",
       "      <td>161.41</td>\n",
       "    </tr>\n",
       "    <tr>\n",
       "      <th>8954</th>\n",
       "      <td>3</td>\n",
       "      <td>2023</td>\n",
       "      <td>164.70</td>\n",
       "    </tr>\n",
       "    <tr>\n",
       "      <th>9075</th>\n",
       "      <td>4</td>\n",
       "      <td>2023</td>\n",
       "      <td>168.02</td>\n",
       "    </tr>\n",
       "  </tbody>\n",
       "</table>\n",
       "<p>76 rows × 3 columns</p>\n",
       "</div>"
      ],
      "text/plain": [
       "      Trimestre   Año  Indice\n",
       "0             1  2005   48.47\n",
       "121           2  2005   50.15\n",
       "242           3  2005   51.10\n",
       "363           4  2005   50.99\n",
       "484           1  2006   52.09\n",
       "...         ...   ...     ...\n",
       "8591          4  2022  152.66\n",
       "8712          1  2023  157.59\n",
       "8833          2  2023  161.41\n",
       "8954          3  2023  164.70\n",
       "9075          4  2023  168.02\n",
       "\n",
       "[76 rows x 3 columns]"
      ]
     },
     "execution_count": 6,
     "metadata": {},
     "output_type": "execute_result"
    }
   ],
   "source": [
    "df_nacional = df_nacional.drop(['Consecutivo','Global','Estado','Municipio'],axis=1)\n",
    "df_nacional"
   ]
  },
  {
   "cell_type": "code",
   "execution_count": 7,
   "id": "6d02a608",
   "metadata": {},
   "outputs": [],
   "source": [
    "df_nacional.reset_index(drop=True, inplace=True)"
   ]
  },
  {
   "cell_type": "code",
   "execution_count": 8,
   "id": "fc732262",
   "metadata": {},
   "outputs": [],
   "source": [
    "#df_nacional[\"Quarter\"] = df_nacional.apply(lambda row:'T'+ str(row[\"Trimestre\"])[:-2]+ '-' + str(row[\"Año\"])[:-2], axis=1)"
   ]
  },
  {
   "cell_type": "code",
   "execution_count": 9,
   "id": "18fefcdb",
   "metadata": {},
   "outputs": [],
   "source": [
    "import matplotlib.pyplot as plt"
   ]
  },
  {
   "cell_type": "code",
   "execution_count": 10,
   "id": "51b3043a",
   "metadata": {},
   "outputs": [],
   "source": [
    "means = []\n",
    "for i in range(0, len(df_nacional), 4):\n",
    "    means.append(df_nacional['Indice'][i:i+4].mean())\n",
    "\n",
    "#df_promedio = pd.DataFrame(promedios, columns=['Promedio'])\n"
   ]
  },
  {
   "cell_type": "code",
   "execution_count": 11,
   "id": "5bf901d1",
   "metadata": {},
   "outputs": [],
   "source": [
    "years = []\n",
    "for i in range(2005, 2005+len(means)):\n",
    "    years.append(i)"
   ]
  },
  {
   "cell_type": "code",
   "execution_count": 12,
   "id": "cf6106b5",
   "metadata": {},
   "outputs": [],
   "source": [
    "dicti = {'Years':years, 'Mean_index': means}\n",
    "df = pd.DataFrame(dicti)\n",
    "df['Years'] = df['Years'].astype(str)\n"
   ]
  },
  {
   "cell_type": "code",
   "execution_count": 22,
   "id": "4e61d132",
   "metadata": {},
   "outputs": [
    {
     "data": {
      "image/png": "[encoded data removed]",
      "text/plain": [
       "<Figure size 1500x500 with 1 Axes>"
      ]
     },
     "metadata": {},
     "output_type": "display_data"
    }
   ],
   "source": [
    "plt.style.use('bmh')\n",
    "fig, ax = plt.subplots()\n",
    "fig.set_size_inches([15,5])\n",
    "\n",
    "ax.plot(df['Years'],\n",
    "       df['Mean_index'],\n",
    "       marker='v',\n",
    "       linestyle ='--')\n",
    "plt.xticks(rotation=90)\n",
    "\n",
    "ax.set_xlabel('Years')\n",
    "ax.set_ylabel('Index')\n",
    "ax.set_title('Behavior of National Index from 2005 to 2023')\n",
    "\n",
    "plt.show()"
   ]
  },
  {
   "cell_type": "code",
   "execution_count": 18,
   "id": "7a215aa7",
   "metadata": {},
   "outputs": [],
   "source": [
    "x = [1,2,3,4,5]"
   ]
  },
  {
   "cell_type": "code",
   "execution_count": 21,
   "id": "dc37d3af",
   "metadata": {},
   "outputs": [
    {
     "ename": "NameError",
     "evalue": "name 'mean' is not defined",
     "output_type": "error",
     "traceback": [
      "\u001b[1;31m---------------------------------------------------------------------------\u001b[0m",
      "\u001b[1;31mNameError\u001b[0m                                 Traceback (most recent call last)",
      "\u001b[1;32m~\\AppData\\Local\\Temp\\ipykernel_15068\\703144658.py\u001b[0m in \u001b[0;36m<module>\u001b[1;34m\u001b[0m\n\u001b[1;32m----> 1\u001b[1;33m \u001b[0mmean\u001b[0m\u001b[1;33m(\u001b[0m\u001b[0mx\u001b[0m\u001b[1;33m)\u001b[0m\u001b[1;33m\u001b[0m\u001b[1;33m\u001b[0m\u001b[0m\n\u001b[0m",
      "\u001b[1;31mNameError\u001b[0m: name 'mean' is not defined"
     ]
    }
   ],
   "source": []
  },
  {
   "cell_type": "markdown",
   "id": "37530b6d",
   "metadata": {},
   "source": [
    "Source:\n",
    "* https://transparencia.shf.gob.mx/sitepages/IndicePV.aspx"
   ]
  },
  {
   "cell_type": "markdown",
   "id": "61221d75",
   "metadata": {},
   "source": [
    "https://www.gob.mx/conasami/documentos/evolucion-del-salario-minimo\n",
    "https://mx.talent.com/salary?job=vivienda#:~:text=El%20salario%20vivienda%20promedio%20en,perciben%20hasta%20%24%20276%2C000%20al%20a%C3%B1o.\n",
    "https://www.eleconomista.com.mx/econohabitat/Crisis-de-vivienda-Hay-un-desequilibrio-entre-salarios-precios-y-produccion-habitacional-20240306-0149.html"
   ]
  },
  {
   "cell_type": "code",
   "execution_count": null,
   "id": "56018ce5",
   "metadata": {},
   "outputs": [],
   "source": []
  }
 ],
 "metadata": {
  "kernelspec": {
   "display_name": "Python 3 (ipykernel)",
   "language": "python",
   "name": "python3"
  },
  "language_info": {
   "codemirror_mode": {
    "name": "ipython",
    "version": 3
   },
   "file_extension": ".py",
   "mimetype": "text/x-python",
   "name": "python",
   "nbconvert_exporter": "python",
   "pygments_lexer": "ipython3",
   "version": "3.9.13"
  }
 },
 "nbformat": 4,
 "nbformat_minor": 5
}
