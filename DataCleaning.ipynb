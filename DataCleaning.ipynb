{
 "cells": [
  {
   "cell_type": "code",
   "execution_count": 22,
   "id": "f8828d38",
   "metadata": {},
   "outputs": [],
   "source": [
    "import pandas as pd"
   ]
  },
  {
   "cell_type": "code",
   "execution_count": 23,
   "id": "5e15b514",
   "metadata": {},
   "outputs": [
    {
     "data": {
      "text/html": [
       "<div>\n",
       "<style scoped>\n",
       "    .dataframe tbody tr th:only-of-type {\n",
       "        vertical-align: middle;\n",
       "    }\n",
       "\n",
       "    .dataframe tbody tr th {\n",
       "        vertical-align: top;\n",
       "    }\n",
       "\n",
       "    .dataframe thead th {\n",
       "        text-align: right;\n",
       "    }\n",
       "</style>\n",
       "<table border=\"1\" class=\"dataframe\">\n",
       "  <thead>\n",
       "    <tr style=\"text-align: right;\">\n",
       "      <th></th>\n",
       "      <th>Unnamed: 0</th>\n",
       "      <th>House</th>\n",
       "      <th>Price</th>\n",
       "      <th>Ubication</th>\n",
       "      <th>Features</th>\n",
       "    </tr>\n",
       "  </thead>\n",
       "  <tbody>\n",
       "    <tr>\n",
       "      <th>0</th>\n",
       "      <td>0</td>\n",
       "      <td>Casa Estilo Californiano En Zona Céntrica A 5m...</td>\n",
       "      <td>5,800,000</td>\n",
       "      <td>Colinas Del Parque, Querétaro, QuerétaroVer in...</td>\n",
       "      <td>[]</td>\n",
       "    </tr>\n",
       "    <tr>\n",
       "      <th>1</th>\n",
       "      <td>1</td>\n",
       "      <td>Casa Minimalista En Venta</td>\n",
       "      <td>5,650,000</td>\n",
       "      <td>Juriquilla, Querétaro, QuerétaroVer informació...</td>\n",
       "      <td>['Superficie total286 m²', 'Superficie constru...</td>\n",
       "    </tr>\n",
       "    <tr>\n",
       "      <th>2</th>\n",
       "      <td>2</td>\n",
       "      <td>Casa En Venta En Las Haciendas En Ciudad Del Sol</td>\n",
       "      <td>1,595,000</td>\n",
       "      <td>Casa En Venta En Las Haciendas En Ciudad Del S...</td>\n",
       "      <td>['Superficie total69 m²', 'Superficie construi...</td>\n",
       "    </tr>\n",
       "    <tr>\n",
       "      <th>3</th>\n",
       "      <td>3</td>\n",
       "      <td>Casa En Venta En Altozano</td>\n",
       "      <td>11,190,000</td>\n",
       "      <td>Casa En Venta En Altozano, Querétaro, Querétar...</td>\n",
       "      <td>['Superficie total370 m²', 'Superficie constru...</td>\n",
       "    </tr>\n",
       "    <tr>\n",
       "      <th>4</th>\n",
       "      <td>4</td>\n",
       "      <td>Iluminada Y Cómoda Casa Oportunidad La Joya Sa...</td>\n",
       "      <td>790,000</td>\n",
       "      <td>Blvd. Dolores Del Río, La Joya, Querétaro, Que...</td>\n",
       "      <td>['Superficie total150 m²', 'Superficie constru...</td>\n",
       "    </tr>\n",
       "  </tbody>\n",
       "</table>\n",
       "</div>"
      ],
      "text/plain": [
       "   Unnamed: 0                                              House       Price  \\\n",
       "0           0  Casa Estilo Californiano En Zona Céntrica A 5m...   5,800,000   \n",
       "1           1                          Casa Minimalista En Venta   5,650,000   \n",
       "2           2   Casa En Venta En Las Haciendas En Ciudad Del Sol   1,595,000   \n",
       "3           3                          Casa En Venta En Altozano  11,190,000   \n",
       "4           4  Iluminada Y Cómoda Casa Oportunidad La Joya Sa...     790,000   \n",
       "\n",
       "                                           Ubication  \\\n",
       "0  Colinas Del Parque, Querétaro, QuerétaroVer in...   \n",
       "1  Juriquilla, Querétaro, QuerétaroVer informació...   \n",
       "2  Casa En Venta En Las Haciendas En Ciudad Del S...   \n",
       "3  Casa En Venta En Altozano, Querétaro, Querétar...   \n",
       "4  Blvd. Dolores Del Río, La Joya, Querétaro, Que...   \n",
       "\n",
       "                                            Features  \n",
       "0                                                 []  \n",
       "1  ['Superficie total286 m²', 'Superficie constru...  \n",
       "2  ['Superficie total69 m²', 'Superficie construi...  \n",
       "3  ['Superficie total370 m²', 'Superficie constru...  \n",
       "4  ['Superficie total150 m²', 'Superficie constru...  "
      ]
     },
     "execution_count": 23,
     "metadata": {},
     "output_type": "execute_result"
    }
   ],
   "source": [
    "df = pd.read_csv('C:/Users/Pc/Documents/Housing_Queretaro/WebscrapingHousing/archive_COMPLETED.csv')\n",
    "df.head()\n"
   ]
  },
  {
   "cell_type": "markdown",
   "id": "b48ea9cd",
   "metadata": {},
   "source": [
    "Delete 'Unnamed: 0' column from dataframe"
   ]
  },
  {
   "cell_type": "code",
   "execution_count": 24,
   "id": "4c189a86",
   "metadata": {},
   "outputs": [
    {
     "data": {
      "text/html": [
       "<div>\n",
       "<style scoped>\n",
       "    .dataframe tbody tr th:only-of-type {\n",
       "        vertical-align: middle;\n",
       "    }\n",
       "\n",
       "    .dataframe tbody tr th {\n",
       "        vertical-align: top;\n",
       "    }\n",
       "\n",
       "    .dataframe thead th {\n",
       "        text-align: right;\n",
       "    }\n",
       "</style>\n",
       "<table border=\"1\" class=\"dataframe\">\n",
       "  <thead>\n",
       "    <tr style=\"text-align: right;\">\n",
       "      <th></th>\n",
       "      <th>House</th>\n",
       "      <th>Price</th>\n",
       "      <th>Ubication</th>\n",
       "      <th>Features</th>\n",
       "    </tr>\n",
       "  </thead>\n",
       "  <tbody>\n",
       "    <tr>\n",
       "      <th>0</th>\n",
       "      <td>Casa Estilo Californiano En Zona Céntrica A 5m...</td>\n",
       "      <td>5,800,000</td>\n",
       "      <td>Colinas Del Parque, Querétaro, QuerétaroVer in...</td>\n",
       "      <td>[]</td>\n",
       "    </tr>\n",
       "    <tr>\n",
       "      <th>1</th>\n",
       "      <td>Casa Minimalista En Venta</td>\n",
       "      <td>5,650,000</td>\n",
       "      <td>Juriquilla, Querétaro, QuerétaroVer informació...</td>\n",
       "      <td>['Superficie total286 m²', 'Superficie constru...</td>\n",
       "    </tr>\n",
       "    <tr>\n",
       "      <th>2</th>\n",
       "      <td>Casa En Venta En Las Haciendas En Ciudad Del Sol</td>\n",
       "      <td>1,595,000</td>\n",
       "      <td>Casa En Venta En Las Haciendas En Ciudad Del S...</td>\n",
       "      <td>['Superficie total69 m²', 'Superficie construi...</td>\n",
       "    </tr>\n",
       "    <tr>\n",
       "      <th>3</th>\n",
       "      <td>Casa En Venta En Altozano</td>\n",
       "      <td>11,190,000</td>\n",
       "      <td>Casa En Venta En Altozano, Querétaro, Querétar...</td>\n",
       "      <td>['Superficie total370 m²', 'Superficie constru...</td>\n",
       "    </tr>\n",
       "    <tr>\n",
       "      <th>4</th>\n",
       "      <td>Iluminada Y Cómoda Casa Oportunidad La Joya Sa...</td>\n",
       "      <td>790,000</td>\n",
       "      <td>Blvd. Dolores Del Río, La Joya, Querétaro, Que...</td>\n",
       "      <td>['Superficie total150 m²', 'Superficie constru...</td>\n",
       "    </tr>\n",
       "  </tbody>\n",
       "</table>\n",
       "</div>"
      ],
      "text/plain": [
       "                                               House       Price  \\\n",
       "0  Casa Estilo Californiano En Zona Céntrica A 5m...   5,800,000   \n",
       "1                          Casa Minimalista En Venta   5,650,000   \n",
       "2   Casa En Venta En Las Haciendas En Ciudad Del Sol   1,595,000   \n",
       "3                          Casa En Venta En Altozano  11,190,000   \n",
       "4  Iluminada Y Cómoda Casa Oportunidad La Joya Sa...     790,000   \n",
       "\n",
       "                                           Ubication  \\\n",
       "0  Colinas Del Parque, Querétaro, QuerétaroVer in...   \n",
       "1  Juriquilla, Querétaro, QuerétaroVer informació...   \n",
       "2  Casa En Venta En Las Haciendas En Ciudad Del S...   \n",
       "3  Casa En Venta En Altozano, Querétaro, Querétar...   \n",
       "4  Blvd. Dolores Del Río, La Joya, Querétaro, Que...   \n",
       "\n",
       "                                            Features  \n",
       "0                                                 []  \n",
       "1  ['Superficie total286 m²', 'Superficie constru...  \n",
       "2  ['Superficie total69 m²', 'Superficie construi...  \n",
       "3  ['Superficie total370 m²', 'Superficie constru...  \n",
       "4  ['Superficie total150 m²', 'Superficie constru...  "
      ]
     },
     "execution_count": 24,
     "metadata": {},
     "output_type": "execute_result"
    }
   ],
   "source": [
    "df =df.drop('Unnamed: 0', axis=1)\n",
    "df.head()"
   ]
  },
  {
   "cell_type": "markdown",
   "id": "a1a45d2e",
   "metadata": {},
   "source": [
    "# 1.Diagnosis"
   ]
  },
  {
   "cell_type": "code",
   "execution_count": 25,
   "id": "1656ea45",
   "metadata": {},
   "outputs": [
    {
     "name": "stdout",
     "output_type": "stream",
     "text": [
      "<class 'pandas.core.frame.DataFrame'>\n",
      "RangeIndex: 1054 entries, 0 to 1053\n",
      "Data columns (total 4 columns):\n",
      " #   Column     Non-Null Count  Dtype \n",
      "---  ------     --------------  ----- \n",
      " 0   House      995 non-null    object\n",
      " 1   Price      1050 non-null   object\n",
      " 2   Ubication  987 non-null    object\n",
      " 3   Features   1054 non-null   object\n",
      "dtypes: object(4)\n",
      "memory usage: 33.1+ KB\n"
     ]
    }
   ],
   "source": [
    "df.info()"
   ]
  },
  {
   "cell_type": "markdown",
   "id": "da24eb1a",
   "metadata": {},
   "source": [
    "We can see missing values, and we need to change the type of 'Price' column to 'int'"
   ]
  },
  {
   "cell_type": "markdown",
   "id": "33531e84",
   "metadata": {},
   "source": [
    "#### 1.1 Missing values\n",
    "\n"
   ]
  },
  {
   "cell_type": "markdown",
   "id": "d5864e65",
   "metadata": {},
   "source": [
    "Delete missing values from House column"
   ]
  },
  {
   "cell_type": "code",
   "execution_count": 26,
   "id": "1a367367",
   "metadata": {},
   "outputs": [
    {
     "data": {
      "text/plain": [
       "House        59\n",
       "Price         4\n",
       "Ubication    67\n",
       "Features      0\n",
       "dtype: int64"
      ]
     },
     "execution_count": 26,
     "metadata": {},
     "output_type": "execute_result"
    }
   ],
   "source": [
    "df.isna().sum()"
   ]
  },
  {
   "cell_type": "code",
   "execution_count": 27,
   "id": "79a50103",
   "metadata": {},
   "outputs": [
    {
     "data": {
      "text/plain": [
       "House        0\n",
       "Price        0\n",
       "Ubication    8\n",
       "Features     0\n",
       "dtype: int64"
      ]
     },
     "execution_count": 27,
     "metadata": {},
     "output_type": "execute_result"
    }
   ],
   "source": [
    "df = df.dropna(subset=['House'])\n",
    "df.isna().sum()"
   ]
  },
  {
   "cell_type": "code",
   "execution_count": null,
   "id": "e94b36d9",
   "metadata": {},
   "outputs": [],
   "source": []
  },
  {
   "cell_type": "markdown",
   "id": "9d45fa50",
   "metadata": {},
   "source": [
    "Deleting missing values from 'Ubication' column"
   ]
  },
  {
   "cell_type": "code",
   "execution_count": 28,
   "id": "0b0c2a59",
   "metadata": {},
   "outputs": [
    {
     "data": {
      "text/plain": [
       "House        0\n",
       "Price        0\n",
       "Ubication    0\n",
       "Features     0\n",
       "dtype: int64"
      ]
     },
     "execution_count": 28,
     "metadata": {},
     "output_type": "execute_result"
    }
   ],
   "source": [
    "df = df.dropna(subset=['Ubication'])\n",
    "df.isna().sum()"
   ]
  },
  {
   "cell_type": "code",
   "execution_count": 29,
   "id": "e184142d",
   "metadata": {},
   "outputs": [],
   "source": [
    "#df = df[df['Features'] != '[]' | df['Features'] != \"['no disponible', 'no disponible']\"] \n",
    "\n",
    "df = df[~df['Features'].isin([\"[]\",\"['no disponible', 'no disponible']\"])]"
   ]
  },
  {
   "cell_type": "markdown",
   "id": "f6ee0cb3",
   "metadata": {},
   "source": [
    "### 1.2 Types of data that we have in df\n",
    "Price column should be int, but data format is \"5,650,000\" we need delete \",\" character"
   ]
  },
  {
   "cell_type": "code",
   "execution_count": 30,
   "id": "c9739b8d",
   "metadata": {},
   "outputs": [
    {
     "data": {
      "text/html": [
       "<div>\n",
       "<style scoped>\n",
       "    .dataframe tbody tr th:only-of-type {\n",
       "        vertical-align: middle;\n",
       "    }\n",
       "\n",
       "    .dataframe tbody tr th {\n",
       "        vertical-align: top;\n",
       "    }\n",
       "\n",
       "    .dataframe thead th {\n",
       "        text-align: right;\n",
       "    }\n",
       "</style>\n",
       "<table border=\"1\" class=\"dataframe\">\n",
       "  <thead>\n",
       "    <tr style=\"text-align: right;\">\n",
       "      <th></th>\n",
       "      <th>House</th>\n",
       "      <th>Price</th>\n",
       "      <th>Ubication</th>\n",
       "      <th>Features</th>\n",
       "    </tr>\n",
       "  </thead>\n",
       "  <tbody>\n",
       "    <tr>\n",
       "      <th>1</th>\n",
       "      <td>Casa Minimalista En Venta</td>\n",
       "      <td>5650000</td>\n",
       "      <td>Juriquilla, Querétaro, QuerétaroVer informació...</td>\n",
       "      <td>['Superficie total286 m²', 'Superficie constru...</td>\n",
       "    </tr>\n",
       "    <tr>\n",
       "      <th>2</th>\n",
       "      <td>Casa En Venta En Las Haciendas En Ciudad Del Sol</td>\n",
       "      <td>1595000</td>\n",
       "      <td>Casa En Venta En Las Haciendas En Ciudad Del S...</td>\n",
       "      <td>['Superficie total69 m²', 'Superficie construi...</td>\n",
       "    </tr>\n",
       "    <tr>\n",
       "      <th>3</th>\n",
       "      <td>Casa En Venta En Altozano</td>\n",
       "      <td>11190000</td>\n",
       "      <td>Casa En Venta En Altozano, Querétaro, Querétar...</td>\n",
       "      <td>['Superficie total370 m²', 'Superficie constru...</td>\n",
       "    </tr>\n",
       "    <tr>\n",
       "      <th>4</th>\n",
       "      <td>Iluminada Y Cómoda Casa Oportunidad La Joya Sa...</td>\n",
       "      <td>790000</td>\n",
       "      <td>Blvd. Dolores Del Río, La Joya, Querétaro, Que...</td>\n",
       "      <td>['Superficie total150 m²', 'Superficie constru...</td>\n",
       "    </tr>\n",
       "    <tr>\n",
       "      <th>5</th>\n",
       "      <td>¡¡jb-excelente Propiedad En Cumbres Del Lago Q...</td>\n",
       "      <td>849000</td>\n",
       "      <td>Lago Eslabón 101, Cumbres Del Lago, Juriquilla...</td>\n",
       "      <td>['Superficie total400 m²', 'Superficie constru...</td>\n",
       "    </tr>\n",
       "  </tbody>\n",
       "</table>\n",
       "</div>"
      ],
      "text/plain": [
       "                                               House     Price  \\\n",
       "1                          Casa Minimalista En Venta   5650000   \n",
       "2   Casa En Venta En Las Haciendas En Ciudad Del Sol   1595000   \n",
       "3                          Casa En Venta En Altozano  11190000   \n",
       "4  Iluminada Y Cómoda Casa Oportunidad La Joya Sa...    790000   \n",
       "5  ¡¡jb-excelente Propiedad En Cumbres Del Lago Q...    849000   \n",
       "\n",
       "                                           Ubication  \\\n",
       "1  Juriquilla, Querétaro, QuerétaroVer informació...   \n",
       "2  Casa En Venta En Las Haciendas En Ciudad Del S...   \n",
       "3  Casa En Venta En Altozano, Querétaro, Querétar...   \n",
       "4  Blvd. Dolores Del Río, La Joya, Querétaro, Que...   \n",
       "5  Lago Eslabón 101, Cumbres Del Lago, Juriquilla...   \n",
       "\n",
       "                                            Features  \n",
       "1  ['Superficie total286 m²', 'Superficie constru...  \n",
       "2  ['Superficie total69 m²', 'Superficie construi...  \n",
       "3  ['Superficie total370 m²', 'Superficie constru...  \n",
       "4  ['Superficie total150 m²', 'Superficie constru...  \n",
       "5  ['Superficie total400 m²', 'Superficie constru...  "
      ]
     },
     "execution_count": 30,
     "metadata": {},
     "output_type": "execute_result"
    }
   ],
   "source": [
    "df.loc[:, 'Price'] = df['Price'].str.replace(',', '')\n",
    "df.loc[:, 'Price'] = df['Price'].str.replace('.', '')\n",
    "df.head()"
   ]
  },
  {
   "cell_type": "code",
   "execution_count": null,
   "id": "985ed013",
   "metadata": {},
   "outputs": [],
   "source": []
  },
  {
   "cell_type": "markdown",
   "id": "4fdeb907",
   "metadata": {},
   "source": [
    "########## pasar al ultimo ############## Changing to int type"
   ]
  },
  {
   "cell_type": "code",
   "execution_count": 31,
   "id": "ab756ee4",
   "metadata": {},
   "outputs": [
    {
     "data": {
      "text/html": [
       "<div>\n",
       "<style scoped>\n",
       "    .dataframe tbody tr th:only-of-type {\n",
       "        vertical-align: middle;\n",
       "    }\n",
       "\n",
       "    .dataframe tbody tr th {\n",
       "        vertical-align: top;\n",
       "    }\n",
       "\n",
       "    .dataframe thead th {\n",
       "        text-align: right;\n",
       "    }\n",
       "</style>\n",
       "<table border=\"1\" class=\"dataframe\">\n",
       "  <thead>\n",
       "    <tr style=\"text-align: right;\">\n",
       "      <th></th>\n",
       "      <th>House</th>\n",
       "      <th>Price</th>\n",
       "      <th>Ubication</th>\n",
       "      <th>Features</th>\n",
       "    </tr>\n",
       "  </thead>\n",
       "  <tbody>\n",
       "    <tr>\n",
       "      <th>1</th>\n",
       "      <td>Casa Minimalista En Venta</td>\n",
       "      <td>5650000</td>\n",
       "      <td>Juriquilla, Querétaro, QuerétaroVer informació...</td>\n",
       "      <td>['Superficie total286 m²', 'Superficie constru...</td>\n",
       "    </tr>\n",
       "    <tr>\n",
       "      <th>2</th>\n",
       "      <td>Casa En Venta En Las Haciendas En Ciudad Del Sol</td>\n",
       "      <td>1595000</td>\n",
       "      <td>Casa En Venta En Las Haciendas En Ciudad Del S...</td>\n",
       "      <td>['Superficie total69 m²', 'Superficie construi...</td>\n",
       "    </tr>\n",
       "    <tr>\n",
       "      <th>3</th>\n",
       "      <td>Casa En Venta En Altozano</td>\n",
       "      <td>11190000</td>\n",
       "      <td>Casa En Venta En Altozano, Querétaro, Querétar...</td>\n",
       "      <td>['Superficie total370 m²', 'Superficie constru...</td>\n",
       "    </tr>\n",
       "    <tr>\n",
       "      <th>4</th>\n",
       "      <td>Iluminada Y Cómoda Casa Oportunidad La Joya Sa...</td>\n",
       "      <td>790000</td>\n",
       "      <td>Blvd. Dolores Del Río, La Joya, Querétaro, Que...</td>\n",
       "      <td>['Superficie total150 m²', 'Superficie constru...</td>\n",
       "    </tr>\n",
       "    <tr>\n",
       "      <th>5</th>\n",
       "      <td>¡¡jb-excelente Propiedad En Cumbres Del Lago Q...</td>\n",
       "      <td>849000</td>\n",
       "      <td>Lago Eslabón 101, Cumbres Del Lago, Juriquilla...</td>\n",
       "      <td>['Superficie total400 m²', 'Superficie constru...</td>\n",
       "    </tr>\n",
       "  </tbody>\n",
       "</table>\n",
       "</div>"
      ],
      "text/plain": [
       "                                               House     Price  \\\n",
       "1                          Casa Minimalista En Venta   5650000   \n",
       "2   Casa En Venta En Las Haciendas En Ciudad Del Sol   1595000   \n",
       "3                          Casa En Venta En Altozano  11190000   \n",
       "4  Iluminada Y Cómoda Casa Oportunidad La Joya Sa...    790000   \n",
       "5  ¡¡jb-excelente Propiedad En Cumbres Del Lago Q...    849000   \n",
       "\n",
       "                                           Ubication  \\\n",
       "1  Juriquilla, Querétaro, QuerétaroVer informació...   \n",
       "2  Casa En Venta En Las Haciendas En Ciudad Del S...   \n",
       "3  Casa En Venta En Altozano, Querétaro, Querétar...   \n",
       "4  Blvd. Dolores Del Río, La Joya, Querétaro, Que...   \n",
       "5  Lago Eslabón 101, Cumbres Del Lago, Juriquilla...   \n",
       "\n",
       "                                            Features  \n",
       "1  ['Superficie total286 m²', 'Superficie constru...  \n",
       "2  ['Superficie total69 m²', 'Superficie construi...  \n",
       "3  ['Superficie total370 m²', 'Superficie constru...  \n",
       "4  ['Superficie total150 m²', 'Superficie constru...  \n",
       "5  ['Superficie total400 m²', 'Superficie constru...  "
      ]
     },
     "execution_count": 31,
     "metadata": {},
     "output_type": "execute_result"
    }
   ],
   "source": [
    "#df.loc[:, 'Price'] = df['Price'].astype('int')\n",
    "df.head()"
   ]
  },
  {
   "cell_type": "markdown",
   "id": "74696c24",
   "metadata": {},
   "source": [
    "1.3 \"Feature\" column has an string with differente values, checking one example"
   ]
  },
  {
   "cell_type": "code",
   "execution_count": 32,
   "id": "e77e4ce6",
   "metadata": {},
   "outputs": [
    {
     "data": {
      "text/plain": [
       "\"['Superficie total286 m²', 'Superficie construida314 m²', 'Recámaras4', 'Baños5', 'Estacionamientos2', 'Es propiedad en remateNo', 'Antigüedad8 años', 'Ambientes10', 'Bodegas0', 'Cantidad de pisos0', 'Tipo de casaCasa', 'OrientaciónNorte', 'Mantenimiento0 MXN']\""
      ]
     },
     "execution_count": 32,
     "metadata": {},
     "output_type": "execute_result"
    }
   ],
   "source": [
    "df['Features'][1]"
   ]
  },
  {
   "cell_type": "markdown",
   "id": "7b909244",
   "metadata": {},
   "source": [
    "Split column by ',' character, and check number of columns"
   ]
  },
  {
   "cell_type": "code",
   "execution_count": 33,
   "id": "34ace817",
   "metadata": {},
   "outputs": [],
   "source": [
    "#df['Features'].str.split(',', expand=True).shape\n"
   ]
  },
  {
   "cell_type": "markdown",
   "id": "0b10b248",
   "metadata": {},
   "source": [
    "We have 16 features, we will split values from Feature column and add them to or dataframe with new names"
   ]
  },
  {
   "cell_type": "code",
   "execution_count": 34,
   "id": "9ed78360",
   "metadata": {},
   "outputs": [],
   "source": [
    "df[['Total_Area_m^2', 'Built_Area_m^2', 'Bedrooms', 'Bathrooms', 'Parking', \n",
    "   'Property_for_sale', 'Age', 'Rooms', 'Storage', 'Number_of_floors', \n",
    "   'Type_of_house', 'Orientation', 'Maintenance', 'columnA', 'columnB',\n",
    "   'columnC']]= df['Features'].str.split(',',expand=True)"
   ]
  },
  {
   "cell_type": "markdown",
   "id": "b8980a7f",
   "metadata": {},
   "source": [
    "Checking  df with new columns"
   ]
  },
  {
   "cell_type": "code",
   "execution_count": 35,
   "id": "1b54fda3",
   "metadata": {},
   "outputs": [
    {
     "data": {
      "text/html": [
       "<div>\n",
       "<style scoped>\n",
       "    .dataframe tbody tr th:only-of-type {\n",
       "        vertical-align: middle;\n",
       "    }\n",
       "\n",
       "    .dataframe tbody tr th {\n",
       "        vertical-align: top;\n",
       "    }\n",
       "\n",
       "    .dataframe thead th {\n",
       "        text-align: right;\n",
       "    }\n",
       "</style>\n",
       "<table border=\"1\" class=\"dataframe\">\n",
       "  <thead>\n",
       "    <tr style=\"text-align: right;\">\n",
       "      <th></th>\n",
       "      <th>House</th>\n",
       "      <th>Price</th>\n",
       "      <th>Ubication</th>\n",
       "      <th>Features</th>\n",
       "      <th>Total_Area_m^2</th>\n",
       "      <th>Built_Area_m^2</th>\n",
       "      <th>Bedrooms</th>\n",
       "      <th>Bathrooms</th>\n",
       "      <th>Parking</th>\n",
       "      <th>Property_for_sale</th>\n",
       "      <th>Age</th>\n",
       "      <th>Rooms</th>\n",
       "      <th>Storage</th>\n",
       "      <th>Number_of_floors</th>\n",
       "      <th>Type_of_house</th>\n",
       "      <th>Orientation</th>\n",
       "      <th>Maintenance</th>\n",
       "      <th>columnA</th>\n",
       "      <th>columnB</th>\n",
       "      <th>columnC</th>\n",
       "    </tr>\n",
       "  </thead>\n",
       "  <tbody>\n",
       "    <tr>\n",
       "      <th>1</th>\n",
       "      <td>Casa Minimalista En Venta</td>\n",
       "      <td>5650000</td>\n",
       "      <td>Juriquilla, Querétaro, QuerétaroVer informació...</td>\n",
       "      <td>['Superficie total286 m²', 'Superficie constru...</td>\n",
       "      <td>['Superficie total286 m²'</td>\n",
       "      <td>'Superficie construida314 m²'</td>\n",
       "      <td>'Recámaras4'</td>\n",
       "      <td>'Baños5'</td>\n",
       "      <td>'Estacionamientos2'</td>\n",
       "      <td>'Es propiedad en remateNo'</td>\n",
       "      <td>'Antigüedad8 años'</td>\n",
       "      <td>'Ambientes10'</td>\n",
       "      <td>'Bodegas0'</td>\n",
       "      <td>'Cantidad de pisos0'</td>\n",
       "      <td>'Tipo de casaCasa'</td>\n",
       "      <td>'OrientaciónNorte'</td>\n",
       "      <td>'Mantenimiento0 MXN']</td>\n",
       "      <td>None</td>\n",
       "      <td>None</td>\n",
       "      <td>None</td>\n",
       "    </tr>\n",
       "    <tr>\n",
       "      <th>2</th>\n",
       "      <td>Casa En Venta En Las Haciendas En Ciudad Del Sol</td>\n",
       "      <td>1595000</td>\n",
       "      <td>Casa En Venta En Las Haciendas En Ciudad Del S...</td>\n",
       "      <td>['Superficie total69 m²', 'Superficie construi...</td>\n",
       "      <td>['Superficie total69 m²'</td>\n",
       "      <td>'Superficie construida0 m²'</td>\n",
       "      <td>'Recámaras3'</td>\n",
       "      <td>'Baños1'</td>\n",
       "      <td>'Estacionamientos1'</td>\n",
       "      <td>'Es propiedad en remateNo'</td>\n",
       "      <td>'Antigüedad0 años'</td>\n",
       "      <td>'Ambientes0'</td>\n",
       "      <td>'Bodegas0'</td>\n",
       "      <td>'Cantidad de pisos2'</td>\n",
       "      <td>'Tipo de propiedadCasa sola'</td>\n",
       "      <td>'Mantenimiento0 MXN']</td>\n",
       "      <td>None</td>\n",
       "      <td>None</td>\n",
       "      <td>None</td>\n",
       "      <td>None</td>\n",
       "    </tr>\n",
       "    <tr>\n",
       "      <th>3</th>\n",
       "      <td>Casa En Venta En Altozano</td>\n",
       "      <td>11190000</td>\n",
       "      <td>Casa En Venta En Altozano, Querétaro, Querétar...</td>\n",
       "      <td>['Superficie total370 m²', 'Superficie constru...</td>\n",
       "      <td>['Superficie total370 m²'</td>\n",
       "      <td>'Superficie construida0 m²'</td>\n",
       "      <td>'Recámaras4'</td>\n",
       "      <td>'Baños4'</td>\n",
       "      <td>'Estacionamientos3'</td>\n",
       "      <td>'Es propiedad en remateNo'</td>\n",
       "      <td>'Antigüedad0 años'</td>\n",
       "      <td>'Ambientes0'</td>\n",
       "      <td>'Bodegas0'</td>\n",
       "      <td>'Cantidad de pisos2'</td>\n",
       "      <td>'Tipo de casaCasa'</td>\n",
       "      <td>'Tipo de propiedadCasa sola'</td>\n",
       "      <td>'Mantenimiento0 MXN']</td>\n",
       "      <td>None</td>\n",
       "      <td>None</td>\n",
       "      <td>None</td>\n",
       "    </tr>\n",
       "  </tbody>\n",
       "</table>\n",
       "</div>"
      ],
      "text/plain": [
       "                                              House     Price  \\\n",
       "1                         Casa Minimalista En Venta   5650000   \n",
       "2  Casa En Venta En Las Haciendas En Ciudad Del Sol   1595000   \n",
       "3                         Casa En Venta En Altozano  11190000   \n",
       "\n",
       "                                           Ubication  \\\n",
       "1  Juriquilla, Querétaro, QuerétaroVer informació...   \n",
       "2  Casa En Venta En Las Haciendas En Ciudad Del S...   \n",
       "3  Casa En Venta En Altozano, Querétaro, Querétar...   \n",
       "\n",
       "                                            Features  \\\n",
       "1  ['Superficie total286 m²', 'Superficie constru...   \n",
       "2  ['Superficie total69 m²', 'Superficie construi...   \n",
       "3  ['Superficie total370 m²', 'Superficie constru...   \n",
       "\n",
       "              Total_Area_m^2                  Built_Area_m^2       Bedrooms  \\\n",
       "1  ['Superficie total286 m²'   'Superficie construida314 m²'   'Recámaras4'   \n",
       "2   ['Superficie total69 m²'     'Superficie construida0 m²'   'Recámaras3'   \n",
       "3  ['Superficie total370 m²'     'Superficie construida0 m²'   'Recámaras4'   \n",
       "\n",
       "   Bathrooms               Parking            Property_for_sale  \\\n",
       "1   'Baños5'   'Estacionamientos2'   'Es propiedad en remateNo'   \n",
       "2   'Baños1'   'Estacionamientos1'   'Es propiedad en remateNo'   \n",
       "3   'Baños4'   'Estacionamientos3'   'Es propiedad en remateNo'   \n",
       "\n",
       "                   Age           Rooms      Storage       Number_of_floors  \\\n",
       "1   'Antigüedad8 años'   'Ambientes10'   'Bodegas0'   'Cantidad de pisos0'   \n",
       "2   'Antigüedad0 años'    'Ambientes0'   'Bodegas0'   'Cantidad de pisos2'   \n",
       "3   'Antigüedad0 años'    'Ambientes0'   'Bodegas0'   'Cantidad de pisos2'   \n",
       "\n",
       "                   Type_of_house                    Orientation  \\\n",
       "1             'Tipo de casaCasa'             'OrientaciónNorte'   \n",
       "2   'Tipo de propiedadCasa sola'          'Mantenimiento0 MXN']   \n",
       "3             'Tipo de casaCasa'   'Tipo de propiedadCasa sola'   \n",
       "\n",
       "              Maintenance columnA columnB columnC  \n",
       "1   'Mantenimiento0 MXN']    None    None    None  \n",
       "2                    None    None    None    None  \n",
       "3   'Mantenimiento0 MXN']    None    None    None  "
      ]
     },
     "execution_count": 35,
     "metadata": {},
     "output_type": "execute_result"
    }
   ],
   "source": [
    "df.head(3)"
   ]
  },
  {
   "cell_type": "code",
   "execution_count": 36,
   "id": "9fc293e4",
   "metadata": {},
   "outputs": [
    {
     "name": "stdout",
     "output_type": "stream",
     "text": [
      "<class 'pandas.core.frame.DataFrame'>\n",
      "Index: 917 entries, 1 to 1051\n",
      "Data columns (total 20 columns):\n",
      " #   Column             Non-Null Count  Dtype \n",
      "---  ------             --------------  ----- \n",
      " 0   House              917 non-null    object\n",
      " 1   Price              917 non-null    object\n",
      " 2   Ubication          917 non-null    object\n",
      " 3   Features           917 non-null    object\n",
      " 4   Total_Area_m^2     917 non-null    object\n",
      " 5   Built_Area_m^2     917 non-null    object\n",
      " 6   Bedrooms           917 non-null    object\n",
      " 7   Bathrooms          917 non-null    object\n",
      " 8   Parking            917 non-null    object\n",
      " 9   Property_for_sale  917 non-null    object\n",
      " 10  Age                878 non-null    object\n",
      " 11  Rooms              870 non-null    object\n",
      " 12  Storage            866 non-null    object\n",
      " 13  Number_of_floors   857 non-null    object\n",
      " 14  Type_of_house      775 non-null    object\n",
      " 15  Orientation        752 non-null    object\n",
      " 16  Maintenance        648 non-null    object\n",
      " 17  columnA            147 non-null    object\n",
      " 18  columnB            12 non-null     object\n",
      " 19  columnC            1 non-null      object\n",
      "dtypes: object(20)\n",
      "memory usage: 182.7+ KB\n"
     ]
    }
   ],
   "source": [
    "df.info()"
   ]
  },
  {
   "cell_type": "code",
   "execution_count": 16,
   "id": "27023505",
   "metadata": {},
   "outputs": [],
   "source": [
    "# Guardar en un nuevo archivo CSV\n",
    "df.to_csv('draft1.csv', index=False)"
   ]
  },
  {
   "cell_type": "markdown",
   "id": "63e72089",
   "metadata": {},
   "source": [
    "Delete columns Features, columnA, columnB, columnC, Maintenance, Type_of_house\t"
   ]
  },
  {
   "cell_type": "code",
   "execution_count": 37,
   "id": "b18dda8d",
   "metadata": {},
   "outputs": [],
   "source": [
    "# Identifying values in column '' tat starts with any number\n",
    "df_number = df[df['Built_Area_m^2'].str.contains('^0|^1|^2|^3|^4|^5|^6|^7|^8|^9')].copy()\n",
    "\n",
    "# concate nation of the string of two columns\n",
    "df_number['Total_Area_m^2']= df_number['Total_Area_m^2']+df_number['Built_Area_m^2']\n",
    "\n",
    "# deleting column '' from the dataframe\n",
    "df_number = df_number.drop('Built_Area_m^2', axis=1)\n",
    "\n",
    "# dictionary with the old and new column names\n",
    "col_names = {'Bedrooms':'Built_Area_m^2',\n",
    "'Bathrooms':'Bedrooms',\n",
    "'Parking':'Bathrooms',\n",
    "'Property_for_sale':'Parking',\n",
    "'Age':'Property_for_sale',\n",
    "'Rooms':'Age',\n",
    "'Storage':'Rooms',\n",
    "'Number_of_floors':'Storage',\n",
    "'Type_of_house':'Number_of_floors',\n",
    "'Orientation':'Type_of_house',\n",
    "'Maintenance':'Orientation',\n",
    "'columnA':'Maintenance'}\n",
    "\n",
    "# Replacing names in dataframe\n",
    "df_number = df_number.rename(columns= col_names)\n",
    "\n",
    "\n",
    "# Guardar en un nuevo archivo CSV\n",
    "df_number.to_csv('draft2.csv', index=False)\n"
   ]
  },
  {
   "cell_type": "code",
   "execution_count": 38,
   "id": "29ec6fe5",
   "metadata": {},
   "outputs": [],
   "source": [
    "# Identifying values in column '' tat starts with any number\n",
    "df_number2 = df_number[df_number['Bedrooms'].str.contains('^0|^1|^2|^3|^4|^5|^6|^7|^8|^9')].copy()\n",
    "\n",
    "# concate nation of the string of two columns\n",
    "df_number2['Built_Area_m^2']= df_number2['Built_Area_m^2']+df_number2['Bedrooms']\n",
    "\n",
    "# deleting column '' from the dataframe\n",
    "df_number2 = df_number2.drop('Bedrooms', axis=1)\n",
    "\n",
    "# dictionary with the old and new column names\n",
    "col_names = {\n",
    "'Bathrooms':'Bedrooms',\n",
    "'Parking':'Bathrooms',\n",
    "'Property_for_sale':'Parking',\n",
    "'Age':'Property_for_sale',\n",
    "'Rooms':'Age',\n",
    "'Storage':'Rooms',\n",
    "'Number_of_floors':'Storage',\n",
    "'Type_of_house':'Number_of_floors',\n",
    "'Orientation':'Type_of_house',\n",
    "'Maintenance':'Orientation',\n",
    "'columnB':'Maintenance'}\n",
    "\n",
    "# Replacing names in dataframe\n",
    "df_number2 = df_number2.rename(columns= col_names)\n",
    "\n",
    "\n",
    "# Guardar en un nuevo archivo CSV\n",
    "df_number2.to_csv('draft3.csv', index=False)\n"
   ]
  },
  {
   "cell_type": "code",
   "execution_count": 39,
   "id": "f630c6b5",
   "metadata": {},
   "outputs": [],
   "source": [
    "df_total = pd.concat([df,df_number,df_number2], axis=0)\n",
    "\n",
    "df_total = df_total[~df_total['Built_Area_m^2'].str.contains('^0|^1|^2|^3|^4|^5|^6|^7|^8|^9')]\n",
    "df_total = df_total[~df_total['Bedrooms'].str.contains('^0|^1|^2|^3|^4|^5|^6|^7|^8|^9')]\n",
    "\n"
   ]
  },
  {
   "cell_type": "code",
   "execution_count": 40,
   "id": "5b1acd96",
   "metadata": {},
   "outputs": [
    {
     "name": "stdout",
     "output_type": "stream",
     "text": [
      "<class 'pandas.core.frame.DataFrame'>\n",
      "Index: 915 entries, 1 to 1022\n",
      "Data columns (total 8 columns):\n",
      " #   Column          Non-Null Count  Dtype \n",
      "---  ------          --------------  ----- \n",
      " 0   House           915 non-null    object\n",
      " 1   Price           915 non-null    object\n",
      " 2   Ubication       915 non-null    object\n",
      " 3   Total_Area_m^2  915 non-null    object\n",
      " 4   Built_Area_m^2  915 non-null    object\n",
      " 5   Bedrooms        915 non-null    object\n",
      " 6   Bathrooms       915 non-null    object\n",
      " 7   Parking         915 non-null    object\n",
      "dtypes: object(8)\n",
      "memory usage: 64.3+ KB\n"
     ]
    }
   ],
   "source": [
    "df_total = df_total.drop(['Features','columnA', 'columnB', 'columnC', 'Maintenance',\n",
    "                           'Type_of_house', 'Orientation', 'Property_for_sale','Age',\n",
    "                           'Rooms','Storage','Number_of_floors'], axis=1)\n",
    "df_total.info()\n",
    "# 42800000\n",
    "\n"
   ]
  },
  {
   "cell_type": "markdown",
   "id": "001c7962",
   "metadata": {},
   "source": [
    "Editing string for each column"
   ]
  },
  {
   "cell_type": "code",
   "execution_count": null,
   "id": "66096977",
   "metadata": {},
   "outputs": [],
   "source": [
    "#df['Total Area'] = df['Total Area'].apply(lambda x:x[18:])\n",
    "\n",
    "df_total['Total_Area_m^2'] = df_total['Total_Area_m^2'].apply(lambda x:x[18:-4])\n",
    "df_total['Built_Area_m^2'] = df_total['Built_Area_m^2'].apply(lambda x:x[23:-4])\n",
    "df_total['Bedrooms'] = df_total['Bedrooms'].apply(lambda x:x[11:-1])\n",
    "df_total['Bathrooms'] = df_total['Bathrooms'].apply(lambda x:x[7:-1])\n",
    "df_total['Parking'] = df_total['Parking'].apply(lambda x:x[18:-1])\n",
    "#df_total['Ubication'] = df_total['Ubication'].apply(lambda x:x[:-26])\n",
    "\n",
    "df_total.loc[df_total[\"Ubication\"].str.contains(\"juriquilla\", case=False, na=False), \"colonia\"] = \"Juriquilla\"\n",
    "\n",
    "\n"
   ]
  },
  {
   "cell_type": "code",
   "execution_count": null,
   "id": "e682a677",
   "metadata": {},
   "outputs": [],
   "source": [
    "df_total.loc[df_total[\"Ubication\"].str.contains(\"refugio\", case=False, na=False), \"colonia\"] = \"El Refugio\"\n",
    "\n"
   ]
  },
  {
   "cell_type": "code",
   "execution_count": 44,
   "id": "f8546086",
   "metadata": {},
   "outputs": [],
   "source": [
    "df_total.loc[df_total[\"Ubication\"].str.contains(\"ciudad del sol\", case=False, na=False), \"colonia\"] = \"Ciudad Del Sol\"\n",
    "\n",
    "df_total.loc[df_total[\"Ubication\"].str.contains(\"altozano\", case=False, na=False), \"colonia\"] = \"Altozano\"\n",
    "\n",
    "df_total.loc[df_total[\"Ubication\"].str.contains(\"joya\", case=False, na=False), \"colonia\"] = \"La Joya\"\n",
    "\n",
    "df_total.loc[df_total[\"Ubication\"].str.contains(\"candiles\", case=False, na=False), \"colonia\"] = \"Candiles\"\n",
    "\n",
    "df_total.loc[df_total[\"Ubication\"].str.contains(\"milenio\", case=False, na=False), \"colonia\"] = \"Milenio\"\n",
    "\n",
    "df_total.loc[df_total[\"Ubication\"].str.contains(\"venceremos\", case=False, na=False), \"colonia\"] = \"Venceremos\"\n",
    "\n",
    "df_total.loc[df_total[\"Ubication\"].str.contains(\"la vista\", case=False, na=False), \"colonia\"] = \"La Vista Residencial\"\n",
    "\n",
    "df_total.loc[df_total[\"Ubication\"].str.contains(\"cimatario\", case=False, na=False), \"colonia\"] = \"Cumbres del Cimatario\"\n",
    "\n",
    "df_total.loc[df_total[\"Ubication\"].str.contains(\"pedregal\", case=False, na=False), \"colonia\"] = \"Paseos Del Pedregal\"\n",
    "\n",
    "df_total.loc[df_total[\"Ubication\"].str.contains(\"campanario\", case=False, na=False), \"colonia\"] = \"El Campanario\"\n",
    "\n",
    "df_total.loc[df_total[\"Ubication\"].str.contains(\"zibat\", case=False, na=False), \"colonia\"] = \"Zibata\"\n",
    "\n",
    "df_total.loc[df_total[\"Ubication\"].str.contains(\"marqu\", case=False, na=False), \"colonia\"] = \"El Marques\"\n",
    "\n",
    "# Guardar en un nuevo archivo CSV\n",
    "df_total.to_csv('draft_total.csv', index=False)"
   ]
  },
  {
   "cell_type": "markdown",
   "id": "95be24c5",
   "metadata": {},
   "source": [
    "Checking values for each column"
   ]
  },
  {
   "cell_type": "code",
   "execution_count": 21,
   "id": "5dad04ac",
   "metadata": {},
   "outputs": [
    {
     "data": {
      "text/plain": [
       "Bathrooms\n",
       " 'Baños2'        272\n",
       " 'Baños4'        216\n",
       " 'Baños3'        216\n",
       " 'Baños5'         98\n",
       " 'Baños1'         55\n",
       " 'Recámaras4'     19\n",
       " 'Recámaras3'     16\n",
       " 'Baños6'          8\n",
       " 'Baños0'          3\n",
       " 'Baños7'          3\n",
       " 'Recámaras6'      2\n",
       "870 m²'            2\n",
       " 'Recámaras5'      2\n",
       " 'Baños11'         1\n",
       "437 m²'            1\n",
       "300 m²'            1\n",
       "200 m²'            1\n",
       "229 m²'            1\n",
       "Name: count, dtype: int64"
      ]
     },
     "execution_count": 21,
     "metadata": {},
     "output_type": "execute_result"
    }
   ],
   "source": [
    "df['Bathrooms'].value_counts()"
   ]
  },
  {
   "cell_type": "code",
   "execution_count": 22,
   "id": "6d51a1c0",
   "metadata": {},
   "outputs": [
    {
     "data": {
      "text/plain": [
       "Bedrooms\n",
       " 'Recámaras3'                        497\n",
       " 'Recámaras4'                        273\n",
       " 'Recámaras2'                         52\n",
       " 'Recámaras5'                         37\n",
       " 'Recámaras6'                          6\n",
       " 'Recámaras1'                          5\n",
       " 'Superficie construida600 m²'         3\n",
       " 'Superficie construida1 m²'           3\n",
       " 'Superficie construida350 m²'         3\n",
       " 'Superficie construida1               3\n",
       " 'Superficie construida759 m²'         2\n",
       " 'Superficie construida850 m²'         2\n",
       " 'Superficie construida0 m²'           2\n",
       " 'Superficie construida501 m²'         1\n",
       " 'Superficie construida32              1\n",
       " 'Superficie construida525 m²'         1\n",
       " 'Superficie construida420 m²'         1\n",
       " 'Superficie construida453 m²'         1\n",
       " 'Superficie construida450 m²'         1\n",
       " 'Superficie construida250 m²'         1\n",
       " 'Superficie construida762 m²'         1\n",
       " 'Superficie construida2               1\n",
       " 'Superficie construida800 m²'         1\n",
       " 'Superficie construida948 m²'         1\n",
       " 'Superficie construida442 m²'         1\n",
       " 'Superficie construida948.36 m²'      1\n",
       " 'Superficie construida650 m²'         1\n",
       "248 m²'                                1\n",
       " 'Superficie construida675 m²'         1\n",
       " 'Superficie construida346 m²'         1\n",
       " 'Superficie construida320 m²'         1\n",
       " 'Superficie construida790 m²'         1\n",
       " 'Superficie construida900 m²'         1\n",
       " 'Superficie construida480 m²'         1\n",
       " 'Superficie construida827 m²'         1\n",
       " 'Superficie construida899 m²'         1\n",
       "519 m²'                                1\n",
       " 'Superficie construida209 m²'         1\n",
       " 'Recámaras0'                          1\n",
       " 'Recámaras200'                        1\n",
       " 'Superficie construida750 m²'         1\n",
       " 'Superficie construida3               1\n",
       "Name: count, dtype: int64"
      ]
     },
     "execution_count": 22,
     "metadata": {},
     "output_type": "execute_result"
    }
   ],
   "source": [
    "df['Bedrooms'].value_counts()"
   ]
  },
  {
   "cell_type": "markdown",
   "id": "4912aad5",
   "metadata": {},
   "source": [
    "####### no util ##### Eliminar columnas: Features, none1, none2 and none3"
   ]
  },
  {
   "cell_type": "code",
   "execution_count": 23,
   "id": "bdbf6302",
   "metadata": {},
   "outputs": [
    {
     "data": {
      "text/html": [
       "<div>\n",
       "<style scoped>\n",
       "    .dataframe tbody tr th:only-of-type {\n",
       "        vertical-align: middle;\n",
       "    }\n",
       "\n",
       "    .dataframe tbody tr th {\n",
       "        vertical-align: top;\n",
       "    }\n",
       "\n",
       "    .dataframe thead th {\n",
       "        text-align: right;\n",
       "    }\n",
       "</style>\n",
       "<table border=\"1\" class=\"dataframe\">\n",
       "  <thead>\n",
       "    <tr style=\"text-align: right;\">\n",
       "      <th></th>\n",
       "      <th>House</th>\n",
       "      <th>Price</th>\n",
       "      <th>Ubication</th>\n",
       "      <th>Total_Area_m^2</th>\n",
       "      <th>Built_Area_m^2</th>\n",
       "      <th>Bedrooms</th>\n",
       "      <th>Bathrooms</th>\n",
       "      <th>Parking</th>\n",
       "      <th>Property_for_sale</th>\n",
       "      <th>Age</th>\n",
       "      <th>Rooms</th>\n",
       "      <th>Storage</th>\n",
       "      <th>Number_of_floors</th>\n",
       "    </tr>\n",
       "  </thead>\n",
       "  <tbody>\n",
       "    <tr>\n",
       "      <th>1</th>\n",
       "      <td>Casa Minimalista En Venta</td>\n",
       "      <td>5650000</td>\n",
       "      <td>Juriquilla, Querétaro, QuerétaroVer informació...</td>\n",
       "      <td>['Superficie total286 m²'</td>\n",
       "      <td>'Superficie construida314 m²'</td>\n",
       "      <td>'Recámaras4'</td>\n",
       "      <td>'Baños5'</td>\n",
       "      <td>'Estacionamientos2'</td>\n",
       "      <td>'Es propiedad en remateNo'</td>\n",
       "      <td>'Antigüedad8 años'</td>\n",
       "      <td>'Ambientes10'</td>\n",
       "      <td>'Bodegas0'</td>\n",
       "      <td>'Cantidad de pisos0'</td>\n",
       "    </tr>\n",
       "    <tr>\n",
       "      <th>2</th>\n",
       "      <td>Casa En Venta En Las Haciendas En Ciudad Del Sol</td>\n",
       "      <td>1595000</td>\n",
       "      <td>Casa En Venta En Las Haciendas En Ciudad Del S...</td>\n",
       "      <td>['Superficie total69 m²'</td>\n",
       "      <td>'Superficie construida0 m²'</td>\n",
       "      <td>'Recámaras3'</td>\n",
       "      <td>'Baños1'</td>\n",
       "      <td>'Estacionamientos1'</td>\n",
       "      <td>'Es propiedad en remateNo'</td>\n",
       "      <td>'Antigüedad0 años'</td>\n",
       "      <td>'Ambientes0'</td>\n",
       "      <td>'Bodegas0'</td>\n",
       "      <td>'Cantidad de pisos2'</td>\n",
       "    </tr>\n",
       "    <tr>\n",
       "      <th>3</th>\n",
       "      <td>Casa En Venta En Altozano</td>\n",
       "      <td>11190000</td>\n",
       "      <td>Casa En Venta En Altozano, Querétaro, Querétar...</td>\n",
       "      <td>['Superficie total370 m²'</td>\n",
       "      <td>'Superficie construida0 m²'</td>\n",
       "      <td>'Recámaras4'</td>\n",
       "      <td>'Baños4'</td>\n",
       "      <td>'Estacionamientos3'</td>\n",
       "      <td>'Es propiedad en remateNo'</td>\n",
       "      <td>'Antigüedad0 años'</td>\n",
       "      <td>'Ambientes0'</td>\n",
       "      <td>'Bodegas0'</td>\n",
       "      <td>'Cantidad de pisos2'</td>\n",
       "    </tr>\n",
       "    <tr>\n",
       "      <th>4</th>\n",
       "      <td>Iluminada Y Cómoda Casa Oportunidad La Joya Sa...</td>\n",
       "      <td>790000</td>\n",
       "      <td>Blvd. Dolores Del Río, La Joya, Querétaro, Que...</td>\n",
       "      <td>['Superficie total150 m²'</td>\n",
       "      <td>'Superficie construida195 m²'</td>\n",
       "      <td>'Recámaras3'</td>\n",
       "      <td>'Baños3'</td>\n",
       "      <td>'Estacionamientos2'</td>\n",
       "      <td>'Es propiedad en remateNo'</td>\n",
       "      <td>'Antigüedad18 años'</td>\n",
       "      <td>'Ambientes4'</td>\n",
       "      <td>'Bodegas1'</td>\n",
       "      <td>'Cantidad de pisos2'</td>\n",
       "    </tr>\n",
       "    <tr>\n",
       "      <th>5</th>\n",
       "      <td>¡¡jb-excelente Propiedad En Cumbres Del Lago Q...</td>\n",
       "      <td>849000</td>\n",
       "      <td>Lago Eslabón 101, Cumbres Del Lago, Juriquilla...</td>\n",
       "      <td>['Superficie total400 m²'</td>\n",
       "      <td>'Superficie construida400 m²'</td>\n",
       "      <td>'Recámaras5'</td>\n",
       "      <td>'Baños4'</td>\n",
       "      <td>'Estacionamientos4'</td>\n",
       "      <td>'Es propiedad en remateSí'</td>\n",
       "      <td>'Antigüedad7 años'</td>\n",
       "      <td>'Ambientes5'</td>\n",
       "      <td>'Bodegas1'</td>\n",
       "      <td>'Cantidad de pisos2'</td>\n",
       "    </tr>\n",
       "  </tbody>\n",
       "</table>\n",
       "</div>"
      ],
      "text/plain": [
       "                                               House     Price  \\\n",
       "1                          Casa Minimalista En Venta   5650000   \n",
       "2   Casa En Venta En Las Haciendas En Ciudad Del Sol   1595000   \n",
       "3                          Casa En Venta En Altozano  11190000   \n",
       "4  Iluminada Y Cómoda Casa Oportunidad La Joya Sa...    790000   \n",
       "5  ¡¡jb-excelente Propiedad En Cumbres Del Lago Q...    849000   \n",
       "\n",
       "                                           Ubication  \\\n",
       "1  Juriquilla, Querétaro, QuerétaroVer informació...   \n",
       "2  Casa En Venta En Las Haciendas En Ciudad Del S...   \n",
       "3  Casa En Venta En Altozano, Querétaro, Querétar...   \n",
       "4  Blvd. Dolores Del Río, La Joya, Querétaro, Que...   \n",
       "5  Lago Eslabón 101, Cumbres Del Lago, Juriquilla...   \n",
       "\n",
       "              Total_Area_m^2                  Built_Area_m^2       Bedrooms  \\\n",
       "1  ['Superficie total286 m²'   'Superficie construida314 m²'   'Recámaras4'   \n",
       "2   ['Superficie total69 m²'     'Superficie construida0 m²'   'Recámaras3'   \n",
       "3  ['Superficie total370 m²'     'Superficie construida0 m²'   'Recámaras4'   \n",
       "4  ['Superficie total150 m²'   'Superficie construida195 m²'   'Recámaras3'   \n",
       "5  ['Superficie total400 m²'   'Superficie construida400 m²'   'Recámaras5'   \n",
       "\n",
       "   Bathrooms               Parking            Property_for_sale  \\\n",
       "1   'Baños5'   'Estacionamientos2'   'Es propiedad en remateNo'   \n",
       "2   'Baños1'   'Estacionamientos1'   'Es propiedad en remateNo'   \n",
       "3   'Baños4'   'Estacionamientos3'   'Es propiedad en remateNo'   \n",
       "4   'Baños3'   'Estacionamientos2'   'Es propiedad en remateNo'   \n",
       "5   'Baños4'   'Estacionamientos4'   'Es propiedad en remateSí'   \n",
       "\n",
       "                    Age           Rooms      Storage       Number_of_floors  \n",
       "1    'Antigüedad8 años'   'Ambientes10'   'Bodegas0'   'Cantidad de pisos0'  \n",
       "2    'Antigüedad0 años'    'Ambientes0'   'Bodegas0'   'Cantidad de pisos2'  \n",
       "3    'Antigüedad0 años'    'Ambientes0'   'Bodegas0'   'Cantidad de pisos2'  \n",
       "4   'Antigüedad18 años'    'Ambientes4'   'Bodegas1'   'Cantidad de pisos2'  \n",
       "5    'Antigüedad7 años'    'Ambientes5'   'Bodegas1'   'Cantidad de pisos2'  "
      ]
     },
     "execution_count": 23,
     "metadata": {},
     "output_type": "execute_result"
    }
   ],
   "source": [
    "df.head()"
   ]
  },
  {
   "cell_type": "code",
   "execution_count": 24,
   "id": "bb694ff8",
   "metadata": {},
   "outputs": [],
   "source": [
    "df_number = df[df['Built_Area_m^2'].str.contains('^0|^1|^2|^3|^4|^5|^6|^7|^8|^9')]"
   ]
  },
  {
   "cell_type": "code",
   "execution_count": 25,
   "id": "fc9e67d6",
   "metadata": {},
   "outputs": [],
   "source": [
    "#df_number.loc[:, 'new3'] = df_number['Total_Area_m^2']+df_number['Built_Area_m^2']\n"
   ]
  },
  {
   "cell_type": "code",
   "execution_count": 86,
   "id": "2bf8fb9b",
   "metadata": {},
   "outputs": [
    {
     "name": "stderr",
     "output_type": "stream",
     "text": [
      "C:\\Users\\Pc\\AppData\\Local\\Temp\\ipykernel_7060\\3580634725.py:2: SettingWithCopyWarning: \n",
      "A value is trying to be set on a copy of a slice from a DataFrame.\n",
      "Try using .loc[row_indexer,col_indexer] = value instead\n",
      "\n",
      "See the caveats in the documentation: https://pandas.pydata.org/pandas-docs/stable/user_guide/indexing.html#returning-a-view-versus-a-copy\n",
      "  df_number['Total_Area_m^2']= df_number['Total_Area_m^2']+df_number['Built_Area_m^2']\n"
     ]
    }
   ],
   "source": [
    "#df_number=df.copy()\n",
    "df_number['Total_Area_m^2']= df_number['Total_Area_m^2']+df_number['Built_Area_m^2']"
   ]
  },
  {
   "cell_type": "code",
   "execution_count": 87,
   "id": "c76b9e11",
   "metadata": {},
   "outputs": [
    {
     "data": {
      "text/html": [
       "<div>\n",
       "<style scoped>\n",
       "    .dataframe tbody tr th:only-of-type {\n",
       "        vertical-align: middle;\n",
       "    }\n",
       "\n",
       "    .dataframe tbody tr th {\n",
       "        vertical-align: top;\n",
       "    }\n",
       "\n",
       "    .dataframe thead th {\n",
       "        text-align: right;\n",
       "    }\n",
       "</style>\n",
       "<table border=\"1\" class=\"dataframe\">\n",
       "  <thead>\n",
       "    <tr style=\"text-align: right;\">\n",
       "      <th></th>\n",
       "      <th>House</th>\n",
       "      <th>Price</th>\n",
       "      <th>Ubication</th>\n",
       "      <th>Total_Area_m^2</th>\n",
       "      <th>Built_Area_m^2</th>\n",
       "      <th>Bedrooms</th>\n",
       "      <th>Bathrooms</th>\n",
       "      <th>Parking</th>\n",
       "      <th>Property_for_sale</th>\n",
       "      <th>Age</th>\n",
       "      <th>Rooms</th>\n",
       "      <th>Storage</th>\n",
       "      <th>Number_of_floors</th>\n",
       "    </tr>\n",
       "  </thead>\n",
       "  <tbody>\n",
       "    <tr>\n",
       "      <th>143</th>\n",
       "      <td>Impecable Casa Tipo Colonial Con Alberca En Ve...</td>\n",
       "      <td>18950000</td>\n",
       "      <td>Juriquilla, Querétaro, QuerétaroVer informació...</td>\n",
       "      <td>['Superficie total2200 m²'</td>\n",
       "      <td>200 m²'</td>\n",
       "      <td>'Superficie construida750 m²'</td>\n",
       "      <td>'Recámaras4'</td>\n",
       "      <td>'Baños4'</td>\n",
       "      <td>'Estacionamientos10'</td>\n",
       "      <td>'Es propiedad en remateNo'</td>\n",
       "      <td>'Antigüedad0 años'</td>\n",
       "      <td>'Ambientes9'</td>\n",
       "      <td>'Bodegas0'</td>\n",
       "    </tr>\n",
       "    <tr>\n",
       "      <th>147</th>\n",
       "      <td>Lujosa Y Moderna Casa En Venta Con Recámara En...</td>\n",
       "      <td>42500000</td>\n",
       "      <td>El Campanario, Querétaro, QuerétaroVer informa...</td>\n",
       "      <td>['Superficie total1500 m²'</td>\n",
       "      <td>500 m²'</td>\n",
       "      <td>'Superficie construida1 m²'</td>\n",
       "      <td>'Recámaras4'</td>\n",
       "      <td>'Baños4'</td>\n",
       "      <td>'Estacionamientos4'</td>\n",
       "      <td>'Es propiedad en remateNo'</td>\n",
       "      <td>'Antigüedad13 años'</td>\n",
       "      <td>'Ambientes9'</td>\n",
       "      <td>'Bodegas0'</td>\n",
       "    </tr>\n",
       "    <tr>\n",
       "      <th>151</th>\n",
       "      <td>Lujosa Y Moderna Casa En Venta Con Recámara En...</td>\n",
       "      <td>42500000</td>\n",
       "      <td>El Campanario, Querétaro, QuerétaroVer informa...</td>\n",
       "      <td>['Superficie total1500 m²'</td>\n",
       "      <td>500 m²'</td>\n",
       "      <td>'Superficie construida1 m²'</td>\n",
       "      <td>'Recámaras4'</td>\n",
       "      <td>'Baños4'</td>\n",
       "      <td>'Estacionamientos4'</td>\n",
       "      <td>'Es propiedad en remateNo'</td>\n",
       "      <td>'Antigüedad13 años'</td>\n",
       "      <td>'Ambientes9'</td>\n",
       "      <td>'Bodegas0'</td>\n",
       "    </tr>\n",
       "    <tr>\n",
       "      <th>250</th>\n",
       "      <td>Casa En Condominio En Venta En Lomas Del Campa...</td>\n",
       "      <td>59900000</td>\n",
       "      <td>Avenida Senda Mágica, Milenio III, Querétaro, ...</td>\n",
       "      <td>['Superficie total1281 m²'</td>\n",
       "      <td>281 m²'</td>\n",
       "      <td>'Superficie construida1</td>\n",
       "      <td>870 m²'</td>\n",
       "      <td>'Recámaras4'</td>\n",
       "      <td>'Baños4'</td>\n",
       "      <td>'Estacionamientos3'</td>\n",
       "      <td>'Es propiedad en remateNo'</td>\n",
       "      <td>'Antigüedad4 años'</td>\n",
       "      <td>'Ambientes5'</td>\n",
       "    </tr>\n",
       "    <tr>\n",
       "      <th>377</th>\n",
       "      <td>Casa Venta Mirador</td>\n",
       "      <td>3100000</td>\n",
       "      <td>Residencial El Refugio, Querétaro, QuerétaroVe...</td>\n",
       "      <td>['Superficie total1202 m²'</td>\n",
       "      <td>202 m²'</td>\n",
       "      <td>'Superficie construida209 m²'</td>\n",
       "      <td>'Recámaras3'</td>\n",
       "      <td>'Baños3'</td>\n",
       "      <td>'Estacionamientos5'</td>\n",
       "      <td>'Es propiedad en remateNo'</td>\n",
       "      <td>'Antigüedad0 años'</td>\n",
       "      <td>'Ambientes6'</td>\n",
       "      <td>'Bodegas0'</td>\n",
       "    </tr>\n",
       "  </tbody>\n",
       "</table>\n",
       "</div>"
      ],
      "text/plain": [
       "                                                 House     Price  \\\n",
       "143  Impecable Casa Tipo Colonial Con Alberca En Ve...  18950000   \n",
       "147  Lujosa Y Moderna Casa En Venta Con Recámara En...  42500000   \n",
       "151  Lujosa Y Moderna Casa En Venta Con Recámara En...  42500000   \n",
       "250  Casa En Condominio En Venta En Lomas Del Campa...  59900000   \n",
       "377                                 Casa Venta Mirador   3100000   \n",
       "\n",
       "                                             Ubication  \\\n",
       "143  Juriquilla, Querétaro, QuerétaroVer informació...   \n",
       "147  El Campanario, Querétaro, QuerétaroVer informa...   \n",
       "151  El Campanario, Querétaro, QuerétaroVer informa...   \n",
       "250  Avenida Senda Mágica, Milenio III, Querétaro, ...   \n",
       "377  Residencial El Refugio, Querétaro, QuerétaroVe...   \n",
       "\n",
       "                 Total_Area_m^2 Built_Area_m^2  \\\n",
       "143  ['Superficie total2200 m²'        200 m²'   \n",
       "147  ['Superficie total1500 m²'        500 m²'   \n",
       "151  ['Superficie total1500 m²'        500 m²'   \n",
       "250  ['Superficie total1281 m²'        281 m²'   \n",
       "377  ['Superficie total1202 m²'        202 m²'   \n",
       "\n",
       "                           Bedrooms      Bathrooms        Parking  \\\n",
       "143   'Superficie construida750 m²'   'Recámaras4'       'Baños4'   \n",
       "147     'Superficie construida1 m²'   'Recámaras4'       'Baños4'   \n",
       "151     'Superficie construida1 m²'   'Recámaras4'       'Baños4'   \n",
       "250         'Superficie construida1        870 m²'   'Recámaras4'   \n",
       "377   'Superficie construida209 m²'   'Recámaras3'       'Baños3'   \n",
       "\n",
       "         Property_for_sale                          Age  \\\n",
       "143   'Estacionamientos10'   'Es propiedad en remateNo'   \n",
       "147    'Estacionamientos4'   'Es propiedad en remateNo'   \n",
       "151    'Estacionamientos4'   'Es propiedad en remateNo'   \n",
       "250               'Baños4'          'Estacionamientos3'   \n",
       "377    'Estacionamientos5'   'Es propiedad en remateNo'   \n",
       "\n",
       "                           Rooms              Storage Number_of_floors  \n",
       "143           'Antigüedad0 años'         'Ambientes9'       'Bodegas0'  \n",
       "147          'Antigüedad13 años'         'Ambientes9'       'Bodegas0'  \n",
       "151          'Antigüedad13 años'         'Ambientes9'       'Bodegas0'  \n",
       "250   'Es propiedad en remateNo'   'Antigüedad4 años'     'Ambientes5'  \n",
       "377           'Antigüedad0 años'         'Ambientes6'       'Bodegas0'  "
      ]
     },
     "execution_count": 87,
     "metadata": {},
     "output_type": "execute_result"
    }
   ],
   "source": [
    "df_number.head()"
   ]
  },
  {
   "cell_type": "code",
   "execution_count": 88,
   "id": "f2f732e7",
   "metadata": {},
   "outputs": [],
   "source": [
    "# Guardar en un nuevo archivo CSV\n",
    "df_number.to_csv('draft_no.csv', index=False)"
   ]
  },
  {
   "cell_type": "code",
   "execution_count": 98,
   "id": "7ae33f76",
   "metadata": {},
   "outputs": [],
   "source": [
    "# Guardar en un nuevo archivo CSV\n",
    "df.to_csv('draft.csv', index=False)"
   ]
  },
  {
   "cell_type": "code",
   "execution_count": 1,
   "id": "12d275ed",
   "metadata": {},
   "outputs": [],
   "source": [
    "import pandas as pd\n",
    "import numpy as np\n",
    "\n",
    "# Create a sample DataFrame\n",
    "data = {'producto': ['Manzana', 'Naranja', 'Banana'],\n",
    "        'precio': [1.5, 0.75, 0.50],\n",
    "        'stock': [100, 150, 200]}\n",
    "df = pd.DataFrame(data)\n",
    "\n",
    "# Save the DataFrame to a CSV file named 'frutas.csv'\n",
    "df.to_csv('frutas.csv')"
   ]
  },
  {
   "cell_type": "code",
   "execution_count": 20,
   "id": "7cc6ba86",
   "metadata": {},
   "outputs": [],
   "source": [
    "df.to_csv('frutas.csv')"
   ]
  },
  {
   "cell_type": "code",
   "execution_count": null,
   "id": "dd9ae202",
   "metadata": {},
   "outputs": [],
   "source": []
  },
  {
   "cell_type": "markdown",
   "id": "54920fec",
   "metadata": {},
   "source": [
    "Editing values from each column"
   ]
  },
  {
   "cell_type": "code",
   "execution_count": 22,
   "id": "50c3f48e",
   "metadata": {},
   "outputs": [
    {
     "data": {
      "text/html": [
       "<div>\n",
       "<style scoped>\n",
       "    .dataframe tbody tr th:only-of-type {\n",
       "        vertical-align: middle;\n",
       "    }\n",
       "\n",
       "    .dataframe tbody tr th {\n",
       "        vertical-align: top;\n",
       "    }\n",
       "\n",
       "    .dataframe thead th {\n",
       "        text-align: right;\n",
       "    }\n",
       "</style>\n",
       "<table border=\"1\" class=\"dataframe\">\n",
       "  <thead>\n",
       "    <tr style=\"text-align: right;\">\n",
       "      <th></th>\n",
       "      <th>producto</th>\n",
       "      <th>precio</th>\n",
       "      <th>stock</th>\n",
       "    </tr>\n",
       "  </thead>\n",
       "  <tbody>\n",
       "    <tr>\n",
       "      <th>0</th>\n",
       "      <td>Manzana</td>\n",
       "      <td>1.50</td>\n",
       "      <td>100</td>\n",
       "    </tr>\n",
       "    <tr>\n",
       "      <th>1</th>\n",
       "      <td>Naranja</td>\n",
       "      <td>0.75</td>\n",
       "      <td>150</td>\n",
       "    </tr>\n",
       "  </tbody>\n",
       "</table>\n",
       "</div>"
      ],
      "text/plain": [
       "  producto  precio  stock\n",
       "0  Manzana    1.50    100\n",
       "1  Naranja    0.75    150"
      ]
     },
     "execution_count": 22,
     "metadata": {},
     "output_type": "execute_result"
    }
   ],
   "source": [
    "df = df.fillna('[]').infer_objects()\n",
    "df.head(2)"
   ]
  },
  {
   "cell_type": "code",
   "execution_count": 23,
   "id": "208fef8b",
   "metadata": {},
   "outputs": [
    {
     "ename": "KeyError",
     "evalue": "'Total_Area_m^2'",
     "output_type": "error",
     "traceback": [
      "\u001b[1;31m---------------------------------------------------------------------------\u001b[0m",
      "\u001b[1;31mKeyError\u001b[0m                                  Traceback (most recent call last)",
      "File \u001b[1;32m~\\AppData\\Local\\Packages\\PythonSoftwareFoundation.Python.3.12_qbz5n2kfra8p0\\LocalCache\\local-packages\\Python312\\site-packages\\pandas\\core\\indexes\\base.py:3805\u001b[0m, in \u001b[0;36mIndex.get_loc\u001b[1;34m(self, key)\u001b[0m\n\u001b[0;32m   3804\u001b[0m \u001b[38;5;28;01mtry\u001b[39;00m:\n\u001b[1;32m-> 3805\u001b[0m     \u001b[38;5;28;01mreturn\u001b[39;00m \u001b[38;5;28;43mself\u001b[39;49m\u001b[38;5;241;43m.\u001b[39;49m\u001b[43m_engine\u001b[49m\u001b[38;5;241;43m.\u001b[39;49m\u001b[43mget_loc\u001b[49m\u001b[43m(\u001b[49m\u001b[43mcasted_key\u001b[49m\u001b[43m)\u001b[49m\n\u001b[0;32m   3806\u001b[0m \u001b[38;5;28;01mexcept\u001b[39;00m \u001b[38;5;167;01mKeyError\u001b[39;00m \u001b[38;5;28;01mas\u001b[39;00m err:\n",
      "File \u001b[1;32mindex.pyx:167\u001b[0m, in \u001b[0;36mpandas._libs.index.IndexEngine.get_loc\u001b[1;34m()\u001b[0m\n",
      "File \u001b[1;32mindex.pyx:196\u001b[0m, in \u001b[0;36mpandas._libs.index.IndexEngine.get_loc\u001b[1;34m()\u001b[0m\n",
      "File \u001b[1;32mpandas\\\\_libs\\\\hashtable_class_helper.pxi:7081\u001b[0m, in \u001b[0;36mpandas._libs.hashtable.PyObjectHashTable.get_item\u001b[1;34m()\u001b[0m\n",
      "File \u001b[1;32mpandas\\\\_libs\\\\hashtable_class_helper.pxi:7089\u001b[0m, in \u001b[0;36mpandas._libs.hashtable.PyObjectHashTable.get_item\u001b[1;34m()\u001b[0m\n",
      "\u001b[1;31mKeyError\u001b[0m: 'Total_Area_m^2'",
      "\nThe above exception was the direct cause of the following exception:\n",
      "\u001b[1;31mKeyError\u001b[0m                                  Traceback (most recent call last)",
      "Cell \u001b[1;32mIn[23], line 2\u001b[0m\n\u001b[0;32m      1\u001b[0m \u001b[38;5;66;03m#df['Total Area'] = df['Total Area'].apply(lambda x:x[18:])\u001b[39;00m\n\u001b[1;32m----> 2\u001b[0m df[\u001b[38;5;124m'\u001b[39m\u001b[38;5;124mTotal_Area_m^2\u001b[39m\u001b[38;5;124m'\u001b[39m] \u001b[38;5;241m=\u001b[39m \u001b[43mdf\u001b[49m\u001b[43m[\u001b[49m\u001b[38;5;124;43m'\u001b[39;49m\u001b[38;5;124;43mTotal_Area_m^2\u001b[39;49m\u001b[38;5;124;43m'\u001b[39;49m\u001b[43m]\u001b[49m\u001b[38;5;241m.\u001b[39mapply(\u001b[38;5;28;01mlambda\u001b[39;00m x:x[\u001b[38;5;241m18\u001b[39m:\u001b[38;5;241m-\u001b[39m\u001b[38;5;241m4\u001b[39m])\n",
      "File \u001b[1;32m~\\AppData\\Local\\Packages\\PythonSoftwareFoundation.Python.3.12_qbz5n2kfra8p0\\LocalCache\\local-packages\\Python312\\site-packages\\pandas\\core\\frame.py:4102\u001b[0m, in \u001b[0;36mDataFrame.__getitem__\u001b[1;34m(self, key)\u001b[0m\n\u001b[0;32m   4100\u001b[0m \u001b[38;5;28;01mif\u001b[39;00m \u001b[38;5;28mself\u001b[39m\u001b[38;5;241m.\u001b[39mcolumns\u001b[38;5;241m.\u001b[39mnlevels \u001b[38;5;241m>\u001b[39m \u001b[38;5;241m1\u001b[39m:\n\u001b[0;32m   4101\u001b[0m     \u001b[38;5;28;01mreturn\u001b[39;00m \u001b[38;5;28mself\u001b[39m\u001b[38;5;241m.\u001b[39m_getitem_multilevel(key)\n\u001b[1;32m-> 4102\u001b[0m indexer \u001b[38;5;241m=\u001b[39m \u001b[38;5;28;43mself\u001b[39;49m\u001b[38;5;241;43m.\u001b[39;49m\u001b[43mcolumns\u001b[49m\u001b[38;5;241;43m.\u001b[39;49m\u001b[43mget_loc\u001b[49m\u001b[43m(\u001b[49m\u001b[43mkey\u001b[49m\u001b[43m)\u001b[49m\n\u001b[0;32m   4103\u001b[0m \u001b[38;5;28;01mif\u001b[39;00m is_integer(indexer):\n\u001b[0;32m   4104\u001b[0m     indexer \u001b[38;5;241m=\u001b[39m [indexer]\n",
      "File \u001b[1;32m~\\AppData\\Local\\Packages\\PythonSoftwareFoundation.Python.3.12_qbz5n2kfra8p0\\LocalCache\\local-packages\\Python312\\site-packages\\pandas\\core\\indexes\\base.py:3812\u001b[0m, in \u001b[0;36mIndex.get_loc\u001b[1;34m(self, key)\u001b[0m\n\u001b[0;32m   3807\u001b[0m     \u001b[38;5;28;01mif\u001b[39;00m \u001b[38;5;28misinstance\u001b[39m(casted_key, \u001b[38;5;28mslice\u001b[39m) \u001b[38;5;129;01mor\u001b[39;00m (\n\u001b[0;32m   3808\u001b[0m         \u001b[38;5;28misinstance\u001b[39m(casted_key, abc\u001b[38;5;241m.\u001b[39mIterable)\n\u001b[0;32m   3809\u001b[0m         \u001b[38;5;129;01mand\u001b[39;00m \u001b[38;5;28many\u001b[39m(\u001b[38;5;28misinstance\u001b[39m(x, \u001b[38;5;28mslice\u001b[39m) \u001b[38;5;28;01mfor\u001b[39;00m x \u001b[38;5;129;01min\u001b[39;00m casted_key)\n\u001b[0;32m   3810\u001b[0m     ):\n\u001b[0;32m   3811\u001b[0m         \u001b[38;5;28;01mraise\u001b[39;00m InvalidIndexError(key)\n\u001b[1;32m-> 3812\u001b[0m     \u001b[38;5;28;01mraise\u001b[39;00m \u001b[38;5;167;01mKeyError\u001b[39;00m(key) \u001b[38;5;28;01mfrom\u001b[39;00m \u001b[38;5;21;01merr\u001b[39;00m\n\u001b[0;32m   3813\u001b[0m \u001b[38;5;28;01mexcept\u001b[39;00m \u001b[38;5;167;01mTypeError\u001b[39;00m:\n\u001b[0;32m   3814\u001b[0m     \u001b[38;5;66;03m# If we have a listlike key, _check_indexing_error will raise\u001b[39;00m\n\u001b[0;32m   3815\u001b[0m     \u001b[38;5;66;03m#  InvalidIndexError. Otherwise we fall through and re-raise\u001b[39;00m\n\u001b[0;32m   3816\u001b[0m     \u001b[38;5;66;03m#  the TypeError.\u001b[39;00m\n\u001b[0;32m   3817\u001b[0m     \u001b[38;5;28mself\u001b[39m\u001b[38;5;241m.\u001b[39m_check_indexing_error(key)\n",
      "\u001b[1;31mKeyError\u001b[0m: 'Total_Area_m^2'"
     ]
    }
   ],
   "source": [
    "#df['Total Area'] = df['Total Area'].apply(lambda x:x[18:])\n",
    "df['Total_Area_m^2'] = df['Total_Area_m^2'].apply(lambda x:x[18:-4])"
   ]
  },
  {
   "cell_type": "code",
   "execution_count": null,
   "id": "9d7f3028",
   "metadata": {},
   "outputs": [
    {
     "data": {
      "text/plain": [
       "0          \n",
       "1       314\n",
       "2         0\n",
       "3         0\n",
       "4       195\n",
       "       ... \n",
       "1047     75\n",
       "1048    130\n",
       "1049     90\n",
       "1050    442\n",
       "1051    120\n",
       "Name: Built_Area_m^2, Length: 987, dtype: object"
      ]
     },
     "execution_count": 20,
     "metadata": {},
     "output_type": "execute_result"
    }
   ],
   "source": [
    "df['Total_Area_m^2'] = df['Total_Area_m^2'].apply(lambda x:x[18:-4])\n",
    "df['Built_Area_m^2'].apply(lambda x:x[23:-4])\n",
    "df['Bedrooms'].apply(lambda x:x[11:-1])\n",
    "df['Bathrooms'].apply(lambda x:x[7:-1])\n",
    "df['Parking'].apply(lambda x:x[18:-1])\n",
    "df['Property_for_sale'].apply(lambda x:x[24:-1])\n",
    "df['Age'].apply(lambda x:x[10:-1])"
   ]
  },
  {
   "cell_type": "code",
   "execution_count": null,
   "id": "1c2f03d7",
   "metadata": {},
   "outputs": [
    {
     "data": {
      "text/plain": [
       "0        \n",
       "1       4\n",
       "2       3\n",
       "3       4\n",
       "4       3\n",
       "       ..\n",
       "1047    2\n",
       "1048    3\n",
       "1049    3\n",
       "1050    4\n",
       "1051    3\n",
       "Name: Bedrooms, Length: 987, dtype: object"
      ]
     },
     "execution_count": 21,
     "metadata": {},
     "output_type": "execute_result"
    }
   ],
   "source": [
    "df['Bedrooms'].apply(lambda x:x[11:-1])"
   ]
  },
  {
   "cell_type": "code",
   "execution_count": null,
   "id": "e9b1c786",
   "metadata": {},
   "outputs": [
    {
     "data": {
      "text/plain": [
       "0        \n",
       "1       5\n",
       "2       1\n",
       "3       4\n",
       "4       3\n",
       "       ..\n",
       "1047    1\n",
       "1048    2\n",
       "1049    2\n",
       "1050    5\n",
       "1051    2\n",
       "Name: Bathrooms, Length: 987, dtype: object"
      ]
     },
     "execution_count": 22,
     "metadata": {},
     "output_type": "execute_result"
    }
   ],
   "source": [
    "df['Bathrooms'].apply(lambda x:x[7:-1])"
   ]
  },
  {
   "cell_type": "code",
   "execution_count": null,
   "id": "c42847fa",
   "metadata": {},
   "outputs": [
    {
     "data": {
      "text/plain": [
       "0        \n",
       "1       2\n",
       "2       1\n",
       "3       3\n",
       "4       2\n",
       "       ..\n",
       "1047    1\n",
       "1048    2\n",
       "1049    2\n",
       "1050    0\n",
       "1051    2\n",
       "Name: Parking, Length: 987, dtype: object"
      ]
     },
     "execution_count": 23,
     "metadata": {},
     "output_type": "execute_result"
    }
   ],
   "source": [
    "df['Parking'].apply(lambda x:x[18:-1])"
   ]
  },
  {
   "cell_type": "code",
   "execution_count": null,
   "id": "df9dda35",
   "metadata": {},
   "outputs": [
    {
     "data": {
      "text/plain": [
       "0         \n",
       "1       No\n",
       "2       No\n",
       "3       No\n",
       "4       No\n",
       "        ..\n",
       "1047    No\n",
       "1048    Sí\n",
       "1049    Sí\n",
       "1050    No\n",
       "1051    Sí\n",
       "Name: Property_for_sale, Length: 987, dtype: object"
      ]
     },
     "execution_count": 24,
     "metadata": {},
     "output_type": "execute_result"
    }
   ],
   "source": [
    "df['Parking'].apply(lambda x:x[18:-1])\n",
    "df['Property_for_sale'].apply(lambda x:x[24:-1])"
   ]
  },
  {
   "cell_type": "code",
   "execution_count": null,
   "id": "c097f26d",
   "metadata": {},
   "outputs": [
    {
     "data": {
      "text/plain": [
       "0                \n",
       "1        ad8 años\n",
       "2        ad0 años\n",
       "3        ad0 años\n",
       "4       ad18 años\n",
       "          ...    \n",
       "1047    ad15 años\n",
       "1048    ad15 años\n",
       "1049    ad12 años\n",
       "1050     ad1 años\n",
       "1051     ad6 años\n",
       "Name: Age, Length: 987, dtype: object"
      ]
     },
     "execution_count": 25,
     "metadata": {},
     "output_type": "execute_result"
    }
   ],
   "source": [
    "df['Parking'].apply(lambda x:x[18:-1])\n",
    "df['Property_for_sale'].apply(lambda x:x[24:-1])\n",
    "df['Age'].apply(lambda x:x[10:-1])"
   ]
  },
  {
   "cell_type": "code",
   "execution_count": null,
   "id": "e0fec91e",
   "metadata": {},
   "outputs": [
    {
     "data": {
      "text/plain": [
       "0        \n",
       "1       0\n",
       "2       2\n",
       "3       2\n",
       "4       2\n",
       "       ..\n",
       "1047    2\n",
       "1048    2\n",
       "1049    2\n",
       "1050    0\n",
       "1051    2\n",
       "Name: Number_of_floors, Length: 987, dtype: object"
      ]
     },
     "execution_count": 26,
     "metadata": {},
     "output_type": "execute_result"
    }
   ],
   "source": [
    "# eliminar\n",
    "df['Number_of_floors'].apply(lambda x:x[19:-1])"
   ]
  },
  {
   "cell_type": "code",
   "execution_count": null,
   "id": "c596852a",
   "metadata": {},
   "outputs": [
    {
     "data": {
      "text/html": [
       "<div>\n",
       "<style scoped>\n",
       "    .dataframe tbody tr th:only-of-type {\n",
       "        vertical-align: middle;\n",
       "    }\n",
       "\n",
       "    .dataframe tbody tr th {\n",
       "        vertical-align: top;\n",
       "    }\n",
       "\n",
       "    .dataframe thead th {\n",
       "        text-align: right;\n",
       "    }\n",
       "</style>\n",
       "<table border=\"1\" class=\"dataframe\">\n",
       "  <thead>\n",
       "    <tr style=\"text-align: right;\">\n",
       "      <th></th>\n",
       "      <th>House</th>\n",
       "      <th>Price</th>\n",
       "      <th>Ubication</th>\n",
       "      <th>Total_Area_m^2</th>\n",
       "      <th>Built_Area_m^2</th>\n",
       "      <th>Bedrooms</th>\n",
       "      <th>Bathrooms</th>\n",
       "      <th>Parking</th>\n",
       "      <th>Property_for_sale</th>\n",
       "      <th>Age</th>\n",
       "      <th>Rooms</th>\n",
       "      <th>Storage</th>\n",
       "      <th>Number_of_floors</th>\n",
       "    </tr>\n",
       "  </thead>\n",
       "  <tbody>\n",
       "    <tr>\n",
       "      <th>0</th>\n",
       "      <td>Casa Estilo Californiano En Zona Céntrica A 5m...</td>\n",
       "      <td>5800000</td>\n",
       "      <td>Colinas Del Parque, Querétaro, QuerétaroVer in...</td>\n",
       "      <td></td>\n",
       "      <td>[]</td>\n",
       "      <td>[]</td>\n",
       "      <td>[]</td>\n",
       "      <td>[]</td>\n",
       "      <td>[]</td>\n",
       "      <td>[]</td>\n",
       "      <td>[]</td>\n",
       "      <td>[]</td>\n",
       "      <td>[]</td>\n",
       "    </tr>\n",
       "    <tr>\n",
       "      <th>1</th>\n",
       "      <td>Casa Minimalista En Venta</td>\n",
       "      <td>5650000</td>\n",
       "      <td>Juriquilla, Querétaro, QuerétaroVer informació...</td>\n",
       "      <td>286</td>\n",
       "      <td>'Superficie construida314 m²'</td>\n",
       "      <td>'Recámaras4'</td>\n",
       "      <td>'Baños5'</td>\n",
       "      <td>'Estacionamientos2'</td>\n",
       "      <td>'Es propiedad en remateNo'</td>\n",
       "      <td>'Antigüedad8 años'</td>\n",
       "      <td>'Ambientes10'</td>\n",
       "      <td>'Bodegas0'</td>\n",
       "      <td>'Cantidad de pisos0'</td>\n",
       "    </tr>\n",
       "    <tr>\n",
       "      <th>2</th>\n",
       "      <td>Casa En Venta En Las Haciendas En Ciudad Del Sol</td>\n",
       "      <td>1595000</td>\n",
       "      <td>Casa En Venta En Las Haciendas En Ciudad Del S...</td>\n",
       "      <td>69</td>\n",
       "      <td>'Superficie construida0 m²'</td>\n",
       "      <td>'Recámaras3'</td>\n",
       "      <td>'Baños1'</td>\n",
       "      <td>'Estacionamientos1'</td>\n",
       "      <td>'Es propiedad en remateNo'</td>\n",
       "      <td>'Antigüedad0 años'</td>\n",
       "      <td>'Ambientes0'</td>\n",
       "      <td>'Bodegas0'</td>\n",
       "      <td>'Cantidad de pisos2'</td>\n",
       "    </tr>\n",
       "    <tr>\n",
       "      <th>3</th>\n",
       "      <td>Casa En Venta En Altozano</td>\n",
       "      <td>11190000</td>\n",
       "      <td>Casa En Venta En Altozano, Querétaro, Querétar...</td>\n",
       "      <td>370</td>\n",
       "      <td>'Superficie construida0 m²'</td>\n",
       "      <td>'Recámaras4'</td>\n",
       "      <td>'Baños4'</td>\n",
       "      <td>'Estacionamientos3'</td>\n",
       "      <td>'Es propiedad en remateNo'</td>\n",
       "      <td>'Antigüedad0 años'</td>\n",
       "      <td>'Ambientes0'</td>\n",
       "      <td>'Bodegas0'</td>\n",
       "      <td>'Cantidad de pisos2'</td>\n",
       "    </tr>\n",
       "    <tr>\n",
       "      <th>4</th>\n",
       "      <td>Iluminada Y Cómoda Casa Oportunidad La Joya Sa...</td>\n",
       "      <td>790000</td>\n",
       "      <td>Blvd. Dolores Del Río, La Joya, Querétaro, Que...</td>\n",
       "      <td>150</td>\n",
       "      <td>'Superficie construida195 m²'</td>\n",
       "      <td>'Recámaras3'</td>\n",
       "      <td>'Baños3'</td>\n",
       "      <td>'Estacionamientos2'</td>\n",
       "      <td>'Es propiedad en remateNo'</td>\n",
       "      <td>'Antigüedad18 años'</td>\n",
       "      <td>'Ambientes4'</td>\n",
       "      <td>'Bodegas1'</td>\n",
       "      <td>'Cantidad de pisos2'</td>\n",
       "    </tr>\n",
       "  </tbody>\n",
       "</table>\n",
       "</div>"
      ],
      "text/plain": [
       "                                               House     Price  \\\n",
       "0  Casa Estilo Californiano En Zona Céntrica A 5m...   5800000   \n",
       "1                          Casa Minimalista En Venta   5650000   \n",
       "2   Casa En Venta En Las Haciendas En Ciudad Del Sol   1595000   \n",
       "3                          Casa En Venta En Altozano  11190000   \n",
       "4  Iluminada Y Cómoda Casa Oportunidad La Joya Sa...    790000   \n",
       "\n",
       "                                           Ubication Total_Area_m^2  \\\n",
       "0  Colinas Del Parque, Querétaro, QuerétaroVer in...                  \n",
       "1  Juriquilla, Querétaro, QuerétaroVer informació...            286   \n",
       "2  Casa En Venta En Las Haciendas En Ciudad Del S...             69   \n",
       "3  Casa En Venta En Altozano, Querétaro, Querétar...            370   \n",
       "4  Blvd. Dolores Del Río, La Joya, Querétaro, Que...            150   \n",
       "\n",
       "                   Built_Area_m^2       Bedrooms  Bathrooms  \\\n",
       "0                              []             []         []   \n",
       "1   'Superficie construida314 m²'   'Recámaras4'   'Baños5'   \n",
       "2     'Superficie construida0 m²'   'Recámaras3'   'Baños1'   \n",
       "3     'Superficie construida0 m²'   'Recámaras4'   'Baños4'   \n",
       "4   'Superficie construida195 m²'   'Recámaras3'   'Baños3'   \n",
       "\n",
       "                Parking            Property_for_sale                   Age  \\\n",
       "0                    []                           []                    []   \n",
       "1   'Estacionamientos2'   'Es propiedad en remateNo'    'Antigüedad8 años'   \n",
       "2   'Estacionamientos1'   'Es propiedad en remateNo'    'Antigüedad0 años'   \n",
       "3   'Estacionamientos3'   'Es propiedad en remateNo'    'Antigüedad0 años'   \n",
       "4   'Estacionamientos2'   'Es propiedad en remateNo'   'Antigüedad18 años'   \n",
       "\n",
       "            Rooms      Storage       Number_of_floors  \n",
       "0              []           []                     []  \n",
       "1   'Ambientes10'   'Bodegas0'   'Cantidad de pisos0'  \n",
       "2    'Ambientes0'   'Bodegas0'   'Cantidad de pisos2'  \n",
       "3    'Ambientes0'   'Bodegas0'   'Cantidad de pisos2'  \n",
       "4    'Ambientes4'   'Bodegas1'   'Cantidad de pisos2'  "
      ]
     },
     "execution_count": 27,
     "metadata": {},
     "output_type": "execute_result"
    }
   ],
   "source": [
    "df.head()"
   ]
  },
  {
   "cell_type": "code",
   "execution_count": null,
   "id": "8a45084a",
   "metadata": {},
   "outputs": [],
   "source": []
  }
 ],
 "metadata": {
  "kernelspec": {
   "display_name": "Python 3",
   "language": "python",
   "name": "python3"
  },
  "language_info": {
   "codemirror_mode": {
    "name": "ipython",
    "version": 3
   },
   "file_extension": ".py",
   "mimetype": "text/x-python",
   "name": "python",
   "nbconvert_exporter": "python",
   "pygments_lexer": "ipython3",
   "version": "3.12.10"
  }
 },
 "nbformat": 4,
 "nbformat_minor": 5
}
