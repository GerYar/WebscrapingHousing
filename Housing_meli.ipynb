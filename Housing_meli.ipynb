{
 "cells": [
  {
   "cell_type": "markdown",
   "id": "d64abf33",
   "metadata": {},
   "source": [
    "# Webscraping first part of my Housing project"
   ]
  },
  {
   "cell_type": "markdown",
   "id": "7901925c",
   "metadata": {},
   "source": [
    "## Get links for each house"
   ]
  },
  {
   "cell_type": "code",
   "execution_count": 15,
   "id": "63683270",
   "metadata": {},
   "outputs": [],
   "source": [
    "# import libraries\n",
    "import os \n",
    "import requests \n",
    "from bs4 import BeautifulSoup \n",
    "from selenium import webdriver\n",
    "from selenium.webdriver.common.by import By\n",
    "from selenium.webdriver.common.keys import Keys \n",
    "from selenium.webdriver.support.ui import WebDriverWait \n",
    "from selenium.webdriver.support import expected_conditions as EC \n",
    "import time "
   ]
  },
  {
   "cell_type": "markdown",
   "id": "dc995d1c",
   "metadata": {},
   "source": [
    "https://www.youtube.com/watch?v=JKwfzexrQS0"
   ]
  },
  {
   "cell_type": "code",
   "execution_count": 7,
   "id": "e5baadc2",
   "metadata": {},
   "outputs": [],
   "source": [
    "from selenium import webdriver\n",
    "from selenium.webdriver.chrome.service import Service\n",
    "from selenium.webdriver.chrome.options import Options\n",
    "\n",
    "proxy = \"188.166.229.121\"\n",
    "\n",
    "chrome_options = Options()\n",
    "chrome_options.add_argument(f'--proxy-server={proxy}')\n",
    "\n",
    "service = Service(\"C:/Users/Pc/Downloads/chromedriver-win64 (1)/chromedriver-win64/chromedriver.exe\")  # Ruta a tu chromedriver.exe\n",
    "driver = webdriver.Chrome(service=service, options=chrome_options)\n",
    "\n",
    "driver.get(\"https://www.mercadolibre.com.mx/\")\n"
   ]
  },
  {
   "cell_type": "code",
   "execution_count": 16,
   "id": "00b7ffcb",
   "metadata": {},
   "outputs": [],
   "source": [
    "#abrir navegador en pagina web\n",
    "driver = webdriver.Chrome()\n",
    "url = 'https://www.mercadolibre.com.mx/'\n",
    "driver.get(url) "
   ]
  },
  {
   "cell_type": "code",
   "execution_count": 17,
   "id": "4f4f8cab",
   "metadata": {},
   "outputs": [],
   "source": [
    "# Búsqueda inicial\n",
    "path_palabra = '//*[@id=\"cb1-edit\"]' \n",
    "palabra = WebDriverWait(driver, 20).until(lambda driver: driver.find_element(By.XPATH, path_palabra)) \n",
    "palabra.send_keys('casas Queretaro') \n",
    "time.sleep(3) \n",
    "palabra.send_keys(Keys.RETURN) "
   ]
  },
  {
   "cell_type": "code",
   "execution_count": 18,
   "id": "aae2230d",
   "metadata": {},
   "outputs": [],
   "source": [
    "# aceptar cookies\n",
    "#path_cookies = '/html/body/div[2]/div[1]/div/div[2]/button[1]'\n",
    "#path_cookies = '/html/body/div[3]/div[1]/div/div[2]/button[1]'\n",
    "path_cookies ='/html/body/div[4]/div[1]/div/div[2]/button[1]'\n",
    "cookies = WebDriverWait(driver, 20).until(lambda driver: driver.find_element(By.XPATH, path_cookies))\n",
    "cookies.click()\n",
    "time.sleep(3)"
   ]
  },
  {
   "cell_type": "code",
   "execution_count": 19,
   "id": "cfa36ab4",
   "metadata": {},
   "outputs": [],
   "source": [
    "# Bucle para avanzar a la siguiente página \n",
    "contador = 0\n",
    "\n",
    "Link = []\n",
    "while contador < 1:\n",
    "    time.sleep(4)\n",
    "    \n",
    "    page_source = driver.page_source \n",
    "    soup = BeautifulSoup(page_source, 'html.parser') \n",
    "\n",
    "    #elementos = soup.find_all('a', class_='ui-search-link__title-card') \n",
    "    elementos = soup.find_all('a', class_='poly-component__title')\n",
    "    time.sleep(1)\n",
    "    for i in elementos: \n",
    "        href_valor = i.get('href') \n",
    "        Link.append(href_valor)\n",
    "       \n",
    "    siguiente = WebDriverWait(driver, 20).until(lambda driver: driver.find_element(By.XPATH, '//*[@id=\"root-app\"]/div/div[3]/section/nav/ul/li[12]/a'))\n",
    "    siguiente.click() #dar click                                                             \n",
    "\n",
    "    contador += 1\n",
    "\n",
    "#print(soup)\n",
    "#print(elementos)"
   ]
  },
  {
   "cell_type": "code",
   "execution_count": 20,
   "id": "0803f54f",
   "metadata": {},
   "outputs": [],
   "source": [
    "#s_soup = str(soup)\n",
    "#type(s_soup)\n"
   ]
  },
  {
   "cell_type": "code",
   "execution_count": 21,
   "id": "9c5f694d",
   "metadata": {},
   "outputs": [],
   "source": [
    "#mi_lista_de_strings = [\"Esta es la primera cadena\", \"Esta es la segunda cadena\", \"Y esta es la tercera cadena\"]\n",
    "\n",
    "#with open(\"mi_archivo.txt\", \"w\") as archivo:\n",
    "    #for cadena in mi_lista_de_strings:\n",
    "    #archivo.write(s_soup)\n",
    "\n",
    "#print(\"¡Los strings se han guardado en mi_archivo.txt!\")"
   ]
  },
  {
   "cell_type": "code",
   "execution_count": 22,
   "id": "da5c6504",
   "metadata": {},
   "outputs": [],
   "source": [
    "# Cerrar el navegador al finalizar\n",
    "driver.quit()"
   ]
  },
  {
   "cell_type": "code",
   "execution_count": 23,
   "id": "8ea72496",
   "metadata": {},
   "outputs": [
    {
     "name": "stdout",
     "output_type": "stream",
     "text": [
      "48\n"
     ]
    }
   ],
   "source": [
    "#contar los links de cada producto\n",
    "print(len(Link))"
   ]
  },
  {
   "cell_type": "code",
   "execution_count": 24,
   "id": "f850666f",
   "metadata": {},
   "outputs": [
    {
     "data": {
      "text/plain": [
       "['https://casa.mercadolibre.com.mx/MLM-3515652204-casa-estilo-californiano-en-zona-centrica-a-5min-del-campanario-_JM#polycard_client=search-nordic&position=1&search_layout=grid&type=item&tracking_id=330aa75f-74ab-4a75-ba59-304764ebb099',\n",
       " 'https://casa.mercadolibre.com.mx/MLM-2174140441-linda-y-comoda-casa-oportunidad-el-garambullo-santiago-de-queretaro-queretaro-mexico-ojac-01-_JM#polycard_client=search-nordic&position=2&search_layout=grid&type=item&tracking_id=330aa75f-74ab-4a75-ba59-304764ebb099',\n",
       " 'https://casa.mercadolibre.com.mx/MLM-2149691203-estrena-casa-en-el-refugio-3-niveles-gran-ubicacion-seguridad-3-recamaras-_JM#polycard_client=search-nordic&position=3&search_layout=grid&type=item&tracking_id=330aa75f-74ab-4a75-ba59-304764ebb099',\n",
       " 'https://casa.mercadolibre.com.mx/MLM-3045537766-casa-minimalista-en-venta-_JM#polycard_client=search-nordic&position=4&search_layout=grid&type=item&tracking_id=330aa75f-74ab-4a75-ba59-304764ebb099',\n",
       " 'https://casa.mercadolibre.com.mx/MLM-2195316569-casa-en-venta-en-las-haciendas-en-ciudad-del-sol-_JM#polycard_client=search-nordic&position=5&search_layout=grid&type=item&tracking_id=330aa75f-74ab-4a75-ba59-304764ebb099',\n",
       " 'https://casa.mercadolibre.com.mx/MLM-2168179109-casa-en-venta-en-altozano-_JM#polycard_client=search-nordic&position=6&search_layout=grid&type=item&tracking_id=330aa75f-74ab-4a75-ba59-304764ebb099',\n",
       " 'https://casa.mercadolibre.com.mx/MLM-2205006599-casa-en-venta-en-altozano-en-condominio-cumbre-_JM#polycard_client=search-nordic&position=7&search_layout=grid&type=item&tracking_id=330aa75f-74ab-4a75-ba59-304764ebb099',\n",
       " 'https://casa.mercadolibre.com.mx/MLM-3462402822-casa-en-cumbres-del-lago-queretaro-_JM#polycard_client=search-nordic&position=8&search_layout=grid&type=item&tracking_id=330aa75f-74ab-4a75-ba59-304764ebb099',\n",
       " 'https://casa.mercadolibre.com.mx/MLM-2174158195-iluminada-y-comoda-casa-oportunidad-la-joya-santiago-de-queretaro-queretaro-mexico-ojac-02-_JM#polycard_client=search-nordic&position=9&search_layout=grid&type=item&tracking_id=330aa75f-74ab-4a75-ba59-304764ebb099',\n",
       " 'https://casa.mercadolibre.com.mx/MLM-3469652508-jb-hermosa-casa-en-cumbres-del-lago-queretaro-unica-oportunidad-de-remate-_JM#polycard_client=search-nordic&position=10&search_layout=grid&type=item&tracking_id=330aa75f-74ab-4a75-ba59-304764ebb099',\n",
       " 'https://casa.mercadolibre.com.mx/MLM-3325680372-casa-en-venta-entre-el-refugio-y-zibata-3-recamaras-25-banos-oportunidad--_JM#polycard_client=search-nordic&position=11&search_layout=grid&type=item&tracking_id=330aa75f-74ab-4a75-ba59-304764ebb099',\n",
       " 'https://casa.mercadolibre.com.mx/MLM-2166366691-casa-venta-zibata-queretaro-_JM#polycard_client=search-nordic&position=12&search_layout=grid&type=item&tracking_id=330aa75f-74ab-4a75-ba59-304764ebb099',\n",
       " 'https://casa.mercadolibre.com.mx/MLM-3366995502-casa-en-venta-biogrand-juriquilla-queretaro-_JM#polycard_client=search-nordic&position=13&search_layout=grid&type=item&tracking_id=330aa75f-74ab-4a75-ba59-304764ebb099',\n",
       " 'https://casa.mercadolibre.com.mx/MLM-2152608465-casa-en-venta-en-el-refugio-gran-ubicacion-4ta-recamara-en-pb-45-banos-_JM#polycard_client=search-nordic&position=14&search_layout=grid&type=item&tracking_id=330aa75f-74ab-4a75-ba59-304764ebb099',\n",
       " 'https://casa.mercadolibre.com.mx/MLM-2188180571-casa-en-venta-en-el-mirador-queretaro-en-esquina-con-jardin-_JM#polycard_client=search-nordic&position=15&search_layout=grid&type=item&tracking_id=330aa75f-74ab-4a75-ba59-304764ebb099',\n",
       " 'https://casa.mercadolibre.com.mx/MLM-2102797041-casa-venta-juriquilla-queretaro-con-alberca-_JM#polycard_client=search-nordic&position=16&search_layout=grid&type=item&tracking_id=330aa75f-74ab-4a75-ba59-304764ebb099',\n",
       " 'https://casa.mercadolibre.com.mx/MLM-3236814364-casa-venta-biogrand-juriquilla-queretaro-_JM#polycard_client=search-nordic&position=17&search_layout=grid&type=item&tracking_id=330aa75f-74ab-4a75-ba59-304764ebb099',\n",
       " 'https://casa.mercadolibre.com.mx/MLM-3517778930-casa-en-venta-en-el-refugio-3-recamaras-25-banos-alberca-seguridad-lujo-_JM#polycard_client=search-nordic&position=18&search_layout=grid&type=item&tracking_id=330aa75f-74ab-4a75-ba59-304764ebb099',\n",
       " 'https://casa.mercadolibre.com.mx/MLM-3300533362-casa-con-roof-garden-en-venta-en-sonterra-_JM#polycard_client=search-nordic&position=19&search_layout=grid&type=item&tracking_id=330aa75f-74ab-4a75-ba59-304764ebb099',\n",
       " 'https://casa.mercadolibre.com.mx/MLM-2106248113-casa-en-venta-francisco-frias-alcocer-206-candiles-queretaro-recuperacion-bancaria-laab1-_JM#polycard_client=search-nordic&position=20&search_layout=grid&type=item&tracking_id=330aa75f-74ab-4a75-ba59-304764ebb099',\n",
       " 'https://casa.mercadolibre.com.mx/MLM-2112360245-casa-venta-ciudad-maderas-queretaro-_JM#polycard_client=search-nordic&position=21&search_layout=grid&type=item&tracking_id=330aa75f-74ab-4a75-ba59-304764ebb099',\n",
       " 'https://casa.mercadolibre.com.mx/MLM-3215866368-casa-en-venta-cerro-de-la-soledad-candiles-queretaro-recuperacion-bancaria-laab1-_JM#polycard_client=search-nordic&position=22&search_layout=grid&type=item&tracking_id=330aa75f-74ab-4a75-ba59-304764ebb099',\n",
       " 'https://casa.mercadolibre.com.mx/MLM-2098824095-casa-en-venta-mirador-del-cubilete-candiles-queretaro-recuperacion-bancaria-laab1-_JM#polycard_client=search-nordic&position=23&search_layout=grid&type=item&tracking_id=330aa75f-74ab-4a75-ba59-304764ebb099',\n",
       " 'https://casa.mercadolibre.com.mx/MLM-2106849015-casa-en-venta-merlin-risco-residencial-venceremos-queretaro-recuperacion-bancaria-laab1-_JM#polycard_client=search-nordic&position=24&search_layout=grid&type=item&tracking_id=330aa75f-74ab-4a75-ba59-304764ebb099',\n",
       " 'https://casa.mercadolibre.com.mx/MLM-3279675568-casa-venta-san-isidro-juriquilla-queretaro-_JM#polycard_client=search-nordic&position=25&search_layout=grid&type=item&tracking_id=330aa75f-74ab-4a75-ba59-304764ebb099',\n",
       " 'https://casa.mercadolibre.com.mx/MLM-3304388586-casa-en-venta-lago-yalahan-cumbres-del-lago-juriquilla-queretaro-recuperacion-bancaria-laab1-_JM#polycard_client=search-nordic&position=26&search_layout=grid&type=item&tracking_id=330aa75f-74ab-4a75-ba59-304764ebb099',\n",
       " 'https://casa.mercadolibre.com.mx/MLM-3469774634-jb-hermosa-casa-en-cumbres-del-lago-queretaro-unica-oportunidad-de-remate-_JM#polycard_client=search-nordic&position=27&search_layout=grid&type=item&tracking_id=330aa75f-74ab-4a75-ba59-304764ebb099',\n",
       " 'https://casa.mercadolibre.com.mx/MLM-3537140784-residencia-de-autor-con-acabados-premium-altozano-_JM#polycard_client=search-nordic&position=28&search_layout=grid&type=item&tracking_id=330aa75f-74ab-4a75-ba59-304764ebb099',\n",
       " 'https://casa.mercadolibre.com.mx/MLM-3537062980-vivir-con-altura-el-campanario-_JM#polycard_client=search-nordic&position=29&search_layout=grid&type=item&tracking_id=330aa75f-74ab-4a75-ba59-304764ebb099',\n",
       " 'https://casa.mercadolibre.com.mx/MLM-3537218668-amplio-jardin-la-condesa-juriquilla-_JM#polycard_client=search-nordic&position=30&search_layout=grid&type=item&tracking_id=330aa75f-74ab-4a75-ba59-304764ebb099',\n",
       " 'https://casa.mercadolibre.com.mx/MLM-3537489550-vive-en-plenitud-la-vista-residencial-_JM#polycard_client=search-nordic&position=31&search_layout=grid&type=item&tracking_id=330aa75f-74ab-4a75-ba59-304764ebb099',\n",
       " 'https://casa.mercadolibre.com.mx/MLM-3537463418-vivir-con-altura-altozano-_JM#polycard_client=search-nordic&position=32&search_layout=grid&type=item&tracking_id=330aa75f-74ab-4a75-ba59-304764ebb099',\n",
       " 'https://casa.mercadolibre.com.mx/MLM-3537062968-un-nuevo-estilo-de-vida-altozano-_JM#polycard_client=search-nordic&position=33&search_layout=grid&type=item&tracking_id=330aa75f-74ab-4a75-ba59-304764ebb099',\n",
       " 'https://casa.mercadolibre.com.mx/MLM-3537218686-estrena-casa-de-autor-la-vista-residencial-_JM#polycard_client=search-nordic&position=34&search_layout=grid&type=item&tracking_id=330aa75f-74ab-4a75-ba59-304764ebb099',\n",
       " 'https://casa.mercadolibre.com.mx/MLM-3537062958-ambiente-tranquilo-la-vista-residencial-_JM#polycard_client=search-nordic&position=35&search_layout=grid&type=item&tracking_id=330aa75f-74ab-4a75-ba59-304764ebb099',\n",
       " 'https://casa.mercadolibre.com.mx/MLM-3464598972-casa-en-venta-a-2-minutos-de-av-bernardo-quintana-y-av-univesidad-_JM#polycard_client=search-nordic&position=36&search_layout=grid&type=item&tracking_id=330aa75f-74ab-4a75-ba59-304764ebb099',\n",
       " 'https://casa.mercadolibre.com.mx/MLM-2195316571-casa-en-venta-en-las-haciendas-en-ciudad-del-sol-_JM#polycard_client=search-nordic&position=37&search_layout=grid&type=item&tracking_id=330aa75f-74ab-4a75-ba59-304764ebb099',\n",
       " 'https://casa.mercadolibre.com.mx/MLM-3312883272-venta-casa-900-m2-alamos-1a-sec-queretaro-_JM#polycard_client=search-nordic&position=38&search_layout=grid&type=item&tracking_id=330aa75f-74ab-4a75-ba59-304764ebb099',\n",
       " 'https://casa.mercadolibre.com.mx/MLM-3482821448-venta-de-casa-en-queretaro-_JM#polycard_client=search-nordic&position=39&search_layout=grid&type=item&tracking_id=330aa75f-74ab-4a75-ba59-304764ebb099',\n",
       " 'https://casa.mercadolibre.com.mx/MLM-2195472885-casa-en-venta-en-los-robles-zibata-ii-casa-encino-_JM#polycard_client=search-nordic&position=40&search_layout=grid&type=item&tracking_id=330aa75f-74ab-4a75-ba59-304764ebb099',\n",
       " 'https://casa.mercadolibre.com.mx/MLM-2168250709-casa-en-venta-en-altozano-_JM#polycard_client=search-nordic&position=41&search_layout=grid&type=item&tracking_id=330aa75f-74ab-4a75-ba59-304764ebb099',\n",
       " 'https://casa.mercadolibre.com.mx/MLM-2168185927-casa-en-venta-en-cumbres-del-lago-juriquilla-nueva-_JM#polycard_client=search-nordic&position=42&search_layout=grid&type=item&tracking_id=330aa75f-74ab-4a75-ba59-304764ebb099',\n",
       " 'https://casa.mercadolibre.com.mx/MLM-3530783986-impecable-casa-tipo-colonial-con-alberca-en-venta-en-jurica-queretaro-_JM#polycard_client=search-nordic&position=43&search_layout=grid&type=item&tracking_id=330aa75f-74ab-4a75-ba59-304764ebb099',\n",
       " 'https://casa.mercadolibre.com.mx/MLM-2168199377-casa-en-venta-en-mision-conca-_JM#polycard_client=search-nordic&position=44&search_layout=grid&type=item&tracking_id=330aa75f-74ab-4a75-ba59-304764ebb099',\n",
       " 'https://casa.mercadolibre.com.mx/MLM-2195462177-casa-en-venta-en-los-robles-zibata-ii-casa-olivo-_JM#polycard_client=search-nordic&position=45&search_layout=grid&type=item&tracking_id=330aa75f-74ab-4a75-ba59-304764ebb099',\n",
       " 'https://casa.mercadolibre.com.mx/MLM-2195293755-casa-en-venta-en-altozano-en-condominio-fogata-_JM#polycard_client=search-nordic&position=46&search_layout=grid&type=item&tracking_id=330aa75f-74ab-4a75-ba59-304764ebb099',\n",
       " 'https://casa.mercadolibre.com.mx/MLM-3527453642-casa-en-venta-en-la-vista-residencial-_JM#polycard_client=search-nordic&position=47&search_layout=grid&type=item&tracking_id=330aa75f-74ab-4a75-ba59-304764ebb099',\n",
       " 'https://casa.mercadolibre.com.mx/MLM-3531303822-villa-capri-cumbres-del-lago-juriquilla-magnifica-casa-en-venta-_JM#polycard_client=search-nordic&position=48&search_layout=grid&type=item&tracking_id=330aa75f-74ab-4a75-ba59-304764ebb099']"
      ]
     },
     "execution_count": 24,
     "metadata": {},
     "output_type": "execute_result"
    }
   ],
   "source": [
    "Link"
   ]
  },
  {
   "cell_type": "markdown",
   "id": "6787e076",
   "metadata": {},
   "source": [
    "## Creating dataset with links"
   ]
  },
  {
   "cell_type": "code",
   "execution_count": 25,
   "id": "52861841",
   "metadata": {},
   "outputs": [
    {
     "name": "stdout",
     "output_type": "stream",
     "text": [
      "(48, 1)\n"
     ]
    },
    {
     "data": {
      "text/html": [
       "<div>\n",
       "<style scoped>\n",
       "    .dataframe tbody tr th:only-of-type {\n",
       "        vertical-align: middle;\n",
       "    }\n",
       "\n",
       "    .dataframe tbody tr th {\n",
       "        vertical-align: top;\n",
       "    }\n",
       "\n",
       "    .dataframe thead th {\n",
       "        text-align: right;\n",
       "    }\n",
       "</style>\n",
       "<table border=\"1\" class=\"dataframe\">\n",
       "  <thead>\n",
       "    <tr style=\"text-align: right;\">\n",
       "      <th></th>\n",
       "      <th>Link</th>\n",
       "    </tr>\n",
       "  </thead>\n",
       "  <tbody>\n",
       "    <tr>\n",
       "      <th>0</th>\n",
       "      <td>https://casa.mercadolibre.com.mx/MLM-351565220...</td>\n",
       "    </tr>\n",
       "    <tr>\n",
       "      <th>1</th>\n",
       "      <td>https://casa.mercadolibre.com.mx/MLM-217414044...</td>\n",
       "    </tr>\n",
       "    <tr>\n",
       "      <th>2</th>\n",
       "      <td>https://casa.mercadolibre.com.mx/MLM-214969120...</td>\n",
       "    </tr>\n",
       "    <tr>\n",
       "      <th>3</th>\n",
       "      <td>https://casa.mercadolibre.com.mx/MLM-304553776...</td>\n",
       "    </tr>\n",
       "    <tr>\n",
       "      <th>4</th>\n",
       "      <td>https://casa.mercadolibre.com.mx/MLM-219531656...</td>\n",
       "    </tr>\n",
       "  </tbody>\n",
       "</table>\n",
       "</div>"
      ],
      "text/plain": [
       "                                                Link\n",
       "0  https://casa.mercadolibre.com.mx/MLM-351565220...\n",
       "1  https://casa.mercadolibre.com.mx/MLM-217414044...\n",
       "2  https://casa.mercadolibre.com.mx/MLM-214969120...\n",
       "3  https://casa.mercadolibre.com.mx/MLM-304553776...\n",
       "4  https://casa.mercadolibre.com.mx/MLM-219531656..."
      ]
     },
     "execution_count": 25,
     "metadata": {},
     "output_type": "execute_result"
    }
   ],
   "source": [
    "import pandas as pd\n",
    "resultadosd=[Link]\n",
    "\n",
    "#transponer dataframe\n",
    "df=pd.DataFrame(resultadosd).T\n",
    "# contar elementos\n",
    "print(df.shape)\n",
    "#poner encabezado\n",
    "nuevos_nombres = {\n",
    "    0: 'Link'\n",
    "}\n",
    "\n",
    "df.rename(columns=nuevos_nombres, inplace=True)\n",
    "\n",
    "df =df.iloc[:5]\n",
    "df\n",
    "\n",
    "\n",
    "#exportar a un excel\n",
    "df.to_excel('data_housing.xlsx')\n",
    "df.head(10)"
   ]
  },
  {
   "cell_type": "code",
   "execution_count": 26,
   "id": "b85a17d4",
   "metadata": {},
   "outputs": [
    {
     "data": {
      "text/html": [
       "<div>\n",
       "<style scoped>\n",
       "    .dataframe tbody tr th:only-of-type {\n",
       "        vertical-align: middle;\n",
       "    }\n",
       "\n",
       "    .dataframe tbody tr th {\n",
       "        vertical-align: top;\n",
       "    }\n",
       "\n",
       "    .dataframe thead th {\n",
       "        text-align: right;\n",
       "    }\n",
       "</style>\n",
       "<table border=\"1\" class=\"dataframe\">\n",
       "  <thead>\n",
       "    <tr style=\"text-align: right;\">\n",
       "      <th></th>\n",
       "      <th>Link</th>\n",
       "    </tr>\n",
       "  </thead>\n",
       "  <tbody>\n",
       "    <tr>\n",
       "      <th>0</th>\n",
       "      <td>https://casa.mercadolibre.com.mx/MLM-351565220...</td>\n",
       "    </tr>\n",
       "    <tr>\n",
       "      <th>1</th>\n",
       "      <td>https://casa.mercadolibre.com.mx/MLM-217414044...</td>\n",
       "    </tr>\n",
       "    <tr>\n",
       "      <th>2</th>\n",
       "      <td>https://casa.mercadolibre.com.mx/MLM-214969120...</td>\n",
       "    </tr>\n",
       "    <tr>\n",
       "      <th>3</th>\n",
       "      <td>https://casa.mercadolibre.com.mx/MLM-304553776...</td>\n",
       "    </tr>\n",
       "    <tr>\n",
       "      <th>4</th>\n",
       "      <td>https://casa.mercadolibre.com.mx/MLM-219531656...</td>\n",
       "    </tr>\n",
       "  </tbody>\n",
       "</table>\n",
       "</div>"
      ],
      "text/plain": [
       "                                                Link\n",
       "0  https://casa.mercadolibre.com.mx/MLM-351565220...\n",
       "1  https://casa.mercadolibre.com.mx/MLM-217414044...\n",
       "2  https://casa.mercadolibre.com.mx/MLM-214969120...\n",
       "3  https://casa.mercadolibre.com.mx/MLM-304553776...\n",
       "4  https://casa.mercadolibre.com.mx/MLM-219531656..."
      ]
     },
     "execution_count": 26,
     "metadata": {},
     "output_type": "execute_result"
    }
   ],
   "source": [
    "df =df.iloc[:5]\n",
    "df"
   ]
  },
  {
   "cell_type": "markdown",
   "id": "d484a3d8",
   "metadata": {},
   "source": [
    "## Extraction info from each link"
   ]
  },
  {
   "cell_type": "code",
   "execution_count": 27,
   "id": "328fdf27",
   "metadata": {
    "scrolled": true
   },
   "outputs": [
    {
     "name": "stdout",
     "output_type": "stream",
     "text": [
      "5\n",
      "Iteracion: 1\n",
      "Iteracion: 2\n",
      "Iteracion: 3\n",
      "Iteracion: 4\n",
      "Iteracion: 5\n"
     ]
    }
   ],
   "source": [
    "from selenium.webdriver.chrome.service import Service\n",
    "#from webdriver_manager.chrome import ChromeDriverManager\n",
    "\n",
    "service = Service()\n",
    "options = webdriver.ChromeOptions()\n",
    "driver = webdriver.Chrome(service=service, options=options)\n",
    "\n",
    "# leer el excel\n",
    "baselinkproducto = pd.read_excel('data_housing.xlsx')\n",
    "# pasar columna a una lista\n",
    "datalist = baselinkproducto['Link'].tolist()\n",
    "# ver cantidad\n",
    "print(len(datalist))\n",
    "\n",
    "# listas donde se guardara informacion\n",
    "casa=[]\n",
    "precio=[]\n",
    "ubicacion=[]\n",
    "caracteristicas=[]\n",
    "url=[]\n",
    "\n",
    "a= 0\n",
    "for e in datalist:\n",
    "    a=a+1\n",
    "    print(\"Iteracion:\",a)\n",
    "    \n",
    "    driver.get(e)# navegador abrir link\n",
    "    time.sleep(1)\n",
    "    \n",
    "    url.append(e)#agregar link en lista url\n",
    "    time.sleep(4)\n",
    "\n",
    "    soup = BeautifulSoup(driver.page_source,'lxml') #analizador, se carga todo el html en la varibale soup\n",
    "    \n",
    "    # Casa\n",
    "    try:\n",
    "        nombre_casa  = soup.find('h1',class_='ui-pdp-title').text\n",
    "        casa.append(nombre_casa)\n",
    "    except:# IndexError:\n",
    "        pass\n",
    "    \n",
    "    #Capturar precio\n",
    "    try:\n",
    "        precio_elemento  = soup.find('span',class_='andes-money-amount__fraction').text\n",
    "        precio.append(precio_elemento)\n",
    "    except:# IndexError:\n",
    "        pass\n",
    "    \n",
    "    \n",
    "    #Capturar ubicacion\n",
    "    try:\n",
    "        ubicacion_casa  = soup.find('div',class_='ui-pdp-media ui-vip-location__subtitle ui-pdp-color--BLACK').text\n",
    "        ubicacion.append(ubicacion_casa)\n",
    "    except:# IndexError:\n",
    "        pass\n",
    "    \n",
    "    \n",
    "    # Click ver mas caracteristicas\n",
    "    try:                                                                                                \n",
    "        #ver_todas_caract = WebDriverWait(driver, 20).until(lambda driver: driver.find_element(By.XPATH, '//*[@id=\"highlighted_specs_attrs\"]/div[3]/div/span')) #//*[@id=\"highlighted_specs_attrs_new\"]/div[3]/div/button\n",
    "        ver_todas_caract = WebDriverWait(driver, 20).until(lambda driver: driver.find_element(By.XPATH, '//*[@id=\"highlighted_specs_attrs_new\"]/div[3]/div/button'))\n",
    "        ver_todas_caract.click() #dar click                                                              \n",
    "    except:\n",
    "        pass                                                                                           \n",
    "    \n",
    "    \n",
    "    \n",
    "    # Capturar caracteristicas\n",
    "    os_caract=soup.find('tbody',class_='andes-table__body')\n",
    "    if os_caract:\n",
    "        caract = os_caract.find_all('tr', class_='andes-table__row ui-vpp-striped-specs__row')\n",
    "        caract_lista=[uni_caract.text for uni_caract in caract]\n",
    "        caracteristicas.append(caract_lista)\n",
    "    else:\n",
    "        caract_lista=['no disponible','no disponible']\n",
    "        caracteristicas.append(caract_lista)\n",
    "  "
   ]
  },
  {
   "cell_type": "code",
   "execution_count": 28,
   "id": "41b2d7ee",
   "metadata": {},
   "outputs": [
    {
     "data": {
      "text/plain": [
       "['Casa Estilo Californiano En Zona Céntrica A 5min Del Campanario',\n",
       " 'Linda Y Cómoda Casa Oportunidad El Garambullo Santiago De Querétaro Querétaro México Ojac-01',\n",
       " 'Estrena Casa En El Refugio, 3 Niveles, Gran Ubicación, Seguridad, 3 Recamaras',\n",
       " 'Casa Minimalista En Venta',\n",
       " 'Casa En Venta En Las Haciendas En Ciudad Del Sol']"
      ]
     },
     "execution_count": 28,
     "metadata": {},
     "output_type": "execute_result"
    }
   ],
   "source": [
    "casa"
   ]
  },
  {
   "cell_type": "code",
   "execution_count": 29,
   "id": "2a919f4c",
   "metadata": {},
   "outputs": [
    {
     "data": {
      "text/plain": [
       "['Casa Estilo Californiano En Zona Céntrica A 5min Del Campanario',\n",
       " 'Linda Y Cómoda Casa Oportunidad El Garambullo Santiago De Querétaro Querétaro México Ojac-01']"
      ]
     },
     "execution_count": 29,
     "metadata": {},
     "output_type": "execute_result"
    }
   ],
   "source": [
    "casa[:2]"
   ]
  },
  {
   "cell_type": "code",
   "execution_count": 30,
   "id": "00b51465",
   "metadata": {},
   "outputs": [
    {
     "data": {
      "text/plain": [
       "['5,800,000', '974,001']"
      ]
     },
     "execution_count": 30,
     "metadata": {},
     "output_type": "execute_result"
    }
   ],
   "source": [
    "precio[:2]"
   ]
  },
  {
   "cell_type": "code",
   "execution_count": 31,
   "id": "49d364a7",
   "metadata": {},
   "outputs": [
    {
     "data": {
      "text/plain": [
       "['Garambullo, Valle De Santiago, Santiago De Querétaro, Santiago, Querétaro, Querétaro',\n",
       " 'Residencial El Refugio, Querétaro, QuerétaroVer información de la zona']"
      ]
     },
     "execution_count": 31,
     "metadata": {},
     "output_type": "execute_result"
    }
   ],
   "source": [
    "ubicacion[:2]"
   ]
  },
  {
   "cell_type": "code",
   "execution_count": 32,
   "id": "dcb18edb",
   "metadata": {},
   "outputs": [
    {
     "data": {
      "text/plain": [
       "['Superficie total102 m²',\n",
       " 'Superficie construida102 m²',\n",
       " 'Recámaras3',\n",
       " 'Baños2',\n",
       " 'Estacionamientos2',\n",
       " 'Es propiedad en remateSí',\n",
       " 'Antigüedad18 años',\n",
       " 'Ambientes4',\n",
       " 'Bodegas0',\n",
       " 'Cantidad de pisos1',\n",
       " 'Tipo de casaCasa',\n",
       " 'OrientaciónPoniente']"
      ]
     },
     "execution_count": 32,
     "metadata": {},
     "output_type": "execute_result"
    }
   ],
   "source": [
    "caracteristicas[1]"
   ]
  },
  {
   "cell_type": "code",
   "execution_count": 33,
   "id": "9168f395",
   "metadata": {},
   "outputs": [
    {
     "name": "stdout",
     "output_type": "stream",
     "text": [
      "(5, 4)\n"
     ]
    }
   ],
   "source": [
    "\n",
    "resultadosd=[casa,precio,ubicacion,caracteristicas]\n",
    "\n",
    "df=pd.DataFrame(resultadosd).T\n",
    "print(df.shape)\n",
    "nuevos_nombres = {\n",
    "    0: 'House',\n",
    "    1: 'Price',\n",
    "    2: 'Ubication',\n",
    "    3: 'Features'\n",
    "    }\n"
   ]
  },
  {
   "cell_type": "markdown",
   "id": "96572a79",
   "metadata": {},
   "source": [
    "## Creation dataset with all features"
   ]
  },
  {
   "cell_type": "code",
   "execution_count": 34,
   "id": "3921947e",
   "metadata": {},
   "outputs": [
    {
     "data": {
      "text/html": [
       "<div>\n",
       "<style scoped>\n",
       "    .dataframe tbody tr th:only-of-type {\n",
       "        vertical-align: middle;\n",
       "    }\n",
       "\n",
       "    .dataframe tbody tr th {\n",
       "        vertical-align: top;\n",
       "    }\n",
       "\n",
       "    .dataframe thead th {\n",
       "        text-align: right;\n",
       "    }\n",
       "</style>\n",
       "<table border=\"1\" class=\"dataframe\">\n",
       "  <thead>\n",
       "    <tr style=\"text-align: right;\">\n",
       "      <th></th>\n",
       "      <th>House</th>\n",
       "      <th>Price</th>\n",
       "      <th>Ubication</th>\n",
       "      <th>Features</th>\n",
       "    </tr>\n",
       "  </thead>\n",
       "  <tbody>\n",
       "    <tr>\n",
       "      <th>0</th>\n",
       "      <td>Casa Estilo Californiano En Zona Céntrica A 5m...</td>\n",
       "      <td>5,800,000</td>\n",
       "      <td>Garambullo, Valle De Santiago, Santiago De Que...</td>\n",
       "      <td>[]</td>\n",
       "    </tr>\n",
       "    <tr>\n",
       "      <th>1</th>\n",
       "      <td>Linda Y Cómoda Casa Oportunidad El Garambullo ...</td>\n",
       "      <td>974,001</td>\n",
       "      <td>Residencial El Refugio, Querétaro, QuerétaroVe...</td>\n",
       "      <td>[Superficie total102 m², Superficie construida...</td>\n",
       "    </tr>\n",
       "    <tr>\n",
       "      <th>2</th>\n",
       "      <td>Estrena Casa En El Refugio, 3 Niveles, Gran Ub...</td>\n",
       "      <td>3,750,000</td>\n",
       "      <td>Juriquilla, Querétaro, QuerétaroVer informació...</td>\n",
       "      <td>[Superficie total123 m², Superficie construida...</td>\n",
       "    </tr>\n",
       "    <tr>\n",
       "      <th>3</th>\n",
       "      <td>Casa Minimalista En Venta</td>\n",
       "      <td>5,650,000</td>\n",
       "      <td>Casa En Venta En Las Haciendas En Ciudad Del S...</td>\n",
       "      <td>[Superficie total286 m², Superficie construida...</td>\n",
       "    </tr>\n",
       "    <tr>\n",
       "      <th>4</th>\n",
       "      <td>Casa En Venta En Las Haciendas En Ciudad Del Sol</td>\n",
       "      <td>1,500,000</td>\n",
       "      <td>None</td>\n",
       "      <td>[Superficie total69 m², Superficie construida0...</td>\n",
       "    </tr>\n",
       "  </tbody>\n",
       "</table>\n",
       "</div>"
      ],
      "text/plain": [
       "                                               House      Price  \\\n",
       "0  Casa Estilo Californiano En Zona Céntrica A 5m...  5,800,000   \n",
       "1  Linda Y Cómoda Casa Oportunidad El Garambullo ...    974,001   \n",
       "2  Estrena Casa En El Refugio, 3 Niveles, Gran Ub...  3,750,000   \n",
       "3                          Casa Minimalista En Venta  5,650,000   \n",
       "4   Casa En Venta En Las Haciendas En Ciudad Del Sol  1,500,000   \n",
       "\n",
       "                                           Ubication  \\\n",
       "0  Garambullo, Valle De Santiago, Santiago De Que...   \n",
       "1  Residencial El Refugio, Querétaro, QuerétaroVe...   \n",
       "2  Juriquilla, Querétaro, QuerétaroVer informació...   \n",
       "3  Casa En Venta En Las Haciendas En Ciudad Del S...   \n",
       "4                                               None   \n",
       "\n",
       "                                            Features  \n",
       "0                                                 []  \n",
       "1  [Superficie total102 m², Superficie construida...  \n",
       "2  [Superficie total123 m², Superficie construida...  \n",
       "3  [Superficie total286 m², Superficie construida...  \n",
       "4  [Superficie total69 m², Superficie construida0...  "
      ]
     },
     "execution_count": 34,
     "metadata": {},
     "output_type": "execute_result"
    }
   ],
   "source": [
    "df.rename(columns=nuevos_nombres, inplace=True)\n",
    "df.to_csv('resultados_extraido_housing.csv')\n",
    "df.head(10)"
   ]
  },
  {
   "cell_type": "markdown",
   "id": "4fe7222c",
   "metadata": {},
   "source": [
    "* Once we have the information, we can work with this dataset in next stages:\n",
    "    * data cleaning\n",
    "    * data analysis \n",
    "    * preparation to apply a linear regression model to predict price houses"
   ]
  },
  {
   "cell_type": "code",
   "execution_count": 44,
   "id": "7a8d54e2",
   "metadata": {},
   "outputs": [
    {
     "data": {
      "text/plain": [
       "['Superficie total69 m²',\n",
       " 'Superficie construida0 m²',\n",
       " 'Recámaras3',\n",
       " 'Baños1',\n",
       " 'Estacionamientos1',\n",
       " 'Es propiedad en remateNo',\n",
       " 'Antigüedad0 años',\n",
       " 'Ambientes0',\n",
       " 'Bodegas0',\n",
       " 'Cantidad de pisos2',\n",
       " 'Tipo de propiedadCasa sola',\n",
       " 'Mantenimiento0 MXN']"
      ]
     },
     "execution_count": 44,
     "metadata": {},
     "output_type": "execute_result"
    }
   ],
   "source": [
    "df.loc[4,'Features']"
   ]
  },
  {
   "cell_type": "code",
   "execution_count": 38,
   "id": "41ef4630",
   "metadata": {},
   "outputs": [
    {
     "data": {
      "text/html": [
       "<div>\n",
       "<style scoped>\n",
       "    .dataframe tbody tr th:only-of-type {\n",
       "        vertical-align: middle;\n",
       "    }\n",
       "\n",
       "    .dataframe tbody tr th {\n",
       "        vertical-align: top;\n",
       "    }\n",
       "\n",
       "    .dataframe thead th {\n",
       "        text-align: right;\n",
       "    }\n",
       "</style>\n",
       "<table border=\"1\" class=\"dataframe\">\n",
       "  <thead>\n",
       "    <tr style=\"text-align: right;\">\n",
       "      <th></th>\n",
       "      <th>House</th>\n",
       "      <th>Price</th>\n",
       "      <th>Ubication</th>\n",
       "      <th>Features</th>\n",
       "    </tr>\n",
       "  </thead>\n",
       "  <tbody>\n",
       "    <tr>\n",
       "      <th>0</th>\n",
       "      <td>Casa Estilo Californiano En Zona Céntrica A 5m...</td>\n",
       "      <td>5,800,000</td>\n",
       "      <td>Garambullo, Valle De Santiago, Santiago De Que...</td>\n",
       "      <td>[]</td>\n",
       "    </tr>\n",
       "    <tr>\n",
       "      <th>1</th>\n",
       "      <td>Linda Y Cómoda Casa Oportunidad El Garambullo ...</td>\n",
       "      <td>974,001</td>\n",
       "      <td>Residencial El Refugio, Querétaro, QuerétaroVe...</td>\n",
       "      <td>[Superficie total102 m², Superficie construida...</td>\n",
       "    </tr>\n",
       "    <tr>\n",
       "      <th>2</th>\n",
       "      <td>Estrena Casa En El Refugio, 3 Niveles, Gran Ub...</td>\n",
       "      <td>3,750,000</td>\n",
       "      <td>Juriquilla, Querétaro, QuerétaroVer informació...</td>\n",
       "      <td>[Superficie total123 m², Superficie construida...</td>\n",
       "    </tr>\n",
       "    <tr>\n",
       "      <th>3</th>\n",
       "      <td>Casa Minimalista En Venta</td>\n",
       "      <td>5,650,000</td>\n",
       "      <td>Casa En Venta En Las Haciendas En Ciudad Del S...</td>\n",
       "      <td>[Superficie total286 m², Superficie construida...</td>\n",
       "    </tr>\n",
       "    <tr>\n",
       "      <th>4</th>\n",
       "      <td>Casa En Venta En Las Haciendas En Ciudad Del Sol</td>\n",
       "      <td>1,500,000</td>\n",
       "      <td>None</td>\n",
       "      <td>[Superficie total69 m², Superficie construida0...</td>\n",
       "    </tr>\n",
       "  </tbody>\n",
       "</table>\n",
       "</div>"
      ],
      "text/plain": [
       "                                               House      Price  \\\n",
       "0  Casa Estilo Californiano En Zona Céntrica A 5m...  5,800,000   \n",
       "1  Linda Y Cómoda Casa Oportunidad El Garambullo ...    974,001   \n",
       "2  Estrena Casa En El Refugio, 3 Niveles, Gran Ub...  3,750,000   \n",
       "3                          Casa Minimalista En Venta  5,650,000   \n",
       "4   Casa En Venta En Las Haciendas En Ciudad Del Sol  1,500,000   \n",
       "\n",
       "                                           Ubication  \\\n",
       "0  Garambullo, Valle De Santiago, Santiago De Que...   \n",
       "1  Residencial El Refugio, Querétaro, QuerétaroVe...   \n",
       "2  Juriquilla, Querétaro, QuerétaroVer informació...   \n",
       "3  Casa En Venta En Las Haciendas En Ciudad Del S...   \n",
       "4                                               None   \n",
       "\n",
       "                                            Features  \n",
       "0                                                 []  \n",
       "1  [Superficie total102 m², Superficie construida...  \n",
       "2  [Superficie total123 m², Superficie construida...  \n",
       "3  [Superficie total286 m², Superficie construida...  \n",
       "4  [Superficie total69 m², Superficie construida0...  "
      ]
     },
     "execution_count": 38,
     "metadata": {},
     "output_type": "execute_result"
    }
   ],
   "source": [
    "df"
   ]
  },
  {
   "cell_type": "code",
   "execution_count": 45,
   "id": "abd3dd9e",
   "metadata": {},
   "outputs": [
    {
     "data": {
      "text/plain": [
       "0    Garambullo, Valle De Santiago, Santiago De Que...\n",
       "1    Residencial El Refugio, Querétaro, QuerétaroVe...\n",
       "2    Juriquilla, Querétaro, QuerétaroVer informació...\n",
       "3    Casa En Venta En Las Haciendas En Ciudad Del S...\n",
       "4                                                 None\n",
       "Name: Ubication, dtype: object"
      ]
     },
     "execution_count": 45,
     "metadata": {},
     "output_type": "execute_result"
    }
   ],
   "source": [
    "df['Ubication']"
   ]
  },
  {
   "cell_type": "code",
   "execution_count": null,
   "id": "dba27c4e",
   "metadata": {},
   "outputs": [],
   "source": []
  }
 ],
 "metadata": {
  "kernelspec": {
   "display_name": "Python 3",
   "language": "python",
   "name": "python3"
  },
  "language_info": {
   "codemirror_mode": {
    "name": "ipython",
    "version": 3
   },
   "file_extension": ".py",
   "mimetype": "text/x-python",
   "name": "python",
   "nbconvert_exporter": "python",
   "pygments_lexer": "ipython3",
   "version": "3.12.8"
  }
 },
 "nbformat": 4,
 "nbformat_minor": 5
}
