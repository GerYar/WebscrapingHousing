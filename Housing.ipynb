{
 "cells": [
  {
   "cell_type": "markdown",
   "id": "d64abf33",
   "metadata": {},
   "source": [
    "# Webscraping first part of my Housing project"
   ]
  },
  {
   "cell_type": "markdown",
   "id": "7901925c",
   "metadata": {},
   "source": [
    "## Get links for each house"
   ]
  },
  {
   "cell_type": "code",
   "execution_count": 1,
   "id": "63683270",
   "metadata": {},
   "outputs": [],
   "source": [
    "# import libraries\n",
    "import os \n",
    "import requests \n",
    "from bs4 import BeautifulSoup \n",
    "from selenium import webdriver\n",
    "from selenium.webdriver.common.by import By\n",
    "from selenium.webdriver.common.keys import Keys \n",
    "from selenium.webdriver.support.ui import WebDriverWait \n",
    "from selenium.webdriver.support import expected_conditions as EC \n",
    "import time "
   ]
  },
  {
   "cell_type": "code",
   "execution_count": 2,
   "id": "00b7ffcb",
   "metadata": {},
   "outputs": [],
   "source": [
    "#abrir navegador en pagina web\n",
    "driver = webdriver.Chrome()\n",
    "url = 'https://www.mercadolibre.com.mx/'\n",
    "driver.get(url) "
   ]
  },
  {
   "cell_type": "code",
   "execution_count": 3,
   "id": "4f4f8cab",
   "metadata": {},
   "outputs": [],
   "source": [
    "# Búsqueda inicial\n",
    "path_palabra = '//*[@id=\"cb1-edit\"]' \n",
    "palabra = WebDriverWait(driver, 20).until(lambda driver: driver.find_element(By.XPATH, path_palabra)) \n",
    "palabra.send_keys('casas Queretaro') \n",
    "time.sleep(3) \n",
    "palabra.send_keys(Keys.RETURN) "
   ]
  },
  {
   "cell_type": "code",
   "execution_count": 4,
   "id": "aae2230d",
   "metadata": {},
   "outputs": [],
   "source": [
    "# aceptar cookies\n",
    "path_cookies = '/html/body/div[2]/div[1]/div/div[2]/button[1]'\n",
    "cookies = WebDriverWait(driver, 20).until(lambda driver: driver.find_element(By.XPATH, path_cookies))\n",
    "cookies.click()\n",
    "time.sleep(3)"
   ]
  },
  {
   "cell_type": "code",
   "execution_count": 5,
   "id": "cfa36ab4",
   "metadata": {},
   "outputs": [],
   "source": [
    "# Bucle para avanzar a la siguiente página \n",
    "contador = 0\n",
    "\n",
    "Link = []\n",
    "while contador < 1:\n",
    "    time.sleep(4)\n",
    "    \n",
    "    page_source = driver.page_source \n",
    "    soup = BeautifulSoup(page_source, 'html.parser') \n",
    "\n",
    "    elementos = soup.find_all('a', class_='ui-search-link__title-card') \n",
    "   \n",
    "    time.sleep(1)\n",
    "    for i in elementos: \n",
    "        href_valor = i.get('href') \n",
    "        Link.append(href_valor)\n",
    "       \n",
    "    siguiente = WebDriverWait(driver, 20).until(lambda driver: driver.find_element(By.XPATH, '//*[@id=\"root-app\"]/div/div[3]/section/nav/ul/li[12]/a'))\n",
    "    siguiente.click() #dar click                                                             \n",
    "\n",
    "    contador += 1"
   ]
  },
  {
   "cell_type": "code",
   "execution_count": 6,
   "id": "da5c6504",
   "metadata": {},
   "outputs": [],
   "source": [
    "# Cerrar el navegador al finalizar\n",
    "driver.quit()"
   ]
  },
  {
   "cell_type": "code",
   "execution_count": 7,
   "id": "8ea72496",
   "metadata": {},
   "outputs": [
    {
     "name": "stdout",
     "output_type": "stream",
     "text": [
      "48\n"
     ]
    }
   ],
   "source": [
    "#contar los links de cada producto\n",
    "print(len(Link))"
   ]
  },
  {
   "cell_type": "markdown",
   "id": "6787e076",
   "metadata": {},
   "source": [
    "## Creating dataset with links"
   ]
  },
  {
   "cell_type": "code",
   "execution_count": 8,
   "id": "52861841",
   "metadata": {},
   "outputs": [
    {
     "name": "stdout",
     "output_type": "stream",
     "text": [
      "(48, 1)\n"
     ]
    },
    {
     "data": {
      "text/html": [
       "<div>\n",
       "<style scoped>\n",
       "    .dataframe tbody tr th:only-of-type {\n",
       "        vertical-align: middle;\n",
       "    }\n",
       "\n",
       "    .dataframe tbody tr th {\n",
       "        vertical-align: top;\n",
       "    }\n",
       "\n",
       "    .dataframe thead th {\n",
       "        text-align: right;\n",
       "    }\n",
       "</style>\n",
       "<table border=\"1\" class=\"dataframe\">\n",
       "  <thead>\n",
       "    <tr style=\"text-align: right;\">\n",
       "      <th></th>\n",
       "      <th>Link</th>\n",
       "    </tr>\n",
       "  </thead>\n",
       "  <tbody>\n",
       "    <tr>\n",
       "      <th>0</th>\n",
       "      <td>https://casa.mercadolibre.com.mx/MLM-202169808...</td>\n",
       "    </tr>\n",
       "    <tr>\n",
       "      <th>1</th>\n",
       "      <td>https://casa.mercadolibre.com.mx/MLM-202178785...</td>\n",
       "    </tr>\n",
       "    <tr>\n",
       "      <th>2</th>\n",
       "      <td>https://casa.mercadolibre.com.mx/MLM-289347604...</td>\n",
       "    </tr>\n",
       "    <tr>\n",
       "      <th>3</th>\n",
       "      <td>https://casa.mercadolibre.com.mx/MLM-202317787...</td>\n",
       "    </tr>\n",
       "    <tr>\n",
       "      <th>4</th>\n",
       "      <td>https://casa.mercadolibre.com.mx/MLM-202303785...</td>\n",
       "    </tr>\n",
       "    <tr>\n",
       "      <th>5</th>\n",
       "      <td>https://casa.mercadolibre.com.mx/MLM-289067023...</td>\n",
       "    </tr>\n",
       "    <tr>\n",
       "      <th>6</th>\n",
       "      <td>https://casa.mercadolibre.com.mx/MLM-202307101...</td>\n",
       "    </tr>\n",
       "    <tr>\n",
       "      <th>7</th>\n",
       "      <td>https://casa.mercadolibre.com.mx/MLM-202301146...</td>\n",
       "    </tr>\n",
       "    <tr>\n",
       "      <th>8</th>\n",
       "      <td>https://casa.mercadolibre.com.mx/MLM-202185386...</td>\n",
       "    </tr>\n",
       "    <tr>\n",
       "      <th>9</th>\n",
       "      <td>https://casa.mercadolibre.com.mx/MLM-202169808...</td>\n",
       "    </tr>\n",
       "  </tbody>\n",
       "</table>\n",
       "</div>"
      ],
      "text/plain": [
       "                                                Link\n",
       "0  https://casa.mercadolibre.com.mx/MLM-202169808...\n",
       "1  https://casa.mercadolibre.com.mx/MLM-202178785...\n",
       "2  https://casa.mercadolibre.com.mx/MLM-289347604...\n",
       "3  https://casa.mercadolibre.com.mx/MLM-202317787...\n",
       "4  https://casa.mercadolibre.com.mx/MLM-202303785...\n",
       "5  https://casa.mercadolibre.com.mx/MLM-289067023...\n",
       "6  https://casa.mercadolibre.com.mx/MLM-202307101...\n",
       "7  https://casa.mercadolibre.com.mx/MLM-202301146...\n",
       "8  https://casa.mercadolibre.com.mx/MLM-202185386...\n",
       "9  https://casa.mercadolibre.com.mx/MLM-202169808..."
      ]
     },
     "execution_count": 8,
     "metadata": {},
     "output_type": "execute_result"
    }
   ],
   "source": [
    "import pandas as pd\n",
    "resultadosd=[Link]\n",
    "\n",
    "#transponer dataframe\n",
    "df=pd.DataFrame(resultadosd).T\n",
    "# contar elementos\n",
    "print(df.shape)\n",
    "#poner encabezado\n",
    "nuevos_nombres = {\n",
    "    0: 'Link'\n",
    "}\n",
    "\n",
    "df.rename(columns=nuevos_nombres, inplace=True)\n",
    "\n",
    "#exportar a un excel\n",
    "df.to_excel('data_housing.xlsx')\n",
    "df.head(10)"
   ]
  },
  {
   "cell_type": "markdown",
   "id": "d484a3d8",
   "metadata": {},
   "source": [
    "## Extraction info from each link"
   ]
  },
  {
   "cell_type": "code",
   "execution_count": 9,
   "id": "328fdf27",
   "metadata": {
    "scrolled": true
   },
   "outputs": [
    {
     "name": "stdout",
     "output_type": "stream",
     "text": [
      "48\n",
      "Iteracion: 1\n",
      "Iteracion: 2\n",
      "Iteracion: 3\n",
      "Iteracion: 4\n",
      "Iteracion: 5\n",
      "Iteracion: 6\n",
      "Iteracion: 7\n",
      "Iteracion: 8\n",
      "Iteracion: 9\n",
      "Iteracion: 10\n",
      "Iteracion: 11\n",
      "Iteracion: 12\n",
      "Iteracion: 13\n",
      "Iteracion: 14\n",
      "Iteracion: 15\n",
      "Iteracion: 16\n",
      "Iteracion: 17\n",
      "Iteracion: 18\n",
      "Iteracion: 19\n",
      "Iteracion: 20\n",
      "Iteracion: 21\n",
      "Iteracion: 22\n",
      "Iteracion: 23\n",
      "Iteracion: 24\n",
      "Iteracion: 25\n",
      "Iteracion: 26\n",
      "Iteracion: 27\n",
      "Iteracion: 28\n",
      "Iteracion: 29\n",
      "Iteracion: 30\n",
      "Iteracion: 31\n",
      "Iteracion: 32\n",
      "Iteracion: 33\n",
      "Iteracion: 34\n",
      "Iteracion: 35\n",
      "Iteracion: 36\n",
      "Iteracion: 37\n",
      "Iteracion: 38\n",
      "Iteracion: 39\n",
      "Iteracion: 40\n",
      "Iteracion: 41\n",
      "Iteracion: 42\n",
      "Iteracion: 43\n",
      "Iteracion: 44\n",
      "Iteracion: 45\n",
      "Iteracion: 46\n",
      "Iteracion: 47\n",
      "Iteracion: 48\n"
     ]
    }
   ],
   "source": [
    "from selenium.webdriver.chrome.service import Service\n",
    "from webdriver_manager.chrome import ChromeDriverManager\n",
    "\n",
    "service = Service()\n",
    "options = webdriver.ChromeOptions()\n",
    "driver = webdriver.Chrome(service=service, options=options)\n",
    "\n",
    "# leer el excel\n",
    "baselinkproducto = pd.read_excel('data_housing.xlsx')\n",
    "# pasar columna a una lista\n",
    "datalist = baselinkproducto['Link'].tolist()\n",
    "# ver cantidad\n",
    "print(len(datalist))\n",
    "\n",
    "# listas donde se guardara informacion\n",
    "casa=[]\n",
    "precio=[]\n",
    "ubicacion=[]\n",
    "caracteristicas=[]\n",
    "url=[]\n",
    "\n",
    "a= 0\n",
    "for e in datalist:\n",
    "    a=a+1\n",
    "    print(\"Iteracion:\",a)\n",
    "    \n",
    "    driver.get(e)# navegador abrir link\n",
    "    time.sleep(1)\n",
    "    \n",
    "    url.append(e)#agregar link en lista url\n",
    "    time.sleep(4)\n",
    "\n",
    "    soup = BeautifulSoup(driver.page_source,'lxml') #analizador, se carga todo el html en la varibale soup\n",
    "    \n",
    "    # Casa\n",
    "    try:\n",
    "        nombre_casa  = soup.find('h1',class_='ui-pdp-title').text\n",
    "        casa.append(nombre_casa)\n",
    "    except:# IndexError:\n",
    "        pass\n",
    "    \n",
    "    #Capturar precio\n",
    "    try:\n",
    "        precio_elemento  = soup.find('span',class_='andes-money-amount__fraction').text\n",
    "        precio.append(precio_elemento)\n",
    "    except:# IndexError:\n",
    "        pass\n",
    "    \n",
    "    \n",
    "    #Capturar ubicacion\n",
    "    try:\n",
    "        ubicacion_casa  = soup.find('div',class_='ui-pdp-media ui-vip-location__subtitle ui-pdp-color--BLACK').text\n",
    "        ubicacion.append(ubicacion_casa)\n",
    "    except:# IndexError:\n",
    "        pass\n",
    "    \n",
    "    \n",
    "    # Click ver mas caracteristicas\n",
    "    try:                                                                                                \n",
    "        ver_todas_caract = WebDriverWait(driver, 20).until(lambda driver: driver.find_element(By.XPATH, '//*[@id=\"highlighted_specs_attrs\"]/div[3]/div/span'))\n",
    "        ver_todas_caract.click() #dar click                                                              \n",
    "    except:\n",
    "        pass                                                                                           \n",
    "    \n",
    "    \n",
    "    \n",
    "    # Capturar caracteristicas\n",
    "    os_caract=soup.find('tbody',class_='andes-table__body')\n",
    "    if os_caract:\n",
    "        caract = os_caract.find_all('tr', class_='andes-table__row ui-vpp-striped-specs__row')\n",
    "        caract_lista=[uni_caract.text for uni_caract in caract]\n",
    "        caracteristicas.append(caract_lista)\n",
    "    else:\n",
    "        caract_lista=['no disponible','no disponible']\n",
    "        caracteristicas.append(caract_lista)\n",
    "  "
   ]
  },
  {
   "cell_type": "code",
   "execution_count": 10,
   "id": "2a919f4c",
   "metadata": {},
   "outputs": [
    {
     "data": {
      "text/plain": [
       "['Residencia De Autor Con Acabados Premium- Altozano',\n",
       " 'Vivir Con Altura- Altozano']"
      ]
     },
     "execution_count": 10,
     "metadata": {},
     "output_type": "execute_result"
    }
   ],
   "source": [
    "casa[:2]"
   ]
  },
  {
   "cell_type": "code",
   "execution_count": 11,
   "id": "00b51465",
   "metadata": {},
   "outputs": [
    {
     "data": {
      "text/plain": [
       "['21,200,000', '16,450,000']"
      ]
     },
     "execution_count": 11,
     "metadata": {},
     "output_type": "execute_result"
    }
   ],
   "source": [
    "precio[:2]"
   ]
  },
  {
   "cell_type": "code",
   "execution_count": 12,
   "id": "49d364a7",
   "metadata": {},
   "outputs": [
    {
     "data": {
      "text/plain": [
       "['Altozano, Paseos Del Pedregal, Querétaro, QuerétaroVer información de la zona',\n",
       " 'La Condesa, Juriquilla, Juriquilla, Querétaro, QuerétaroVer información de la zona']"
      ]
     },
     "execution_count": 12,
     "metadata": {},
     "output_type": "execute_result"
    }
   ],
   "source": [
    "ubicacion[:2]"
   ]
  },
  {
   "cell_type": "code",
   "execution_count": 13,
   "id": "dcb18edb",
   "metadata": {},
   "outputs": [
    {
     "data": {
      "text/plain": [
       "['Superficie total531 m²',\n",
       " 'Superficie construida450 m²',\n",
       " 'Ambientes9',\n",
       " 'Recámaras4',\n",
       " 'Baños4',\n",
       " 'Estacionamientos4',\n",
       " 'Depósitos0',\n",
       " 'Antigüedad0 años',\n",
       " 'Mantenimiento0 MXN']"
      ]
     },
     "execution_count": 13,
     "metadata": {},
     "output_type": "execute_result"
    }
   ],
   "source": [
    "caracteristicas[1]"
   ]
  },
  {
   "cell_type": "code",
   "execution_count": 14,
   "id": "9168f395",
   "metadata": {},
   "outputs": [
    {
     "name": "stdout",
     "output_type": "stream",
     "text": [
      "(48, 4)\n"
     ]
    }
   ],
   "source": [
    "\n",
    "resultadosd=[casa,precio,ubicacion,caracteristicas]\n",
    "\n",
    "df=pd.DataFrame(resultadosd).T\n",
    "print(df.shape)\n",
    "nuevos_nombres = {\n",
    "    0: 'House',\n",
    "    1: 'Price',\n",
    "    2: 'Ubication',\n",
    "    3: 'Features'\n",
    "    }\n"
   ]
  },
  {
   "cell_type": "markdown",
   "id": "96572a79",
   "metadata": {},
   "source": [
    "## Creation dataset with all features"
   ]
  },
  {
   "cell_type": "code",
   "execution_count": 15,
   "id": "3921947e",
   "metadata": {},
   "outputs": [
    {
     "data": {
      "text/html": [
       "<div>\n",
       "<style scoped>\n",
       "    .dataframe tbody tr th:only-of-type {\n",
       "        vertical-align: middle;\n",
       "    }\n",
       "\n",
       "    .dataframe tbody tr th {\n",
       "        vertical-align: top;\n",
       "    }\n",
       "\n",
       "    .dataframe thead th {\n",
       "        text-align: right;\n",
       "    }\n",
       "</style>\n",
       "<table border=\"1\" class=\"dataframe\">\n",
       "  <thead>\n",
       "    <tr style=\"text-align: right;\">\n",
       "      <th></th>\n",
       "      <th>House</th>\n",
       "      <th>Price</th>\n",
       "      <th>Ubication</th>\n",
       "      <th>Features</th>\n",
       "    </tr>\n",
       "  </thead>\n",
       "  <tbody>\n",
       "    <tr>\n",
       "      <th>0</th>\n",
       "      <td>Residencia De Autor Con Acabados Premium- Alto...</td>\n",
       "      <td>21,200,000</td>\n",
       "      <td>Altozano, Paseos Del Pedregal, Querétaro, Quer...</td>\n",
       "      <td>[no disponible, no disponible]</td>\n",
       "    </tr>\n",
       "    <tr>\n",
       "      <th>1</th>\n",
       "      <td>Vivir Con Altura- Altozano</td>\n",
       "      <td>16,450,000</td>\n",
       "      <td>La Condesa, Juriquilla, Juriquilla, Querétaro,...</td>\n",
       "      <td>[Superficie total531 m², Superficie construida...</td>\n",
       "    </tr>\n",
       "    <tr>\n",
       "      <th>2</th>\n",
       "      <td>4 Habitaciones, Amplio Jardín- La Condesa Juri...</td>\n",
       "      <td>5,722,500</td>\n",
       "      <td>Torre De Piedra Gran Reserva, El Salitre, Quer...</td>\n",
       "      <td>[Superficie total225 m², Superficie construida...</td>\n",
       "    </tr>\n",
       "    <tr>\n",
       "      <th>3</th>\n",
       "      <td>Casa En Venta En Torre De Piedra Gran Reserva,...</td>\n",
       "      <td>4,200,000</td>\n",
       "      <td>Altozano, Paseos Del Pedregal, Querétaro, Quer...</td>\n",
       "      <td>[Superficie total126 m², Superficie construida...</td>\n",
       "    </tr>\n",
       "    <tr>\n",
       "      <th>4</th>\n",
       "      <td>Casa En Venta En Altozano, De 2 Recámaras, Mod...</td>\n",
       "      <td>5,990,000</td>\n",
       "      <td>Zibatá, Zibata, El Marqués, QuerétaroVer infor...</td>\n",
       "      <td>[Superficie total177 m², Superficie construida...</td>\n",
       "    </tr>\n",
       "    <tr>\n",
       "      <th>5</th>\n",
       "      <td>Casa En Venta En Zibatá, De 4 Recámaras Y Roof...</td>\n",
       "      <td>4,173,000</td>\n",
       "      <td>Zibatá, Zibata, El Marqués, QuerétaroVer infor...</td>\n",
       "      <td>[Superficie total108 m², Superficie construida...</td>\n",
       "    </tr>\n",
       "    <tr>\n",
       "      <th>6</th>\n",
       "      <td>Casa En Venta En Zibatá, Con 4 Habitaciones Y ...</td>\n",
       "      <td>9,500,000</td>\n",
       "      <td>Zibatá, Zibata, El Marqués, QuerétaroVer infor...</td>\n",
       "      <td>[Superficie total299 m², Superficie construida...</td>\n",
       "    </tr>\n",
       "    <tr>\n",
       "      <th>7</th>\n",
       "      <td>Casa En Venta En Zibatá, Estilo México  Contem...</td>\n",
       "      <td>9,500,000</td>\n",
       "      <td>Altozano, Paseos Del Pedregal, Querétaro, Quer...</td>\n",
       "      <td>[Superficie total300 m², Superficie construida...</td>\n",
       "    </tr>\n",
       "    <tr>\n",
       "      <th>8</th>\n",
       "      <td>Residencia Con Acabados Premium - Altozano</td>\n",
       "      <td>9,800,000</td>\n",
       "      <td>Jurica, Jurica, Querétaro, QuerétaroVer inform...</td>\n",
       "      <td>[Superficie total250 m², Superficie construida...</td>\n",
       "    </tr>\n",
       "    <tr>\n",
       "      <th>9</th>\n",
       "      <td>Residencia Con Amplios Espacios-jurica</td>\n",
       "      <td>22,000,000</td>\n",
       "      <td>Zibatá, Zibata, El Marqués, QuerétaroVer infor...</td>\n",
       "      <td>[Superficie total1200 m², Superficie construid...</td>\n",
       "    </tr>\n",
       "  </tbody>\n",
       "</table>\n",
       "</div>"
      ],
      "text/plain": [
       "                                               House       Price  \\\n",
       "0  Residencia De Autor Con Acabados Premium- Alto...  21,200,000   \n",
       "1                         Vivir Con Altura- Altozano  16,450,000   \n",
       "2  4 Habitaciones, Amplio Jardín- La Condesa Juri...   5,722,500   \n",
       "3  Casa En Venta En Torre De Piedra Gran Reserva,...   4,200,000   \n",
       "4  Casa En Venta En Altozano, De 2 Recámaras, Mod...   5,990,000   \n",
       "5  Casa En Venta En Zibatá, De 4 Recámaras Y Roof...   4,173,000   \n",
       "6  Casa En Venta En Zibatá, Con 4 Habitaciones Y ...   9,500,000   \n",
       "7  Casa En Venta En Zibatá, Estilo México  Contem...   9,500,000   \n",
       "8         Residencia Con Acabados Premium - Altozano   9,800,000   \n",
       "9             Residencia Con Amplios Espacios-jurica  22,000,000   \n",
       "\n",
       "                                           Ubication  \\\n",
       "0  Altozano, Paseos Del Pedregal, Querétaro, Quer...   \n",
       "1  La Condesa, Juriquilla, Juriquilla, Querétaro,...   \n",
       "2  Torre De Piedra Gran Reserva, El Salitre, Quer...   \n",
       "3  Altozano, Paseos Del Pedregal, Querétaro, Quer...   \n",
       "4  Zibatá, Zibata, El Marqués, QuerétaroVer infor...   \n",
       "5  Zibatá, Zibata, El Marqués, QuerétaroVer infor...   \n",
       "6  Zibatá, Zibata, El Marqués, QuerétaroVer infor...   \n",
       "7  Altozano, Paseos Del Pedregal, Querétaro, Quer...   \n",
       "8  Jurica, Jurica, Querétaro, QuerétaroVer inform...   \n",
       "9  Zibatá, Zibata, El Marqués, QuerétaroVer infor...   \n",
       "\n",
       "                                            Features  \n",
       "0                     [no disponible, no disponible]  \n",
       "1  [Superficie total531 m², Superficie construida...  \n",
       "2  [Superficie total225 m², Superficie construida...  \n",
       "3  [Superficie total126 m², Superficie construida...  \n",
       "4  [Superficie total177 m², Superficie construida...  \n",
       "5  [Superficie total108 m², Superficie construida...  \n",
       "6  [Superficie total299 m², Superficie construida...  \n",
       "7  [Superficie total300 m², Superficie construida...  \n",
       "8  [Superficie total250 m², Superficie construida...  \n",
       "9  [Superficie total1200 m², Superficie construid...  "
      ]
     },
     "execution_count": 15,
     "metadata": {},
     "output_type": "execute_result"
    }
   ],
   "source": [
    "df.rename(columns=nuevos_nombres, inplace=True)\n",
    "df.to_csv('resultados_extraido_housing.csv')\n",
    "df.head(10)"
   ]
  },
  {
   "cell_type": "markdown",
   "id": "4fe7222c",
   "metadata": {},
   "source": [
    "* Once we have the information, we can work with this dataset in next stages:\n",
    "    * data cleaning\n",
    "    * data analysis \n",
    "    * preparation to apply a linear regression model to predict price houses"
   ]
  },
  {
   "cell_type": "code",
   "execution_count": null,
   "id": "7a8d54e2",
   "metadata": {},
   "outputs": [],
   "source": []
  }
 ],
 "metadata": {
  "kernelspec": {
   "display_name": "Python 3 (ipykernel)",
   "language": "python",
   "name": "python3"
  },
  "language_info": {
   "codemirror_mode": {
    "name": "ipython",
    "version": 3
   },
   "file_extension": ".py",
   "mimetype": "text/x-python",
   "name": "python",
   "nbconvert_exporter": "python",
   "pygments_lexer": "ipython3",
   "version": "3.9.13"
  }
 },
 "nbformat": 4,
 "nbformat_minor": 5
}
