{
 "cells": [
  {
   "cell_type": "code",
   "execution_count": 20,
   "id": "583e05f7",
   "metadata": {},
   "outputs": [],
   "source": [
    "import pandas as pd\n",
    "df = pd.read_excel('Indice SHF datos abiertos 4_trim_2023.xlsx')"
   ]
  },
  {
   "cell_type": "code",
   "execution_count": 21,
   "id": "9d994a5d",
   "metadata": {},
   "outputs": [
    {
     "data": {
      "text/html": [
       "<div>\n",
       "<style scoped>\n",
       "    .dataframe tbody tr th:only-of-type {\n",
       "        vertical-align: middle;\n",
       "    }\n",
       "\n",
       "    .dataframe tbody tr th {\n",
       "        vertical-align: top;\n",
       "    }\n",
       "\n",
       "    .dataframe thead th {\n",
       "        text-align: right;\n",
       "    }\n",
       "</style>\n",
       "<table border=\"1\" class=\"dataframe\">\n",
       "  <thead>\n",
       "    <tr style=\"text-align: right;\">\n",
       "      <th></th>\n",
       "      <th>Consecutivo</th>\n",
       "      <th>Global</th>\n",
       "      <th>Estado</th>\n",
       "      <th>Municipio</th>\n",
       "      <th>Trimestre</th>\n",
       "      <th>Año</th>\n",
       "      <th>Indice</th>\n",
       "    </tr>\n",
       "  </thead>\n",
       "  <tbody>\n",
       "    <tr>\n",
       "      <th>0</th>\n",
       "      <td>1</td>\n",
       "      <td>Nacional</td>\n",
       "      <td>NaN</td>\n",
       "      <td>NaN</td>\n",
       "      <td>1</td>\n",
       "      <td>2005</td>\n",
       "      <td>48.47</td>\n",
       "    </tr>\n",
       "    <tr>\n",
       "      <th>1</th>\n",
       "      <td>2</td>\n",
       "      <td>Nueva</td>\n",
       "      <td>NaN</td>\n",
       "      <td>NaN</td>\n",
       "      <td>1</td>\n",
       "      <td>2005</td>\n",
       "      <td>48.20</td>\n",
       "    </tr>\n",
       "    <tr>\n",
       "      <th>2</th>\n",
       "      <td>3</td>\n",
       "      <td>Usada</td>\n",
       "      <td>NaN</td>\n",
       "      <td>NaN</td>\n",
       "      <td>1</td>\n",
       "      <td>2005</td>\n",
       "      <td>48.76</td>\n",
       "    </tr>\n",
       "    <tr>\n",
       "      <th>3</th>\n",
       "      <td>4</td>\n",
       "      <td>Casa sola</td>\n",
       "      <td>NaN</td>\n",
       "      <td>NaN</td>\n",
       "      <td>1</td>\n",
       "      <td>2005</td>\n",
       "      <td>49.08</td>\n",
       "    </tr>\n",
       "    <tr>\n",
       "      <th>4</th>\n",
       "      <td>5</td>\n",
       "      <td>Casa en condominio - depto.</td>\n",
       "      <td>NaN</td>\n",
       "      <td>NaN</td>\n",
       "      <td>1</td>\n",
       "      <td>2005</td>\n",
       "      <td>47.79</td>\n",
       "    </tr>\n",
       "  </tbody>\n",
       "</table>\n",
       "</div>"
      ],
      "text/plain": [
       "   Consecutivo                       Global Estado Municipio  Trimestre   Año  \\\n",
       "0            1                     Nacional    NaN       NaN          1  2005   \n",
       "1            2                        Nueva    NaN       NaN          1  2005   \n",
       "2            3                        Usada    NaN       NaN          1  2005   \n",
       "3            4                    Casa sola    NaN       NaN          1  2005   \n",
       "4            5  Casa en condominio - depto.    NaN       NaN          1  2005   \n",
       "\n",
       "   Indice  \n",
       "0   48.47  \n",
       "1   48.20  \n",
       "2   48.76  \n",
       "3   49.08  \n",
       "4   47.79  "
      ]
     },
     "execution_count": 21,
     "metadata": {},
     "output_type": "execute_result"
    }
   ],
   "source": [
    "df.head(5)"
   ]
  },
  {
   "cell_type": "code",
   "execution_count": 22,
   "id": "bc3aa50a",
   "metadata": {},
   "outputs": [
    {
     "data": {
      "text/html": [
       "<div>\n",
       "<style scoped>\n",
       "    .dataframe tbody tr th:only-of-type {\n",
       "        vertical-align: middle;\n",
       "    }\n",
       "\n",
       "    .dataframe tbody tr th {\n",
       "        vertical-align: top;\n",
       "    }\n",
       "\n",
       "    .dataframe thead th {\n",
       "        text-align: right;\n",
       "    }\n",
       "</style>\n",
       "<table border=\"1\" class=\"dataframe\">\n",
       "  <thead>\n",
       "    <tr style=\"text-align: right;\">\n",
       "      <th></th>\n",
       "      <th>Consecutivo</th>\n",
       "      <th>Global</th>\n",
       "      <th>Estado</th>\n",
       "      <th>Municipio</th>\n",
       "      <th>Trimestre</th>\n",
       "      <th>Año</th>\n",
       "      <th>Indice</th>\n",
       "    </tr>\n",
       "  </thead>\n",
       "  <tbody>\n",
       "    <tr>\n",
       "      <th>9191</th>\n",
       "      <td>9192</td>\n",
       "      <td>NaN</td>\n",
       "      <td>Veracruz</td>\n",
       "      <td>Veracruz</td>\n",
       "      <td>4</td>\n",
       "      <td>2023</td>\n",
       "      <td>165.21</td>\n",
       "    </tr>\n",
       "    <tr>\n",
       "      <th>9192</th>\n",
       "      <td>9193</td>\n",
       "      <td>NaN</td>\n",
       "      <td>Yucatán</td>\n",
       "      <td>Kanasín</td>\n",
       "      <td>4</td>\n",
       "      <td>2023</td>\n",
       "      <td>164.72</td>\n",
       "    </tr>\n",
       "    <tr>\n",
       "      <th>9193</th>\n",
       "      <td>9194</td>\n",
       "      <td>NaN</td>\n",
       "      <td>Yucatán</td>\n",
       "      <td>Mérida</td>\n",
       "      <td>4</td>\n",
       "      <td>2023</td>\n",
       "      <td>171.65</td>\n",
       "    </tr>\n",
       "    <tr>\n",
       "      <th>9194</th>\n",
       "      <td>9195</td>\n",
       "      <td>NaN</td>\n",
       "      <td>Zacatecas</td>\n",
       "      <td>Guadalupe</td>\n",
       "      <td>4</td>\n",
       "      <td>2023</td>\n",
       "      <td>153.13</td>\n",
       "    </tr>\n",
       "    <tr>\n",
       "      <th>9195</th>\n",
       "      <td>9196</td>\n",
       "      <td>NaN</td>\n",
       "      <td>Zacatecas</td>\n",
       "      <td>Zacatecas</td>\n",
       "      <td>4</td>\n",
       "      <td>2023</td>\n",
       "      <td>153.00</td>\n",
       "    </tr>\n",
       "  </tbody>\n",
       "</table>\n",
       "</div>"
      ],
      "text/plain": [
       "      Consecutivo Global     Estado   Municipio  Trimestre   Año  Indice\n",
       "9191         9192    NaN   Veracruz    Veracruz          4  2023  165.21\n",
       "9192         9193    NaN    Yucatán    Kanasín           4  2023  164.72\n",
       "9193         9194    NaN    Yucatán      Mérida          4  2023  171.65\n",
       "9194         9195    NaN  Zacatecas   Guadalupe          4  2023  153.13\n",
       "9195         9196    NaN  Zacatecas  Zacatecas           4  2023  153.00"
      ]
     },
     "execution_count": 22,
     "metadata": {},
     "output_type": "execute_result"
    }
   ],
   "source": [
    "df.tail(5)"
   ]
  },
  {
   "cell_type": "code",
   "execution_count": 23,
   "id": "ffcf0b34",
   "metadata": {},
   "outputs": [
    {
     "name": "stdout",
     "output_type": "stream",
     "text": [
      "<class 'pandas.core.frame.DataFrame'>\n",
      "RangeIndex: 9196 entries, 0 to 9195\n",
      "Data columns (total 7 columns):\n",
      " #   Column       Non-Null Count  Dtype  \n",
      "---  ------       --------------  -----  \n",
      " 0   Consecutivo  9196 non-null   int64  \n",
      " 1   Global       1140 non-null   object \n",
      " 2   Estado       8056 non-null   object \n",
      " 3   Municipio    5624 non-null   object \n",
      " 4   Trimestre    9196 non-null   int64  \n",
      " 5   Año          9196 non-null   int64  \n",
      " 6   Indice       9196 non-null   float64\n",
      "dtypes: float64(1), int64(3), object(3)\n",
      "memory usage: 503.0+ KB\n"
     ]
    }
   ],
   "source": [
    "df.info()"
   ]
  },
  {
   "cell_type": "code",
   "execution_count": 24,
   "id": "58fa98d2",
   "metadata": {},
   "outputs": [
    {
     "data": {
      "text/html": [
       "<div>\n",
       "<style scoped>\n",
       "    .dataframe tbody tr th:only-of-type {\n",
       "        vertical-align: middle;\n",
       "    }\n",
       "\n",
       "    .dataframe tbody tr th {\n",
       "        vertical-align: top;\n",
       "    }\n",
       "\n",
       "    .dataframe thead th {\n",
       "        text-align: right;\n",
       "    }\n",
       "</style>\n",
       "<table border=\"1\" class=\"dataframe\">\n",
       "  <thead>\n",
       "    <tr style=\"text-align: right;\">\n",
       "      <th></th>\n",
       "      <th>Consecutivo</th>\n",
       "      <th>Global</th>\n",
       "      <th>Estado</th>\n",
       "      <th>Municipio</th>\n",
       "      <th>Trimestre</th>\n",
       "      <th>Año</th>\n",
       "      <th>Indice</th>\n",
       "    </tr>\n",
       "  </thead>\n",
       "  <tbody>\n",
       "    <tr>\n",
       "      <th>0</th>\n",
       "      <td>1</td>\n",
       "      <td>Nacional</td>\n",
       "      <td>NaN</td>\n",
       "      <td>NaN</td>\n",
       "      <td>1</td>\n",
       "      <td>2005</td>\n",
       "      <td>48.47</td>\n",
       "    </tr>\n",
       "    <tr>\n",
       "      <th>121</th>\n",
       "      <td>122</td>\n",
       "      <td>Nacional</td>\n",
       "      <td>NaN</td>\n",
       "      <td>NaN</td>\n",
       "      <td>2</td>\n",
       "      <td>2005</td>\n",
       "      <td>50.15</td>\n",
       "    </tr>\n",
       "    <tr>\n",
       "      <th>242</th>\n",
       "      <td>243</td>\n",
       "      <td>Nacional</td>\n",
       "      <td>NaN</td>\n",
       "      <td>NaN</td>\n",
       "      <td>3</td>\n",
       "      <td>2005</td>\n",
       "      <td>51.10</td>\n",
       "    </tr>\n",
       "    <tr>\n",
       "      <th>363</th>\n",
       "      <td>364</td>\n",
       "      <td>Nacional</td>\n",
       "      <td>NaN</td>\n",
       "      <td>NaN</td>\n",
       "      <td>4</td>\n",
       "      <td>2005</td>\n",
       "      <td>50.99</td>\n",
       "    </tr>\n",
       "    <tr>\n",
       "      <th>484</th>\n",
       "      <td>485</td>\n",
       "      <td>Nacional</td>\n",
       "      <td>NaN</td>\n",
       "      <td>NaN</td>\n",
       "      <td>1</td>\n",
       "      <td>2006</td>\n",
       "      <td>52.09</td>\n",
       "    </tr>\n",
       "  </tbody>\n",
       "</table>\n",
       "</div>"
      ],
      "text/plain": [
       "     Consecutivo    Global Estado Municipio  Trimestre   Año  Indice\n",
       "0              1  Nacional    NaN       NaN          1  2005   48.47\n",
       "121          122  Nacional    NaN       NaN          2  2005   50.15\n",
       "242          243  Nacional    NaN       NaN          3  2005   51.10\n",
       "363          364  Nacional    NaN       NaN          4  2005   50.99\n",
       "484          485  Nacional    NaN       NaN          1  2006   52.09"
      ]
     },
     "execution_count": 24,
     "metadata": {},
     "output_type": "execute_result"
    }
   ],
   "source": [
    "df_nacional = df[df['Global']=='Nacional']\n",
    "df_nacional.head(5)"
   ]
  },
  {
   "cell_type": "code",
   "execution_count": 25,
   "id": "9c53531a",
   "metadata": {},
   "outputs": [
    {
     "data": {
      "text/html": [
       "<div>\n",
       "<style scoped>\n",
       "    .dataframe tbody tr th:only-of-type {\n",
       "        vertical-align: middle;\n",
       "    }\n",
       "\n",
       "    .dataframe tbody tr th {\n",
       "        vertical-align: top;\n",
       "    }\n",
       "\n",
       "    .dataframe thead th {\n",
       "        text-align: right;\n",
       "    }\n",
       "</style>\n",
       "<table border=\"1\" class=\"dataframe\">\n",
       "  <thead>\n",
       "    <tr style=\"text-align: right;\">\n",
       "      <th></th>\n",
       "      <th>Trimestre</th>\n",
       "      <th>Año</th>\n",
       "      <th>Indice</th>\n",
       "    </tr>\n",
       "  </thead>\n",
       "  <tbody>\n",
       "    <tr>\n",
       "      <th>0</th>\n",
       "      <td>1</td>\n",
       "      <td>2005</td>\n",
       "      <td>48.47</td>\n",
       "    </tr>\n",
       "    <tr>\n",
       "      <th>121</th>\n",
       "      <td>2</td>\n",
       "      <td>2005</td>\n",
       "      <td>50.15</td>\n",
       "    </tr>\n",
       "    <tr>\n",
       "      <th>242</th>\n",
       "      <td>3</td>\n",
       "      <td>2005</td>\n",
       "      <td>51.10</td>\n",
       "    </tr>\n",
       "    <tr>\n",
       "      <th>363</th>\n",
       "      <td>4</td>\n",
       "      <td>2005</td>\n",
       "      <td>50.99</td>\n",
       "    </tr>\n",
       "    <tr>\n",
       "      <th>484</th>\n",
       "      <td>1</td>\n",
       "      <td>2006</td>\n",
       "      <td>52.09</td>\n",
       "    </tr>\n",
       "    <tr>\n",
       "      <th>...</th>\n",
       "      <td>...</td>\n",
       "      <td>...</td>\n",
       "      <td>...</td>\n",
       "    </tr>\n",
       "    <tr>\n",
       "      <th>8591</th>\n",
       "      <td>4</td>\n",
       "      <td>2022</td>\n",
       "      <td>152.66</td>\n",
       "    </tr>\n",
       "    <tr>\n",
       "      <th>8712</th>\n",
       "      <td>1</td>\n",
       "      <td>2023</td>\n",
       "      <td>157.59</td>\n",
       "    </tr>\n",
       "    <tr>\n",
       "      <th>8833</th>\n",
       "      <td>2</td>\n",
       "      <td>2023</td>\n",
       "      <td>161.41</td>\n",
       "    </tr>\n",
       "    <tr>\n",
       "      <th>8954</th>\n",
       "      <td>3</td>\n",
       "      <td>2023</td>\n",
       "      <td>164.70</td>\n",
       "    </tr>\n",
       "    <tr>\n",
       "      <th>9075</th>\n",
       "      <td>4</td>\n",
       "      <td>2023</td>\n",
       "      <td>168.02</td>\n",
       "    </tr>\n",
       "  </tbody>\n",
       "</table>\n",
       "<p>76 rows × 3 columns</p>\n",
       "</div>"
      ],
      "text/plain": [
       "      Trimestre   Año  Indice\n",
       "0             1  2005   48.47\n",
       "121           2  2005   50.15\n",
       "242           3  2005   51.10\n",
       "363           4  2005   50.99\n",
       "484           1  2006   52.09\n",
       "...         ...   ...     ...\n",
       "8591          4  2022  152.66\n",
       "8712          1  2023  157.59\n",
       "8833          2  2023  161.41\n",
       "8954          3  2023  164.70\n",
       "9075          4  2023  168.02\n",
       "\n",
       "[76 rows x 3 columns]"
      ]
     },
     "execution_count": 25,
     "metadata": {},
     "output_type": "execute_result"
    }
   ],
   "source": [
    "df_nacional = df_nacional.drop(['Consecutivo','Global','Estado','Municipio'],axis=1)\n",
    "df_nacional"
   ]
  },
  {
   "cell_type": "code",
   "execution_count": 31,
   "id": "cc409fab",
   "metadata": {},
   "outputs": [],
   "source": [
    "df_nacional.reset_index(drop=True, inplace=True)"
   ]
  },
  {
   "cell_type": "code",
   "execution_count": 8,
   "id": "d1877c72",
   "metadata": {},
   "outputs": [],
   "source": [
    "df_nacional[\"Quarter\"] = df_nacional.apply(lambda row:'T'+ str(row[\"Trimestre\"])[:-2]+ '-' + str(row[\"Año\"])[:-2], axis=1)"
   ]
  },
  {
   "cell_type": "code",
   "execution_count": 10,
   "id": "8234e0fc",
   "metadata": {},
   "outputs": [
    {
     "data": {
      "text/html": [
       "<div>\n",
       "<style scoped>\n",
       "    .dataframe tbody tr th:only-of-type {\n",
       "        vertical-align: middle;\n",
       "    }\n",
       "\n",
       "    .dataframe tbody tr th {\n",
       "        vertical-align: top;\n",
       "    }\n",
       "\n",
       "    .dataframe thead th {\n",
       "        text-align: right;\n",
       "    }\n",
       "</style>\n",
       "<table border=\"1\" class=\"dataframe\">\n",
       "  <thead>\n",
       "    <tr style=\"text-align: right;\">\n",
       "      <th></th>\n",
       "      <th>Quarter</th>\n",
       "      <th>Indice</th>\n",
       "    </tr>\n",
       "  </thead>\n",
       "  <tbody>\n",
       "    <tr>\n",
       "      <th>0</th>\n",
       "      <td>T1-2005</td>\n",
       "      <td>48.47</td>\n",
       "    </tr>\n",
       "    <tr>\n",
       "      <th>1</th>\n",
       "      <td>T2-2005</td>\n",
       "      <td>50.15</td>\n",
       "    </tr>\n",
       "    <tr>\n",
       "      <th>2</th>\n",
       "      <td>T3-2005</td>\n",
       "      <td>51.10</td>\n",
       "    </tr>\n",
       "    <tr>\n",
       "      <th>3</th>\n",
       "      <td>T4-2005</td>\n",
       "      <td>50.99</td>\n",
       "    </tr>\n",
       "    <tr>\n",
       "      <th>4</th>\n",
       "      <td>T1-2006</td>\n",
       "      <td>52.09</td>\n",
       "    </tr>\n",
       "    <tr>\n",
       "      <th>...</th>\n",
       "      <td>...</td>\n",
       "      <td>...</td>\n",
       "    </tr>\n",
       "    <tr>\n",
       "      <th>71</th>\n",
       "      <td>T4-2022</td>\n",
       "      <td>152.66</td>\n",
       "    </tr>\n",
       "    <tr>\n",
       "      <th>72</th>\n",
       "      <td>T1-2023</td>\n",
       "      <td>157.59</td>\n",
       "    </tr>\n",
       "    <tr>\n",
       "      <th>73</th>\n",
       "      <td>T2-2023</td>\n",
       "      <td>161.41</td>\n",
       "    </tr>\n",
       "    <tr>\n",
       "      <th>74</th>\n",
       "      <td>T3-2023</td>\n",
       "      <td>164.70</td>\n",
       "    </tr>\n",
       "    <tr>\n",
       "      <th>75</th>\n",
       "      <td>T4-2023</td>\n",
       "      <td>168.02</td>\n",
       "    </tr>\n",
       "  </tbody>\n",
       "</table>\n",
       "<p>76 rows × 2 columns</p>\n",
       "</div>"
      ],
      "text/plain": [
       "    Quarter  Indice\n",
       "0   T1-2005   48.47\n",
       "1   T2-2005   50.15\n",
       "2   T3-2005   51.10\n",
       "3   T4-2005   50.99\n",
       "4   T1-2006   52.09\n",
       "..      ...     ...\n",
       "71  T4-2022  152.66\n",
       "72  T1-2023  157.59\n",
       "73  T2-2023  161.41\n",
       "74  T3-2023  164.70\n",
       "75  T4-2023  168.02\n",
       "\n",
       "[76 rows x 2 columns]"
      ]
     },
     "execution_count": 10,
     "metadata": {},
     "output_type": "execute_result"
    }
   ],
   "source": [
    "df_nacional = df_nacional[['Quarter', 'Indice']]\n",
    "df_nacional"
   ]
  },
  {
   "cell_type": "code",
   "execution_count": 11,
   "id": "1f6eb180",
   "metadata": {},
   "outputs": [],
   "source": [
    "import matplotlib.pyplot as plt"
   ]
  },
  {
   "cell_type": "code",
   "execution_count": 19,
   "id": "3f7670c8",
   "metadata": {},
   "outputs": [
    {
     "data": {
      "image/png": "[encoded data removed]",
      "text/plain": [
       "<Figure size 2000x1000 with 1 Axes>"
      ]
     },
     "metadata": {},
     "output_type": "display_data"
    }
   ],
   "source": [
    "fig, ax = plt.subplots()\n",
    "fig.set_size_inches([20,10])\n",
    "\n",
    "ax.plot(df_nacional['Quarter'],\n",
    "       df_nacional['Indice'],\n",
    "       marker='x')\n",
    "plt.xticks(rotation=90)\n",
    "\n",
    "plt.show()"
   ]
  },
  {
   "cell_type": "code",
   "execution_count": 32,
   "id": "eaf0d90f",
   "metadata": {},
   "outputs": [],
   "source": [
    "df_nacional2 = df_nacional"
   ]
  },
  {
   "cell_type": "code",
   "execution_count": 38,
   "id": "79381cec",
   "metadata": {},
   "outputs": [],
   "source": [
    "index_list = df_nacional2['Indice'].tolist()"
   ]
  },
  {
   "cell_type": "code",
   "execution_count": 39,
   "id": "a9de4c10",
   "metadata": {},
   "outputs": [
    {
     "data": {
      "text/plain": [
       "list"
      ]
     },
     "execution_count": 39,
     "metadata": {},
     "output_type": "execute_result"
    }
   ],
   "source": [
    "type(index_list)"
   ]
  },
  {
   "cell_type": "code",
   "execution_count": 40,
   "id": "d109ec8e",
   "metadata": {},
   "outputs": [
    {
     "name": "stdout",
     "output_type": "stream",
     "text": [
      "48.47\n",
      "50.15\n",
      "51.1\n",
      "50.99\n",
      "52.09\n",
      "53.45\n",
      "54.26\n",
      "54.54\n",
      "55.97\n",
      "57.57\n",
      "58.67\n",
      "58.61\n",
      "59.49\n",
      "61.18\n",
      "62.71\n",
      "63.36\n",
      "64.23\n",
      "65.04\n",
      "65.2\n",
      "65.15\n",
      "65.65\n",
      "66.35\n",
      "67.19\n",
      "68.02\n",
      "69.34\n",
      "70.42\n",
      "71.19\n",
      "71.76\n",
      "72.15\n",
      "72.58\n",
      "73.23\n",
      "73.75\n",
      "74.88\n",
      "76.28\n",
      "77.41\n",
      "78.08\n",
      "79.15\n",
      "79.48\n",
      "80.0\n",
      "81.08\n",
      "82.57\n",
      "85.57\n",
      "88.26\n",
      "89.36\n",
      "90.46\n",
      "92.24\n",
      "93.63\n",
      "94.61\n",
      "97.12\n",
      "99.14\n",
      "101.03\n",
      "102.71\n",
      "105.31\n",
      "107.73\n",
      "110.17\n",
      "112.28\n",
      "114.82\n",
      "117.62\n",
      "119.47\n",
      "120.88\n",
      "122.97\n",
      "124.36\n",
      "125.49\n",
      "127.45\n",
      "130.97\n",
      "134.04\n",
      "136.36\n",
      "138.27\n",
      "141.11\n",
      "144.72\n",
      "149.21\n",
      "152.66\n",
      "157.59\n",
      "161.41\n",
      "164.7\n",
      "168.02\n"
     ]
    }
   ],
   "source": [
    "means = []\n",
    "for i in index_list:\n",
    "    count = 0\n",
    "    lista1 = []\n",
    "    if count <= 3:\n",
    "        lista1.append('año')\n",
    "        count+=1\n",
    "        "
   ]
  },
  {
   "cell_type": "code",
   "execution_count": 56,
   "id": "962b84c3",
   "metadata": {},
   "outputs": [],
   "source": [
    "import numpy as np\n",
    "np_lista = np.array(lista)"
   ]
  },
  {
   "cell_type": "code",
   "execution_count": 60,
   "id": "d2577d3a",
   "metadata": {},
   "outputs": [],
   "source": [
    "count=0\n",
    "np_lista = []\n",
    "lista = []\n",
    "for i in index_list:\n",
    "    for e in range(3):\n",
    "        if count <= 3:\n",
    "            lista.append(i)\n",
    "            count+=1"
   ]
  },
  {
   "cell_type": "code",
   "execution_count": 63,
   "id": "00743f49",
   "metadata": {},
   "outputs": [
    {
     "data": {
      "text/plain": [
       "[48.47, 50.15, 51.1, 50.99]"
      ]
     },
     "execution_count": 63,
     "metadata": {},
     "output_type": "execute_result"
    }
   ],
   "source": [
    "lista"
   ]
  },
  {
   "cell_type": "code",
   "execution_count": 64,
   "id": "b3e940b4",
   "metadata": {},
   "outputs": [
    {
     "data": {
      "text/plain": [
       "50.1775"
      ]
     },
     "execution_count": 64,
     "metadata": {},
     "output_type": "execute_result"
    }
   ],
   "source": [
    "np.mean(lista)"
   ]
  },
  {
   "cell_type": "code",
   "execution_count": 65,
   "id": "4f3659ec",
   "metadata": {},
   "outputs": [],
   "source": [
    "promedios = []\n",
    "years = []\n",
    "for i in range(0, len(df_nacional2), 4):\n",
    "    promedios.append(df_nacional2['Indice'][i:i+4].mean())\n",
    "    year = 2005\n",
    "    years.append()\n",
    "#df_promedio = pd.DataFrame(promedios, columns=['Promedio'])\n"
   ]
  },
  {
   "cell_type": "code",
   "execution_count": 66,
   "id": "21511852",
   "metadata": {},
   "outputs": [
    {
     "data": {
      "text/plain": [
       "[50.1775,\n",
       " 53.585,\n",
       " 57.705,\n",
       " 61.685,\n",
       " 64.905,\n",
       " 66.8025,\n",
       " 70.6775,\n",
       " 72.92750000000001,\n",
       " 76.6625,\n",
       " 79.9275,\n",
       " 86.44,\n",
       " 92.735,\n",
       " 99.99999999999999,\n",
       " 108.8725,\n",
       " 118.19749999999999,\n",
       " 125.0675,\n",
       " 134.91,\n",
       " 146.925,\n",
       " 162.93]"
      ]
     },
     "execution_count": 66,
     "metadata": {},
     "output_type": "execute_result"
    }
   ],
   "source": [
    "promedios"
   ]
  },
  {
   "cell_type": "code",
   "execution_count": 69,
   "id": "6beda6a2",
   "metadata": {},
   "outputs": [
    {
     "name": "stdout",
     "output_type": "stream",
     "text": [
      "0\n",
      "4\n",
      "8\n",
      "12\n",
      "16\n"
     ]
    }
   ],
   "source": [
    "for i in range(0,20,4):\n",
    "    print(i)"
   ]
  },
  {
   "cell_type": "code",
   "execution_count": null,
   "id": "cb1081af",
   "metadata": {},
   "outputs": [],
   "source": []
  }
 ],
 "metadata": {
  "kernelspec": {
   "display_name": "Python 3 (ipykernel)",
   "language": "python",
   "name": "python3"
  },
  "language_info": {
   "codemirror_mode": {
    "name": "ipython",
    "version": 3
   },
   "file_extension": ".py",
   "mimetype": "text/x-python",
   "name": "python",
   "nbconvert_exporter": "python",
   "pygments_lexer": "ipython3",
   "version": "3.9.13"
  }
 },
 "nbformat": 4,
 "nbformat_minor": 5
}
