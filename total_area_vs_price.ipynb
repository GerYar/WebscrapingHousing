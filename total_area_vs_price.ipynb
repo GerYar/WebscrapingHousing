{
 "cells": [
  {
   "cell_type": "code",
   "execution_count": 13,
   "id": "251a2f23",
   "metadata": {},
   "outputs": [],
   "source": [
    "# importing libraries\n",
    "import pandas as pd\n",
    "import seaborn as sns\n",
    "import matplotlib.pyplot as plt\n"
   ]
  },
  {
   "cell_type": "code",
   "execution_count": 2,
   "id": "5fc53f28",
   "metadata": {},
   "outputs": [
    {
     "data": {
      "text/html": [
       "<div>\n",
       "<style scoped>\n",
       "    .dataframe tbody tr th:only-of-type {\n",
       "        vertical-align: middle;\n",
       "    }\n",
       "\n",
       "    .dataframe tbody tr th {\n",
       "        vertical-align: top;\n",
       "    }\n",
       "\n",
       "    .dataframe thead th {\n",
       "        text-align: right;\n",
       "    }\n",
       "</style>\n",
       "<table border=\"1\" class=\"dataframe\">\n",
       "  <thead>\n",
       "    <tr style=\"text-align: right;\">\n",
       "      <th></th>\n",
       "      <th>Price</th>\n",
       "      <th>Total_Area_m^2</th>\n",
       "      <th>Built_Area_m^2</th>\n",
       "      <th>Bedrooms</th>\n",
       "      <th>Bathrooms</th>\n",
       "      <th>Parking</th>\n",
       "      <th>Neighborhood</th>\n",
       "    </tr>\n",
       "  </thead>\n",
       "  <tbody>\n",
       "    <tr>\n",
       "      <th>0</th>\n",
       "      <td>5650000.0</td>\n",
       "      <td>314.0</td>\n",
       "      <td>286.0</td>\n",
       "      <td>4.0</td>\n",
       "      <td>5.0</td>\n",
       "      <td>2.0</td>\n",
       "      <td>JURIQUILLA</td>\n",
       "    </tr>\n",
       "    <tr>\n",
       "      <th>1</th>\n",
       "      <td>1595000.0</td>\n",
       "      <td>69.0</td>\n",
       "      <td>0.0</td>\n",
       "      <td>3.0</td>\n",
       "      <td>1.0</td>\n",
       "      <td>1.0</td>\n",
       "      <td>CIUDAD DEL SOL</td>\n",
       "    </tr>\n",
       "    <tr>\n",
       "      <th>2</th>\n",
       "      <td>11190000.0</td>\n",
       "      <td>370.0</td>\n",
       "      <td>0.0</td>\n",
       "      <td>4.0</td>\n",
       "      <td>4.0</td>\n",
       "      <td>3.0</td>\n",
       "      <td>ALTOZANO</td>\n",
       "    </tr>\n",
       "    <tr>\n",
       "      <th>3</th>\n",
       "      <td>790000.0</td>\n",
       "      <td>195.0</td>\n",
       "      <td>150.0</td>\n",
       "      <td>3.0</td>\n",
       "      <td>3.0</td>\n",
       "      <td>2.0</td>\n",
       "      <td>LA JOYA</td>\n",
       "    </tr>\n",
       "    <tr>\n",
       "      <th>4</th>\n",
       "      <td>849000.0</td>\n",
       "      <td>400.0</td>\n",
       "      <td>400.0</td>\n",
       "      <td>5.0</td>\n",
       "      <td>4.0</td>\n",
       "      <td>4.0</td>\n",
       "      <td>JURIQUILLA</td>\n",
       "    </tr>\n",
       "  </tbody>\n",
       "</table>\n",
       "</div>"
      ],
      "text/plain": [
       "        Price  Total_Area_m^2  Built_Area_m^2  Bedrooms  Bathrooms  Parking  \\\n",
       "0   5650000.0           314.0           286.0       4.0        5.0      2.0   \n",
       "1   1595000.0            69.0             0.0       3.0        1.0      1.0   \n",
       "2  11190000.0           370.0             0.0       4.0        4.0      3.0   \n",
       "3    790000.0           195.0           150.0       3.0        3.0      2.0   \n",
       "4    849000.0           400.0           400.0       5.0        4.0      4.0   \n",
       "\n",
       "     Neighborhood  \n",
       "0      JURIQUILLA  \n",
       "1  CIUDAD DEL SOL  \n",
       "2        ALTOZANO  \n",
       "3         LA JOYA  \n",
       "4      JURIQUILLA  "
      ]
     },
     "execution_count": 2,
     "metadata": {},
     "output_type": "execute_result"
    }
   ],
   "source": [
    "df = pd.read_csv('total_houses.csv')\n",
    "df.head()"
   ]
  },
  {
   "cell_type": "code",
   "execution_count": 3,
   "id": "249b947e",
   "metadata": {},
   "outputs": [
    {
     "data": {
      "text/html": [
       "<div>\n",
       "<style scoped>\n",
       "    .dataframe tbody tr th:only-of-type {\n",
       "        vertical-align: middle;\n",
       "    }\n",
       "\n",
       "    .dataframe tbody tr th {\n",
       "        vertical-align: top;\n",
       "    }\n",
       "\n",
       "    .dataframe thead th {\n",
       "        text-align: right;\n",
       "    }\n",
       "</style>\n",
       "<table border=\"1\" class=\"dataframe\">\n",
       "  <thead>\n",
       "    <tr style=\"text-align: right;\">\n",
       "      <th></th>\n",
       "      <th>Price</th>\n",
       "      <th>Total_Area_m^2</th>\n",
       "    </tr>\n",
       "  </thead>\n",
       "  <tbody>\n",
       "    <tr>\n",
       "      <th>0</th>\n",
       "      <td>5650000.0</td>\n",
       "      <td>314.0</td>\n",
       "    </tr>\n",
       "    <tr>\n",
       "      <th>1</th>\n",
       "      <td>1595000.0</td>\n",
       "      <td>69.0</td>\n",
       "    </tr>\n",
       "    <tr>\n",
       "      <th>2</th>\n",
       "      <td>11190000.0</td>\n",
       "      <td>370.0</td>\n",
       "    </tr>\n",
       "    <tr>\n",
       "      <th>3</th>\n",
       "      <td>790000.0</td>\n",
       "      <td>195.0</td>\n",
       "    </tr>\n",
       "    <tr>\n",
       "      <th>4</th>\n",
       "      <td>849000.0</td>\n",
       "      <td>400.0</td>\n",
       "    </tr>\n",
       "  </tbody>\n",
       "</table>\n",
       "</div>"
      ],
      "text/plain": [
       "        Price  Total_Area_m^2\n",
       "0   5650000.0           314.0\n",
       "1   1595000.0            69.0\n",
       "2  11190000.0           370.0\n",
       "3    790000.0           195.0\n",
       "4    849000.0           400.0"
      ]
     },
     "execution_count": 3,
     "metadata": {},
     "output_type": "execute_result"
    }
   ],
   "source": [
    "df = df[['Price','Total_Area_m^2']]\n",
    "df.head()"
   ]
  },
  {
   "cell_type": "markdown",
   "id": "9f0cfb76",
   "metadata": {},
   "source": [
    "# a) Pearson Correlation Coefficient\n"
   ]
  },
  {
   "cell_type": "code",
   "execution_count": 12,
   "id": "8ad1e60c",
   "metadata": {},
   "outputs": [
    {
     "name": "stdout",
     "output_type": "stream",
     "text": [
      "---------------------------coefficient-------------------------------------\n",
      "Pearson coeficient between 'Price' and 'Total_Area_m^2' : 0.127\n"
     ]
    }
   ],
   "source": [
    "from scipy.stats import pearsonr\n",
    "\n",
    "# Calculating the Pearson correlation coefficient for linear function\n",
    "corr_coef ,_= pearsonr(df['Price'], df['Total_Area_m^2'])\n",
    "\n",
    "# Printing values\n",
    "print('---------------------------coefficient-------------------------------------')\n",
    "print(f\"Pearson coeficient between 'Price' and 'Total_Area_m^2' : {corr_coef:.3f}\")"
   ]
  },
  {
   "cell_type": "markdown",
   "id": "0e730f44",
   "metadata": {},
   "source": [
    "What is it?::\n",
    "\n",
    "Pearson's correlation coefficient (r) is a statistical measure that quantifies the strength and direction of a linear relationship between two variables. The value ranges from -1 to 1.\n",
    "\n",
    "r=1: Perfect positive linear correlation.\n",
    "\n",
    "r=−1: Perfect negative linear correlation.\n",
    "\n",
    "r=0: No linear correlation.\n",
    "\n",
    "What happens if it fails?\n",
    "\n",
    "A low value (close to 0) suggests a weak or non-existent linear relationship, indicating that a simple linear model may not be appropriate. However, it's crucial to remember that a low r value only means there's no linear relationship; there could still be a strong non-linear one (e.g., a parabolic curve)."
   ]
  },
  {
   "cell_type": "markdown",
   "id": "de669437",
   "metadata": {},
   "source": [
    "# b) Scatter plot: Dependent variables VS Independent variables"
   ]
  },
  {
   "cell_type": "code",
   "execution_count": 14,
   "id": "4d6363a3",
   "metadata": {},
   "outputs": [
    {
     "data": {
      "image/png": "[encoded data removed]",
      "text/plain": [
       "<Figure size 640x480 with 1 Axes>"
      ]
     },
     "metadata": {},
     "output_type": "display_data"
    }
   ],
   "source": [
    "sns.scatterplot(x=\"Total_Area_m^2\", y=\"Price\", data=df)\n",
    "plt.title(f'Pearson coefficient: {corr_coef:.3f}')\n",
    "plt.show()"
   ]
  },
  {
   "cell_type": "code",
   "execution_count": 6,
   "id": "87fa488e",
   "metadata": {},
   "outputs": [
    {
     "name": "stdout",
     "output_type": "stream",
     "text": [
      "Training set size: 691 datos\n",
      "Testing set size: 173 datos\n"
     ]
    }
   ],
   "source": [
    "# Import the necessary library\n",
    "from sklearn.model_selection import train_test_split\n",
    "from sklearn.linear_model import LinearRegression\n",
    "\n",
    "# Separate the data into features (X) and the target (y)\n",
    "X = df[['Total_Area_m^2']]  # Nota: usamos doble corchete para obtener un DataFrame\n",
    "y = df['Price']\n",
    "\n",
    "# Split the data into 80% for training and 20% for testing\n",
    "X_train, X_test, y_train, y_test = train_test_split(X, y, test_size=0.2, random_state=42)\n",
    "\n",
    "# Print the dataset sizes\n",
    "print(f\"Training set size: {X_train.shape[0]} datos\")\n",
    "print(f\"Testing set size: {X_test.shape[0]} datos\")\n",
    "\n",
    "# Create an instance of the linear regression model\n",
    "model = LinearRegression()\n",
    "\n",
    "# Train the model with the training data\n",
    "model.fit(X_train, y_train)\n",
    "\n",
    "# Make predictions on the training set\n",
    "y_pred_train = model.predict(X_train)"
   ]
  },
  {
   "cell_type": "markdown",
   "id": "ef1057fe",
   "metadata": {},
   "source": [
    "# c) Residuals analysis"
   ]
  },
  {
   "cell_type": "code",
   "execution_count": 15,
   "id": "aeabfa49",
   "metadata": {},
   "outputs": [
    {
     "data": {
      "image/png": "[encoded data removed]",
      "text/plain": [
       "<Figure size 640x480 with 1 Axes>"
      ]
     },
     "metadata": {},
     "output_type": "display_data"
    }
   ],
   "source": [
    "# 2. Calcular los residuos\n",
    "residuos = y_train - y_pred_train\n",
    "\n",
    "# Crear el gráfico de residuos vs. predicciones\n",
    "#plt.figure(figsize=(15, 5))\n",
    "plt.scatter(y_pred_train, residuos, alpha=0.7, s=100, color= 'green') # 'alpha' para mejor visualización si hay muchos puntos\n",
    "plt.title('Gráfico de Residuos vs. Predicciones')\n",
    "plt.xlabel('Predicciones del Modelo')\n",
    "plt.ylabel('Residuos (y_test - y_pred)')\n",
    "plt.axhline(y=0, color='red', linestyle='--', linewidth=2, label='Línea cero')\n",
    "plt.legend()\n",
    "plt.grid(True)"
   ]
  },
  {
   "cell_type": "markdown",
   "id": "f72ae9df",
   "metadata": {},
   "source": [
    "**What is it?**\n",
    "\n",
    "A residuals plot is a scatter plot of the residuals (the difference between the actual and predicted values) on the y-axis and the predicted values on the x-axis. It is a key post-modeling diagnostic tool. For a well-fitted linear model, the residuals should be randomly scattered around a horizontal line at zero, showing no discernible pattern.\n",
    "\n",
    "**What happens if it fails?**\n",
    "\n",
    "If the plot shows a clear pattern (e.g., a parabolic curve, a fan shape, or a funnel shape), it indicates a violation of the linearity assumption. A common failure is a \"U\" or inverted \"U\" shape, which suggests the model is underestimating and overestimating the dependent variable at different ranges. A fan shape (known as heteroscedasticity) indicates that the variance of the residuals is not constant, which also violates a key regression assumption.\n",
    "\n",
    "**What can we do to fix it?**\n",
    "\n",
    "If a pattern appears in the residuals plot, it's a strong sign that the model is mis-specified. You should:\n",
    "\n",
    "Revisit the scatter plots of your variables to identify the non-linear relationship.\n",
    "\n",
    "Transform the dependent or independent variables to linearize the relationship.\n",
    "\n",
    "Add a polynomial term (e.g., x\n",
    "2\n",
    " ) to your model to capture the curve."
   ]
  },
  {
   "cell_type": "markdown",
   "id": "13057569",
   "metadata": {},
   "source": [
    "# d) Ramsey's RESET Test"
   ]
  },
  {
   "cell_type": "code",
   "execution_count": 16,
   "id": "c32c76da",
   "metadata": {},
   "outputs": [
    {
     "name": "stdout",
     "output_type": "stream",
     "text": [
      "<F test: F=39.33507765430226, p=6.306978083049801e-10, df_denom=688, df_num=1>\n"
     ]
    }
   ],
   "source": [
    "from sklearn.model_selection import train_test_split\n",
    "from sklearn.linear_model import LinearRegression\n",
    "import statsmodels.api as sm\n",
    "from statsmodels.stats.diagnostic import linear_reset\n",
    "\n",
    "# Dividir en train/test\n",
    "#X_train, X_test, y_train, y_test = train_test_split(X, y, test_size=0.2, random_state=42)\n",
    "\n",
    "# Modelo con sklearn\n",
    "#model_sklearn = LinearRegression().fit(X_train, y_train)\n",
    "\n",
    "# Ajustar modelo equivalente con statsmodels en train\n",
    "X_train_sm = sm.add_constant(X_train)\n",
    "model_sm = sm.OLS(y_train, X_train_sm).fit()\n",
    "\n",
    "# Prueba de Ramsey en TRAIN\n",
    "reset_test = linear_reset(model_sm, power=2, use_f=True)\n",
    "print(reset_test)"
   ]
  },
  {
   "cell_type": "markdown",
   "id": "8b944ccd",
   "metadata": {},
   "source": [
    "What is it?\n",
    "\n",
    "The Ramsey's RESET (Regression Equation Specification Error Test) is a formal statistical test that checks if a non-linear combination of the fitted values has any power to explain the response variable. It works by fitting a new model that includes powers of the fitted values from the original model. If these new terms are statistically significant, the original model is likely mis-specified.\n",
    "\n",
    "What happens if it fails?\n",
    "\n",
    "The test reports a p-value.\n",
    "\n",
    "Low p-value (typically < 0.05): You reject the null hypothesis that the model is correctly specified. This is a red flag that your linear model is missing important non-linear terms.\n",
    "\n",
    "High p-value (> 0.05): You fail to reject the null hypothesis. The test provides no evidence that the model is mis-specified.\n",
    "El resultado te da un F-test con su p-value:\n",
    "\n",
    "p-value > 0.05 → No se rechaza la hipótesis nula → el modelo lineal parece correcto.\n",
    "\n",
    "p-value < 0.05 → Se rechaza → hay evidencia de no linealidad o mala especificación."
   ]
  },
  {
   "cell_type": "code",
   "execution_count": null,
   "id": "5bc2456d",
   "metadata": {},
   "outputs": [],
   "source": []
  }
 ],
 "metadata": {
  "kernelspec": {
   "display_name": "Python 3",
   "language": "python",
   "name": "python3"
  },
  "language_info": {
   "codemirror_mode": {
    "name": "ipython",
    "version": 3
   },
   "file_extension": ".py",
   "mimetype": "text/x-python",
   "name": "python",
   "nbconvert_exporter": "python",
   "pygments_lexer": "ipython3",
   "version": "3.12.10"
  }
 },
 "nbformat": 4,
 "nbformat_minor": 5
}
